{
 "cells": [
  {
   "cell_type": "code",
   "execution_count": null,
   "id": "9df7b73d",
   "metadata": {},
   "outputs": [],
   "source": [
    "\"\"\"\n",
    "Can you build a multivariate linear regression model that can predict the product sales based on the advertising budget allocated to different channels. The features are TV Budget ($),Radio Budget ($),Newspaper Budget ($) and the output is Sales (units)\n",
    "The dataset is give below\n",
    "TV Budget ($),Radio Budget ($),Newspaper Budget ($),Sales (units)\n",
    "230.1,37.8,69.2,22.1\n",
    "44.5,39.3,45.1,10.4\n",
    "17.2,45.9,69.3,9.3\n",
    "151.5,41.3,58.5,18.5\n",
    "180.8,10.8,58.4,12.9\n",
    "8.7,48.9,75.0,7.2\n",
    "57.5,32.8,23.5,11.8\n",
    "120.2,19.6,11.6,13.2\n",
    "144.1,16.0,40.3,15.6\n",
    "111.6,12.6,37.9,12.2\n",
    "\"\"\""
   ]
  },
  {
   "cell_type": "markdown",
   "id": "3f3d9545",
   "metadata": {},
   "source": [
    "## step 1: import the libraries"
   ]
  },
  {
   "cell_type": "code",
   "execution_count": 1,
   "id": "fa4ea5bf",
   "metadata": {},
   "outputs": [],
   "source": [
    "import numpy as np\n",
    "import matplotlib.pyplot as plt\n",
    "import pandas as pd\n",
    "from sklearn.model_selection import train_test_split\n",
    "from sklearn.linear_model import LinearRegression"
   ]
  },
  {
   "cell_type": "markdown",
   "id": "28030e7a",
   "metadata": {},
   "source": [
    "## Step 2: convert the data into dataframe"
   ]
  },
  {
   "cell_type": "code",
   "execution_count": 5,
   "id": "f6b024c9",
   "metadata": {},
   "outputs": [],
   "source": [
    "data = {\"TV Budget ($)\": [230.1, 44.5, 17.2, 151.5, 180.8, 8.7, 57.5, 120.2, 144.1, 111.6], \n",
    "\"Radio Budget ($)\": [37.8, 39.3, 45.9, 41.3, 10.8, 48.9, 32.8, 19.6, 16.0, 12.6],\n",
    "\"Newspaper Budget ($)\": [69.2, 45.1, 69.3, 58.5, 58.4, 75.0, 23.5, 11.6, 40.3, 37.9],\n",
    "\"Sales (units)\": [22.1, 10.4, 9.3, 18.5, 12.9, 7.2, 11.8, 13.2, 15.6, 12.2]}\n",
    "df = pd.DataFrame(data)\n",
    "\n"
   ]
  },
  {
   "cell_type": "code",
   "execution_count": 6,
   "id": "3f58a957",
   "metadata": {},
   "outputs": [
    {
     "name": "stdout",
     "output_type": "stream",
     "text": [
      "   TV Budget ($)  Radio Budget ($)  Newspaper Budget ($)  Sales (units)\n",
      "0          230.1              37.8                  69.2           22.1\n",
      "1           44.5              39.3                  45.1           10.4\n",
      "2           17.2              45.9                  69.3            9.3\n",
      "3          151.5              41.3                  58.5           18.5\n",
      "4          180.8              10.8                  58.4           12.9\n",
      "5            8.7              48.9                  75.0            7.2\n",
      "6           57.5              32.8                  23.5           11.8\n",
      "7          120.2              19.6                  11.6           13.2\n",
      "8          144.1              16.0                  40.3           15.6\n",
      "9          111.6              12.6                  37.9           12.2\n"
     ]
    }
   ],
   "source": [
    "print(df)"
   ]
  },
  {
   "cell_type": "markdown",
   "id": "2907d9aa",
   "metadata": {},
   "source": [
    "## Step 3: splitting it to input and output\n"
   ]
  },
  {
   "cell_type": "code",
   "execution_count": 7,
   "id": "d179b009",
   "metadata": {},
   "outputs": [],
   "source": [
    "inputX = df[[\"TV Budget ($)\", \"Radio Budget ($)\", \"Newspaper Budget ($)\"]]\n",
    "outputY = df[\"Sales (units)\"] \n",
    "input_train, input_test, output_train, output_test = train_test_split(inputX, outputY, test_size=0.2, random_state=42)\n",
    "\n",
    "\n",
    "         "
   ]
  },
  {
   "cell_type": "markdown",
   "id": "81ab6599",
   "metadata": {},
   "source": [
    "## Step 4: selecting the simple Linear Regression model"
   ]
  },
  {
   "cell_type": "code",
   "execution_count": 8,
   "id": "3eb984ab",
   "metadata": {},
   "outputs": [
    {
     "name": "stdout",
     "output_type": "stream",
     "text": [
      "\n",
      "The parameters of the model are\n",
      "\n",
      " {'copy_X': True, 'fit_intercept': True, 'n_jobs': None, 'positive': False, 'tol': 1e-06}\n",
      "\n",
      "The model we are using is  LinearRegression()\n"
     ]
    }
   ],
   "source": [
    "model = LinearRegression()\n",
    "print(\"\\nThe parameters of the model are\\n\\n\",model.get_params())\n",
    "\n",
    "print(\"\\nThe model we are using is \", model.fit(input_train, output_train))"
   ]
  },
  {
   "cell_type": "markdown",
   "id": "bff15734",
   "metadata": {},
   "source": [
    "## Step 5 : Testing or Model prediction using testinput"
   ]
  },
  {
   "cell_type": "code",
   "execution_count": 10,
   "id": "492f4883",
   "metadata": {},
   "outputs": [
    {
     "name": "stdout",
     "output_type": "stream",
     "text": [
      "\n",
      "The predicted output for the input [[111.6  12.6  37.9]] is [10.61828183]\n",
      "\n",
      "The model score is 0.6442358724892807\n",
      "\n",
      "The coefficients of the model are [ 0.07039746  0.19752163 -0.06075034]\n",
      "\n",
      "The intercept of the model is 2.5755906479631854\n"
     ]
    },
    {
     "name": "stderr",
     "output_type": "stream",
     "text": [
      "c:\\genai\\gen3\\Lib\\site-packages\\sklearn\\utils\\validation.py:2749: UserWarning: X does not have valid feature names, but LinearRegression was fitted with feature names\n",
      "  warnings.warn(\n"
     ]
    }
   ],
   "source": [
    "\n",
    "testinput = np.array([[150, 30, 40]])\n",
    "testinput = np.array([[111.6 ,12.6 ,37.9]])\n",
    "predicted_output = model.predict(testinput)\n",
    "\n",
    "print(\"\\nThe predicted output for the input\", testinput, \"is\", predicted_output)\n",
    "print(\"\\nThe model score is\", model.score(input_test, output_test))\n",
    "print(\"\\nThe coefficients of the model are\", model.coef_)\n",
    "print(\"\\nThe intercept of the model is\", model.intercept_)         "
   ]
  },
  {
   "cell_type": "markdown",
   "id": "ce63a05d",
   "metadata": {},
   "source": [
    "### step 6: Visualising the training results"
   ]
  },
  {
   "cell_type": "code",
   "execution_count": 15,
   "id": "e445b295",
   "metadata": {},
   "outputs": [
    {
     "data": {
      "image/png": "[encoded data removed]",
      "text/plain": [
       "<Figure size 640x480 with 1 Axes>"
      ]
     },
     "metadata": {},
     "output_type": "display_data"
    }
   ],
   "source": [
    "# Plotting the results\n",
    "plt.scatter(output_test, model.predict(input_test), color='blue')   \n",
    "plt.xlabel('Actual Sales (units)')\n",
    "plt.ylabel('Predicted Sales (units)')       \n",
    "plt.title('Actual vs Predicted Sales')\n",
    "plt.plot([output_test.min(), output_test.max()], [output_test.min(), output_test.max()], color='red', lw=2)  # Diagonal line\n",
    "plt.show()"
   ]
  },
  {
   "cell_type": "code",
   "execution_count": null,
   "id": "5e234554",
   "metadata": {},
   "outputs": [],
   "source": [
    "# Save the model if needed\n",
    "import joblib\n",
    "joblib.dump(model, 'sales_prediction_model.pkl')"
   ]
  }
 ],
 "metadata": {
  "kernelspec": {
   "display_name": "gen3",
   "language": "python",
   "name": "python3"
  },
  "language_info": {
   "codemirror_mode": {
    "name": "ipython",
    "version": 3
   },
   "file_extension": ".py",
   "mimetype": "text/x-python",
   "name": "python",
   "nbconvert_exporter": "python",
   "pygments_lexer": "ipython3",
   "version": "3.11.4"
  }
 },
 "nbformat": 4,
 "nbformat_minor": 5
}
