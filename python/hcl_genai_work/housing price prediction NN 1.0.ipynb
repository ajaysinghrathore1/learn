{
 "cells": [
  {
   "cell_type": "code",
   "execution_count": 21,
   "id": "c54f6332",
   "metadata": {},
   "outputs": [],
   "source": [
    "# Create your first MLP in Keras\n",
    "from keras.models import Sequential \n",
    "from keras.layers import Dense, Flatten, Softmax\n",
    "from keras.layers import Dense\n",
    "import numpy\n",
    "import pandas as pd\n",
    "\n",
    "##\n",
    "from sklearn.model_selection import train_test_split\n",
    "from sklearn.preprocessing import MinMaxScaler\n",
    "\n",
    "# visualization\n",
    "import seaborn as sns\n",
    "import matplotlib.pyplot as plt\n",
    "%matplotlib inline\n",
    "\n",
    "# evaluation on test data\n",
    "from sklearn.metrics import mean_squared_error,mean_absolute_error,explained_variance_score\n",
    "from sklearn.metrics import classification_report,confusion_matrix"
   ]
  },
  {
   "cell_type": "code",
   "execution_count": 22,
   "id": "26b5c9cf",
   "metadata": {},
   "outputs": [],
   "source": [
    "\n",
    "# load pima indians dataset\n",
    "dataset = numpy.loadtxt(\"..\\dataset\\home.csv\", delimiter=\",\")\n",
    "\n"
   ]
  },
  {
   "cell_type": "markdown",
   "id": "21292567",
   "metadata": {},
   "source": [
    "### convert dataset as pandas dataframe"
   ]
  },
  {
   "cell_type": "code",
   "execution_count": 23,
   "id": "10da76e6",
   "metadata": {},
   "outputs": [
    {
     "data": {
      "application/vnd.microsoft.datawrangler.viewer.v0+json": {
       "columns": [
        {
         "name": "index",
         "rawType": "int64",
         "type": "integer"
        },
        {
         "name": "square_feet",
         "rawType": "float64",
         "type": "float"
        },
        {
         "name": "bedrooms",
         "rawType": "float64",
         "type": "float"
        },
        {
         "name": "price",
         "rawType": "float64",
         "type": "float"
        }
       ],
       "ref": "a41ac6a5-f537-410b-98ba-cff683b55ced",
       "rows": [
        [
         "0",
         "2104.0",
         "3.0",
         "399900.0"
        ],
        [
         "1",
         "1600.0",
         "3.0",
         "329900.0"
        ],
        [
         "2",
         "2400.0",
         "3.0",
         "369000.0"
        ],
        [
         "3",
         "1416.0",
         "2.0",
         "232000.0"
        ],
        [
         "4",
         "3000.0",
         "4.0",
         "539900.0"
        ],
        [
         "5",
         "1985.0",
         "4.0",
         "299900.0"
        ],
        [
         "6",
         "1534.0",
         "3.0",
         "314900.0"
        ],
        [
         "7",
         "1427.0",
         "3.0",
         "198999.0"
        ],
        [
         "8",
         "1380.0",
         "3.0",
         "212000.0"
        ],
        [
         "9",
         "1494.0",
         "3.0",
         "242500.0"
        ],
        [
         "10",
         "1940.0",
         "4.0",
         "239999.0"
        ],
        [
         "11",
         "2000.0",
         "3.0",
         "347000.0"
        ],
        [
         "12",
         "1890.0",
         "3.0",
         "329999.0"
        ],
        [
         "13",
         "4478.0",
         "5.0",
         "699900.0"
        ],
        [
         "14",
         "1268.0",
         "3.0",
         "259900.0"
        ],
        [
         "15",
         "2300.0",
         "4.0",
         "449900.0"
        ],
        [
         "16",
         "1320.0",
         "2.0",
         "299900.0"
        ],
        [
         "17",
         "1236.0",
         "3.0",
         "199900.0"
        ],
        [
         "18",
         "2609.0",
         "4.0",
         "499998.0"
        ],
        [
         "19",
         "3031.0",
         "4.0",
         "599000.0"
        ],
        [
         "20",
         "1767.0",
         "3.0",
         "252900.0"
        ],
        [
         "21",
         "1888.0",
         "2.0",
         "255000.0"
        ],
        [
         "22",
         "1604.0",
         "3.0",
         "242900.0"
        ],
        [
         "23",
         "1962.0",
         "4.0",
         "259900.0"
        ],
        [
         "24",
         "3890.0",
         "3.0",
         "573900.0"
        ],
        [
         "25",
         "1100.0",
         "3.0",
         "249900.0"
        ],
        [
         "26",
         "1458.0",
         "3.0",
         "464500.0"
        ],
        [
         "27",
         "2526.0",
         "3.0",
         "469000.0"
        ],
        [
         "28",
         "2200.0",
         "3.0",
         "475000.0"
        ],
        [
         "29",
         "2637.0",
         "3.0",
         "299900.0"
        ],
        [
         "30",
         "1839.0",
         "2.0",
         "349900.0"
        ],
        [
         "31",
         "1000.0",
         "1.0",
         "169900.0"
        ],
        [
         "32",
         "2040.0",
         "4.0",
         "314900.0"
        ],
        [
         "33",
         "3137.0",
         "3.0",
         "579900.0"
        ],
        [
         "34",
         "1811.0",
         "4.0",
         "285900.0"
        ],
        [
         "35",
         "1437.0",
         "3.0",
         "249900.0"
        ],
        [
         "36",
         "1239.0",
         "3.0",
         "229900.0"
        ],
        [
         "37",
         "2132.0",
         "4.0",
         "345000.0"
        ],
        [
         "38",
         "4215.0",
         "4.0",
         "549000.0"
        ],
        [
         "39",
         "2162.0",
         "4.0",
         "287000.0"
        ],
        [
         "40",
         "1664.0",
         "2.0",
         "368500.0"
        ],
        [
         "41",
         "2238.0",
         "3.0",
         "329900.0"
        ],
        [
         "42",
         "2567.0",
         "4.0",
         "314000.0"
        ],
        [
         "43",
         "1200.0",
         "3.0",
         "299000.0"
        ],
        [
         "44",
         "852.0",
         "2.0",
         "179900.0"
        ],
        [
         "45",
         "1852.0",
         "4.0",
         "299900.0"
        ],
        [
         "46",
         "1203.0",
         "3.0",
         "239500.0"
        ]
       ],
       "shape": {
        "columns": 3,
        "rows": 47
       }
      },
      "text/html": [
       "<div>\n",
       "<style scoped>\n",
       "    .dataframe tbody tr th:only-of-type {\n",
       "        vertical-align: middle;\n",
       "    }\n",
       "\n",
       "    .dataframe tbody tr th {\n",
       "        vertical-align: top;\n",
       "    }\n",
       "\n",
       "    .dataframe thead th {\n",
       "        text-align: right;\n",
       "    }\n",
       "</style>\n",
       "<table border=\"1\" class=\"dataframe\">\n",
       "  <thead>\n",
       "    <tr style=\"text-align: right;\">\n",
       "      <th></th>\n",
       "      <th>square_feet</th>\n",
       "      <th>bedrooms</th>\n",
       "      <th>price</th>\n",
       "    </tr>\n",
       "  </thead>\n",
       "  <tbody>\n",
       "    <tr>\n",
       "      <th>0</th>\n",
       "      <td>2104.0</td>\n",
       "      <td>3.0</td>\n",
       "      <td>399900.0</td>\n",
       "    </tr>\n",
       "    <tr>\n",
       "      <th>1</th>\n",
       "      <td>1600.0</td>\n",
       "      <td>3.0</td>\n",
       "      <td>329900.0</td>\n",
       "    </tr>\n",
       "    <tr>\n",
       "      <th>2</th>\n",
       "      <td>2400.0</td>\n",
       "      <td>3.0</td>\n",
       "      <td>369000.0</td>\n",
       "    </tr>\n",
       "    <tr>\n",
       "      <th>3</th>\n",
       "      <td>1416.0</td>\n",
       "      <td>2.0</td>\n",
       "      <td>232000.0</td>\n",
       "    </tr>\n",
       "    <tr>\n",
       "      <th>4</th>\n",
       "      <td>3000.0</td>\n",
       "      <td>4.0</td>\n",
       "      <td>539900.0</td>\n",
       "    </tr>\n",
       "    <tr>\n",
       "      <th>5</th>\n",
       "      <td>1985.0</td>\n",
       "      <td>4.0</td>\n",
       "      <td>299900.0</td>\n",
       "    </tr>\n",
       "    <tr>\n",
       "      <th>6</th>\n",
       "      <td>1534.0</td>\n",
       "      <td>3.0</td>\n",
       "      <td>314900.0</td>\n",
       "    </tr>\n",
       "    <tr>\n",
       "      <th>7</th>\n",
       "      <td>1427.0</td>\n",
       "      <td>3.0</td>\n",
       "      <td>198999.0</td>\n",
       "    </tr>\n",
       "    <tr>\n",
       "      <th>8</th>\n",
       "      <td>1380.0</td>\n",
       "      <td>3.0</td>\n",
       "      <td>212000.0</td>\n",
       "    </tr>\n",
       "    <tr>\n",
       "      <th>9</th>\n",
       "      <td>1494.0</td>\n",
       "      <td>3.0</td>\n",
       "      <td>242500.0</td>\n",
       "    </tr>\n",
       "    <tr>\n",
       "      <th>10</th>\n",
       "      <td>1940.0</td>\n",
       "      <td>4.0</td>\n",
       "      <td>239999.0</td>\n",
       "    </tr>\n",
       "    <tr>\n",
       "      <th>11</th>\n",
       "      <td>2000.0</td>\n",
       "      <td>3.0</td>\n",
       "      <td>347000.0</td>\n",
       "    </tr>\n",
       "    <tr>\n",
       "      <th>12</th>\n",
       "      <td>1890.0</td>\n",
       "      <td>3.0</td>\n",
       "      <td>329999.0</td>\n",
       "    </tr>\n",
       "    <tr>\n",
       "      <th>13</th>\n",
       "      <td>4478.0</td>\n",
       "      <td>5.0</td>\n",
       "      <td>699900.0</td>\n",
       "    </tr>\n",
       "    <tr>\n",
       "      <th>14</th>\n",
       "      <td>1268.0</td>\n",
       "      <td>3.0</td>\n",
       "      <td>259900.0</td>\n",
       "    </tr>\n",
       "    <tr>\n",
       "      <th>15</th>\n",
       "      <td>2300.0</td>\n",
       "      <td>4.0</td>\n",
       "      <td>449900.0</td>\n",
       "    </tr>\n",
       "    <tr>\n",
       "      <th>16</th>\n",
       "      <td>1320.0</td>\n",
       "      <td>2.0</td>\n",
       "      <td>299900.0</td>\n",
       "    </tr>\n",
       "    <tr>\n",
       "      <th>17</th>\n",
       "      <td>1236.0</td>\n",
       "      <td>3.0</td>\n",
       "      <td>199900.0</td>\n",
       "    </tr>\n",
       "    <tr>\n",
       "      <th>18</th>\n",
       "      <td>2609.0</td>\n",
       "      <td>4.0</td>\n",
       "      <td>499998.0</td>\n",
       "    </tr>\n",
       "    <tr>\n",
       "      <th>19</th>\n",
       "      <td>3031.0</td>\n",
       "      <td>4.0</td>\n",
       "      <td>599000.0</td>\n",
       "    </tr>\n",
       "    <tr>\n",
       "      <th>20</th>\n",
       "      <td>1767.0</td>\n",
       "      <td>3.0</td>\n",
       "      <td>252900.0</td>\n",
       "    </tr>\n",
       "    <tr>\n",
       "      <th>21</th>\n",
       "      <td>1888.0</td>\n",
       "      <td>2.0</td>\n",
       "      <td>255000.0</td>\n",
       "    </tr>\n",
       "    <tr>\n",
       "      <th>22</th>\n",
       "      <td>1604.0</td>\n",
       "      <td>3.0</td>\n",
       "      <td>242900.0</td>\n",
       "    </tr>\n",
       "    <tr>\n",
       "      <th>23</th>\n",
       "      <td>1962.0</td>\n",
       "      <td>4.0</td>\n",
       "      <td>259900.0</td>\n",
       "    </tr>\n",
       "    <tr>\n",
       "      <th>24</th>\n",
       "      <td>3890.0</td>\n",
       "      <td>3.0</td>\n",
       "      <td>573900.0</td>\n",
       "    </tr>\n",
       "    <tr>\n",
       "      <th>25</th>\n",
       "      <td>1100.0</td>\n",
       "      <td>3.0</td>\n",
       "      <td>249900.0</td>\n",
       "    </tr>\n",
       "    <tr>\n",
       "      <th>26</th>\n",
       "      <td>1458.0</td>\n",
       "      <td>3.0</td>\n",
       "      <td>464500.0</td>\n",
       "    </tr>\n",
       "    <tr>\n",
       "      <th>27</th>\n",
       "      <td>2526.0</td>\n",
       "      <td>3.0</td>\n",
       "      <td>469000.0</td>\n",
       "    </tr>\n",
       "    <tr>\n",
       "      <th>28</th>\n",
       "      <td>2200.0</td>\n",
       "      <td>3.0</td>\n",
       "      <td>475000.0</td>\n",
       "    </tr>\n",
       "    <tr>\n",
       "      <th>29</th>\n",
       "      <td>2637.0</td>\n",
       "      <td>3.0</td>\n",
       "      <td>299900.0</td>\n",
       "    </tr>\n",
       "    <tr>\n",
       "      <th>30</th>\n",
       "      <td>1839.0</td>\n",
       "      <td>2.0</td>\n",
       "      <td>349900.0</td>\n",
       "    </tr>\n",
       "    <tr>\n",
       "      <th>31</th>\n",
       "      <td>1000.0</td>\n",
       "      <td>1.0</td>\n",
       "      <td>169900.0</td>\n",
       "    </tr>\n",
       "    <tr>\n",
       "      <th>32</th>\n",
       "      <td>2040.0</td>\n",
       "      <td>4.0</td>\n",
       "      <td>314900.0</td>\n",
       "    </tr>\n",
       "    <tr>\n",
       "      <th>33</th>\n",
       "      <td>3137.0</td>\n",
       "      <td>3.0</td>\n",
       "      <td>579900.0</td>\n",
       "    </tr>\n",
       "    <tr>\n",
       "      <th>34</th>\n",
       "      <td>1811.0</td>\n",
       "      <td>4.0</td>\n",
       "      <td>285900.0</td>\n",
       "    </tr>\n",
       "    <tr>\n",
       "      <th>35</th>\n",
       "      <td>1437.0</td>\n",
       "      <td>3.0</td>\n",
       "      <td>249900.0</td>\n",
       "    </tr>\n",
       "    <tr>\n",
       "      <th>36</th>\n",
       "      <td>1239.0</td>\n",
       "      <td>3.0</td>\n",
       "      <td>229900.0</td>\n",
       "    </tr>\n",
       "    <tr>\n",
       "      <th>37</th>\n",
       "      <td>2132.0</td>\n",
       "      <td>4.0</td>\n",
       "      <td>345000.0</td>\n",
       "    </tr>\n",
       "    <tr>\n",
       "      <th>38</th>\n",
       "      <td>4215.0</td>\n",
       "      <td>4.0</td>\n",
       "      <td>549000.0</td>\n",
       "    </tr>\n",
       "    <tr>\n",
       "      <th>39</th>\n",
       "      <td>2162.0</td>\n",
       "      <td>4.0</td>\n",
       "      <td>287000.0</td>\n",
       "    </tr>\n",
       "    <tr>\n",
       "      <th>40</th>\n",
       "      <td>1664.0</td>\n",
       "      <td>2.0</td>\n",
       "      <td>368500.0</td>\n",
       "    </tr>\n",
       "    <tr>\n",
       "      <th>41</th>\n",
       "      <td>2238.0</td>\n",
       "      <td>3.0</td>\n",
       "      <td>329900.0</td>\n",
       "    </tr>\n",
       "    <tr>\n",
       "      <th>42</th>\n",
       "      <td>2567.0</td>\n",
       "      <td>4.0</td>\n",
       "      <td>314000.0</td>\n",
       "    </tr>\n",
       "    <tr>\n",
       "      <th>43</th>\n",
       "      <td>1200.0</td>\n",
       "      <td>3.0</td>\n",
       "      <td>299000.0</td>\n",
       "    </tr>\n",
       "    <tr>\n",
       "      <th>44</th>\n",
       "      <td>852.0</td>\n",
       "      <td>2.0</td>\n",
       "      <td>179900.0</td>\n",
       "    </tr>\n",
       "    <tr>\n",
       "      <th>45</th>\n",
       "      <td>1852.0</td>\n",
       "      <td>4.0</td>\n",
       "      <td>299900.0</td>\n",
       "    </tr>\n",
       "    <tr>\n",
       "      <th>46</th>\n",
       "      <td>1203.0</td>\n",
       "      <td>3.0</td>\n",
       "      <td>239500.0</td>\n",
       "    </tr>\n",
       "  </tbody>\n",
       "</table>\n",
       "</div>"
      ],
      "text/plain": [
       "    square_feet  bedrooms     price\n",
       "0        2104.0       3.0  399900.0\n",
       "1        1600.0       3.0  329900.0\n",
       "2        2400.0       3.0  369000.0\n",
       "3        1416.0       2.0  232000.0\n",
       "4        3000.0       4.0  539900.0\n",
       "5        1985.0       4.0  299900.0\n",
       "6        1534.0       3.0  314900.0\n",
       "7        1427.0       3.0  198999.0\n",
       "8        1380.0       3.0  212000.0\n",
       "9        1494.0       3.0  242500.0\n",
       "10       1940.0       4.0  239999.0\n",
       "11       2000.0       3.0  347000.0\n",
       "12       1890.0       3.0  329999.0\n",
       "13       4478.0       5.0  699900.0\n",
       "14       1268.0       3.0  259900.0\n",
       "15       2300.0       4.0  449900.0\n",
       "16       1320.0       2.0  299900.0\n",
       "17       1236.0       3.0  199900.0\n",
       "18       2609.0       4.0  499998.0\n",
       "19       3031.0       4.0  599000.0\n",
       "20       1767.0       3.0  252900.0\n",
       "21       1888.0       2.0  255000.0\n",
       "22       1604.0       3.0  242900.0\n",
       "23       1962.0       4.0  259900.0\n",
       "24       3890.0       3.0  573900.0\n",
       "25       1100.0       3.0  249900.0\n",
       "26       1458.0       3.0  464500.0\n",
       "27       2526.0       3.0  469000.0\n",
       "28       2200.0       3.0  475000.0\n",
       "29       2637.0       3.0  299900.0\n",
       "30       1839.0       2.0  349900.0\n",
       "31       1000.0       1.0  169900.0\n",
       "32       2040.0       4.0  314900.0\n",
       "33       3137.0       3.0  579900.0\n",
       "34       1811.0       4.0  285900.0\n",
       "35       1437.0       3.0  249900.0\n",
       "36       1239.0       3.0  229900.0\n",
       "37       2132.0       4.0  345000.0\n",
       "38       4215.0       4.0  549000.0\n",
       "39       2162.0       4.0  287000.0\n",
       "40       1664.0       2.0  368500.0\n",
       "41       2238.0       3.0  329900.0\n",
       "42       2567.0       4.0  314000.0\n",
       "43       1200.0       3.0  299000.0\n",
       "44        852.0       2.0  179900.0\n",
       "45       1852.0       4.0  299900.0\n",
       "46       1203.0       3.0  239500.0"
      ]
     },
     "execution_count": 23,
     "metadata": {},
     "output_type": "execute_result"
    }
   ],
   "source": [
    "df = pd.DataFrame(dataset, columns=[\"square_feet\", \"bedrooms\", \"price\"])\n",
    "df"
   ]
  },
  {
   "cell_type": "code",
   "execution_count": 24,
   "id": "711741d7",
   "metadata": {},
   "outputs": [
    {
     "data": {
      "image/png": "[encoded data removed]",
      "text/plain": [
       "<Figure size 1500x500 with 1 Axes>"
      ]
     },
     "metadata": {},
     "output_type": "display_data"
    }
   ],
   "source": [
    "## plot the data square_feet vs Price \n",
    "\n",
    "plt.figure(figsize=(15,5))\n",
    "\n",
    "plt.scatter(df[\"square_feet\"], df[\"price\"])\n",
    "plt.show()\n",
    "\n"
   ]
  },
  {
   "cell_type": "code",
   "execution_count": 25,
   "id": "23668fb8",
   "metadata": {},
   "outputs": [],
   "source": [
    "df_x = df[[\"square_feet\", \"bedrooms\"]]\n",
    "df_y = df[\"price\"]\n"
   ]
  },
  {
   "cell_type": "code",
   "execution_count": 26,
   "id": "d67126d5",
   "metadata": {},
   "outputs": [],
   "source": [
    "\n",
    "# Features\n",
    "X = df_x\n",
    "\n",
    "# Label\n",
    "y = df_y\n",
    "# Split\n",
    "X_train, X_test, y_train, y_test = train_test_split(X,y,test_size=0.3,random_state=101)"
   ]
  },
  {
   "cell_type": "markdown",
   "id": "b025e80c",
   "metadata": {},
   "source": [
    "### create a model"
   ]
  },
  {
   "cell_type": "code",
   "execution_count": 27,
   "id": "bb41da59",
   "metadata": {},
   "outputs": [
    {
     "name": "stderr",
     "output_type": "stream",
     "text": [
      "c:\\genai\\genai_4\\Lib\\site-packages\\keras\\src\\layers\\core\\dense.py:93: UserWarning: Do not pass an `input_shape`/`input_dim` argument to a layer. When using Sequential models, prefer using an `Input(shape)` object as the first layer in the model instead.\n",
      "  super().__init__(activity_regularizer=activity_regularizer, **kwargs)\n"
     ]
    },
    {
     "data": {
      "text/html": [
       "<pre style=\"white-space:pre;overflow-x:auto;line-height:normal;font-family:Menlo,'DejaVu Sans Mono',consolas,'Courier New',monospace\"><span style=\"font-weight: bold\">Model: \"sequential_3\"</span>\n",
       "</pre>\n"
      ],
      "text/plain": [
       "\u001b[1mModel: \"sequential_3\"\u001b[0m\n"
      ]
     },
     "metadata": {},
     "output_type": "display_data"
    },
    {
     "data": {
      "text/html": [
       "<pre style=\"white-space:pre;overflow-x:auto;line-height:normal;font-family:Menlo,'DejaVu Sans Mono',consolas,'Courier New',monospace\">┏━━━━━━━━━━━━━━━━━━━━━━━━━━━━━━━━━┳━━━━━━━━━━━━━━━━━━━━━━━━┳━━━━━━━━━━━━━━━┓\n",
       "┃<span style=\"font-weight: bold\"> Layer (type)                    </span>┃<span style=\"font-weight: bold\"> Output Shape           </span>┃<span style=\"font-weight: bold\">       Param # </span>┃\n",
       "┡━━━━━━━━━━━━━━━━━━━━━━━━━━━━━━━━━╇━━━━━━━━━━━━━━━━━━━━━━━━╇━━━━━━━━━━━━━━━┩\n",
       "│ dense_9 (<span style=\"color: #0087ff; text-decoration-color: #0087ff\">Dense</span>)                 │ (<span style=\"color: #00d7ff; text-decoration-color: #00d7ff\">None</span>, <span style=\"color: #00af00; text-decoration-color: #00af00\">2</span>)              │             <span style=\"color: #00af00; text-decoration-color: #00af00\">6</span> │\n",
       "├─────────────────────────────────┼────────────────────────┼───────────────┤\n",
       "│ dense_10 (<span style=\"color: #0087ff; text-decoration-color: #0087ff\">Dense</span>)                │ (<span style=\"color: #00d7ff; text-decoration-color: #00d7ff\">None</span>, <span style=\"color: #00af00; text-decoration-color: #00af00\">2</span>)              │             <span style=\"color: #00af00; text-decoration-color: #00af00\">6</span> │\n",
       "├─────────────────────────────────┼────────────────────────┼───────────────┤\n",
       "│ dense_11 (<span style=\"color: #0087ff; text-decoration-color: #0087ff\">Dense</span>)                │ (<span style=\"color: #00d7ff; text-decoration-color: #00d7ff\">None</span>, <span style=\"color: #00af00; text-decoration-color: #00af00\">1</span>)              │             <span style=\"color: #00af00; text-decoration-color: #00af00\">3</span> │\n",
       "└─────────────────────────────────┴────────────────────────┴───────────────┘\n",
       "</pre>\n"
      ],
      "text/plain": [
       "┏━━━━━━━━━━━━━━━━━━━━━━━━━━━━━━━━━┳━━━━━━━━━━━━━━━━━━━━━━━━┳━━━━━━━━━━━━━━━┓\n",
       "┃\u001b[1m \u001b[0m\u001b[1mLayer (type)                   \u001b[0m\u001b[1m \u001b[0m┃\u001b[1m \u001b[0m\u001b[1mOutput Shape          \u001b[0m\u001b[1m \u001b[0m┃\u001b[1m \u001b[0m\u001b[1m      Param #\u001b[0m\u001b[1m \u001b[0m┃\n",
       "┡━━━━━━━━━━━━━━━━━━━━━━━━━━━━━━━━━╇━━━━━━━━━━━━━━━━━━━━━━━━╇━━━━━━━━━━━━━━━┩\n",
       "│ dense_9 (\u001b[38;5;33mDense\u001b[0m)                 │ (\u001b[38;5;45mNone\u001b[0m, \u001b[38;5;34m2\u001b[0m)              │             \u001b[38;5;34m6\u001b[0m │\n",
       "├─────────────────────────────────┼────────────────────────┼───────────────┤\n",
       "│ dense_10 (\u001b[38;5;33mDense\u001b[0m)                │ (\u001b[38;5;45mNone\u001b[0m, \u001b[38;5;34m2\u001b[0m)              │             \u001b[38;5;34m6\u001b[0m │\n",
       "├─────────────────────────────────┼────────────────────────┼───────────────┤\n",
       "│ dense_11 (\u001b[38;5;33mDense\u001b[0m)                │ (\u001b[38;5;45mNone\u001b[0m, \u001b[38;5;34m1\u001b[0m)              │             \u001b[38;5;34m3\u001b[0m │\n",
       "└─────────────────────────────────┴────────────────────────┴───────────────┘\n"
      ]
     },
     "metadata": {},
     "output_type": "display_data"
    },
    {
     "data": {
      "text/html": [
       "<pre style=\"white-space:pre;overflow-x:auto;line-height:normal;font-family:Menlo,'DejaVu Sans Mono',consolas,'Courier New',monospace\"><span style=\"font-weight: bold\"> Total params: </span><span style=\"color: #00af00; text-decoration-color: #00af00\">15</span> (60.00 B)\n",
       "</pre>\n"
      ],
      "text/plain": [
       "\u001b[1m Total params: \u001b[0m\u001b[38;5;34m15\u001b[0m (60.00 B)\n"
      ]
     },
     "metadata": {},
     "output_type": "display_data"
    },
    {
     "data": {
      "text/html": [
       "<pre style=\"white-space:pre;overflow-x:auto;line-height:normal;font-family:Menlo,'DejaVu Sans Mono',consolas,'Courier New',monospace\"><span style=\"font-weight: bold\"> Trainable params: </span><span style=\"color: #00af00; text-decoration-color: #00af00\">15</span> (60.00 B)\n",
       "</pre>\n"
      ],
      "text/plain": [
       "\u001b[1m Trainable params: \u001b[0m\u001b[38;5;34m15\u001b[0m (60.00 B)\n"
      ]
     },
     "metadata": {},
     "output_type": "display_data"
    },
    {
     "data": {
      "text/html": [
       "<pre style=\"white-space:pre;overflow-x:auto;line-height:normal;font-family:Menlo,'DejaVu Sans Mono',consolas,'Courier New',monospace\"><span style=\"font-weight: bold\"> Non-trainable params: </span><span style=\"color: #00af00; text-decoration-color: #00af00\">0</span> (0.00 B)\n",
       "</pre>\n"
      ],
      "text/plain": [
       "\u001b[1m Non-trainable params: \u001b[0m\u001b[38;5;34m0\u001b[0m (0.00 B)\n"
      ]
     },
     "metadata": {},
     "output_type": "display_data"
    }
   ],
   "source": [
    "# create model\n",
    "model = Sequential()\n",
    "model.add(Dense(2, input_dim=2, activation='relu'))\n",
    "model.add(Dense(2, activation='relu'))\n",
    "# model.add(Dense(1, activation='softmax'))\n",
    "model.add(Dense(1, activation='linear'))  # Use linear activation for regression\n",
    "# model.add(Dense(1)) \n",
    "model.summary()"
   ]
  },
  {
   "cell_type": "code",
   "execution_count": 28,
   "id": "2ff98202",
   "metadata": {},
   "outputs": [
    {
     "name": "stdout",
     "output_type": "stream",
     "text": [
      "Layer 0 - dense_9:\n",
      "  Kernel Initializer: <keras.src.initializers.random_initializers.GlorotUniform object at 0x00000205E8F6F290>\n",
      "\n",
      "Layer 1 - dense_10:\n",
      "  Kernel Initializer: <keras.src.initializers.random_initializers.GlorotUniform object at 0x00000205F1A79790>\n",
      "\n",
      "Layer 2 - dense_11:\n",
      "  Kernel Initializer: <keras.src.initializers.random_initializers.GlorotUniform object at 0x00000205F1530050>\n",
      "\n"
     ]
    }
   ],
   "source": [
    "for i, layer in enumerate(model.layers):\n",
    "    if hasattr(layer, 'kernel_initializer'):\n",
    "        print(f\"Layer {i} - {layer.name}:\")\n",
    "        print(\"  Kernel Initializer:\", layer.kernel_initializer)\n",
    "        print()"
   ]
  },
  {
   "cell_type": "code",
   "execution_count": 29,
   "id": "8df912ae",
   "metadata": {},
   "outputs": [
    {
     "name": "stdout",
     "output_type": "stream",
     "text": [
      "\n",
      "📌 Initial Weights:\n",
      "Layer dense_9 weights:\n",
      " [[ 0.5506792  1.1570011]\n",
      " [ 1.1334654 -0.9042883]]\n",
      "Layer dense_9 biases:\n",
      " [0. 0.]\n",
      "Layer dense_10 weights:\n",
      " [[-0.23425621 -0.8161732 ]\n",
      " [ 0.47757733  0.07605481]]\n",
      "Layer dense_10 biases:\n",
      " [0. 0.]\n",
      "Layer dense_11 weights:\n",
      " [[ 0.00083852]\n",
      " [-0.7037222 ]]\n",
      "Layer dense_11 biases:\n",
      " [0.]\n"
     ]
    }
   ],
   "source": [
    "# Compile model\n",
    "# model.compile(loss='binary_crossentropy', optimizer='adam', metrics=['accuracy'])\n",
    "model.compile(optimizer='adam',loss='mse')\n",
    "#model.compile(optimizer='adam', loss='mse')\n",
    "print(\"\\n📌 Initial Weights:\")\n",
    "for layer in model.layers:\n",
    "    weights = layer.get_weights()\n",
    "    if weights:\n",
    "        print(f\"Layer {layer.name} weights:\\n\", weights[0])\n",
    "        print(f\"Layer {layer.name} biases:\\n\", weights[1])"
   ]
  },
  {
   "cell_type": "code",
   "execution_count": 30,
   "id": "b878dac7",
   "metadata": {},
   "outputs": [
    {
     "name": "stdout",
     "output_type": "stream",
     "text": [
      "\u001b[1m1/1\u001b[0m \u001b[32m━━━━━━━━━━━━━━━━━━━━\u001b[0m\u001b[37m\u001b[0m \u001b[1m0s\u001b[0m 155ms/step - loss: 116401356800.0000\n"
     ]
    },
    {
     "data": {
      "text/plain": [
       "<Sequential name=sequential_3, built=True>"
      ]
     },
     "execution_count": 30,
     "metadata": {},
     "output_type": "execute_result"
    }
   ],
   "source": [
    "# Fit the model\n",
    "# model.fit(df_x, df_y, epochs=170, batch_size=10 ,verbose=0)\n",
    "# model.compile(optimizer='adam',loss='mse' , auto_scale_loss=False)\n",
    "model.fit(x=X_train,y=y_train,\n",
    "          validation_data=(X_test,y_test),\n",
    "          batch_size=5,epochs=170,verbose=0)\n",
    "\n",
    "#evaluate the model\n",
    "scores = model.evaluate(X_train, y_train)\n",
    "model\n",
    "# print(\"\\n%s: %.2f%%\" % (model.metrics_names, scores[1]*100))"
   ]
  },
  {
   "cell_type": "code",
   "execution_count": 31,
   "id": "441551e2",
   "metadata": {},
   "outputs": [
    {
     "name": "stderr",
     "output_type": "stream",
     "text": [
      "c:\\genai\\genai_4\\Lib\\site-packages\\keras\\src\\layers\\core\\dense.py:93: UserWarning: Do not pass an `input_shape`/`input_dim` argument to a layer. When using Sequential models, prefer using an `Input(shape)` object as the first layer in the model instead.\n",
      "  super().__init__(activity_regularizer=activity_regularizer, **kwargs)\n"
     ]
    },
    {
     "data": {
      "image/png": "[encoded data removed]",
      "text/plain": [
       "<Figure size 1500x500 with 1 Axes>"
      ]
     },
     "metadata": {},
     "output_type": "display_data"
    }
   ],
   "source": [
    "# create model\n",
    "model = Sequential()\n",
    "model.add(Dense(4, input_dim=2))\n",
    "# model.add(Dense(2, activation='relu'))\n",
    "model.add(Dense(2) )\n",
    "\n",
    "model.add(Dense(1, activation='linear'))  # Use linear activation for regression\n",
    "# model.add(Dense(1)) \n",
    "# model.summary()\n",
    "df_x = df[[\"square_feet\", \"bedrooms\"]]\n",
    "df_y = df[\"price\"]\n",
    "\n",
    "model.compile(optimizer='adam',loss='mse' , auto_scale_loss=False)\n",
    "model.fit(x=df[[\"square_feet\", \"bedrooms\"]] ,y=df[\"price\"],validation_split= 0.3 ,\n",
    "        #   validation_data=(X_test,y_test),\n",
    "          batch_size=10,\n",
    "          epochs=270,\n",
    "          verbose=0)\n",
    "\n",
    "losses = pd.DataFrame(model.history.history)\n",
    "\n",
    "plt.figure(figsize=(15,5))\n",
    "sns.lineplot(data=losses,lw=3)\n",
    "plt.xlabel('Epochs')\n",
    "plt.ylabel('')\n",
    "plt.title('Training Loss per Epoch')\n",
    "sns.despine()"
   ]
  },
  {
   "cell_type": "code",
   "execution_count": 41,
   "id": "a19ee995",
   "metadata": {},
   "outputs": [
    {
     "name": "stderr",
     "output_type": "stream",
     "text": [
      "c:\\genai\\genai_4\\Lib\\site-packages\\keras\\src\\layers\\core\\dense.py:93: UserWarning: Do not pass an `input_shape`/`input_dim` argument to a layer. When using Sequential models, prefer using an `Input(shape)` object as the first layer in the model instead.\n",
      "  super().__init__(activity_regularizer=activity_regularizer, **kwargs)\n"
     ]
    },
    {
     "data": {
      "image/png": "[encoded data removed]",
      "text/plain": [
       "<Figure size 1500x500 with 1 Axes>"
      ]
     },
     "metadata": {},
     "output_type": "display_data"
    }
   ],
   "source": [
    "# create model\n",
    "model_2 = Sequential()\n",
    "model_2.add(Dense(4, input_dim=2 ))\n",
    "# model.add(Dense(2, activation='relu'))\n",
    "model_2.add(Dense(2) )\n",
    "\n",
    "model_2.add(Dense(1, activation='linear'))  # Use linear activation for regression\n",
    "# model.add(Dense(1)) \n",
    "# model.summary()\n",
    "df_x = df[[\"square_feet\", \"bedrooms\"]]\n",
    "df_y = df[\"price\"]\n",
    "\n",
    "model_2.compile(optimizer='adam',loss='mse' , auto_scale_loss=False)\n",
    "model_2.fit(x=df[[\"square_feet\", \"bedrooms\"]] ,y=df[\"price\"],validation_split= 0.3 ,\n",
    "        #   validation_data=(X_test,y_test),\n",
    "          batch_size=10,\n",
    "          epochs=550,\n",
    "          verbose=0)\n",
    "\n",
    "losses = pd.DataFrame(model_2.history.history)\n",
    "\n",
    "plt.figure(figsize=(15,5))\n",
    "sns.lineplot(data=losses,lw=3)\n",
    "plt.xlabel('Epochs')\n",
    "plt.ylabel('')\n",
    "plt.title('Training Loss per Epoch')\n",
    "sns.despine()"
   ]
  },
  {
   "cell_type": "markdown",
   "id": "aeadb1a0",
   "metadata": {},
   "source": [
    "### check the default layer used in model model_2"
   ]
  },
  {
   "cell_type": "code",
   "execution_count": 61,
   "id": "60f1bba3",
   "metadata": {},
   "outputs": [
    {
     "name": "stdout",
     "output_type": "stream",
     "text": [
      "0 <Dense name=dense_21, built=True>\n",
      "     <function linear at 0x00000205D49BAB60>\n",
      "1 <Dense name=dense_22, built=True>\n",
      "     <function linear at 0x00000205D49BAB60>\n",
      "2 <Dense name=dense_23, built=True>\n",
      "     <function linear at 0x00000205D49BAB60>\n"
     ]
    }
   ],
   "source": [
    "for i, layer in enumerate (model_2.layers):\n",
    "    print (i, layer)\n",
    "    try:\n",
    "        print (\"    \",layer.activation)\n",
    "    except AttributeError:\n",
    "        print('   no activation attribute')"
   ]
  },
  {
   "cell_type": "markdown",
   "id": "760e5c17",
   "metadata": {},
   "source": [
    "### check the weights used in model"
   ]
  },
  {
   "cell_type": "code",
   "execution_count": 59,
   "id": "55bf425e",
   "metadata": {},
   "outputs": [
    {
     "name": "stdout",
     "output_type": "stream",
     "text": [
      "Layer: dense_21\n",
      "  Weights shape: (2, 4)\n",
      "  Weights: \n",
      "[[-1.9347922  2.6590397 -2.2953427  2.2945387]\n",
      " [-2.747558   2.0310054 -1.6262628  2.6503315]]\n",
      "  Biases shape: (4,)\n",
      "  Biases: \n",
      "[-2.4123833  2.2124891 -2.206047   2.0234954]\n",
      "Layer: dense_22\n",
      "  Weights shape: (4, 2)\n",
      "  Weights: \n",
      "[[-1.9037528 -2.4573479]\n",
      " [ 3.0392683  2.5108552]\n",
      " [-2.6996515 -3.165586 ]\n",
      " [ 2.2374327  1.8688527]]\n",
      "  Biases shape: (2,)\n",
      "  Biases: \n",
      "[1.7970024 1.7509186]\n",
      "Layer: dense_23\n",
      "  Weights shape: (2, 1)\n",
      "  Weights: \n",
      "[[3.3987343]\n",
      " [3.8509972]]\n",
      "  Biases shape: (1,)\n",
      "  Biases: \n",
      "[1.4013784]\n"
     ]
    }
   ],
   "source": [
    "for layer in model_2.layers:\n",
    "    print(f\"Layer: {layer.name}\")\n",
    "    weights = layer.get_weights()\n",
    "    if weights:\n",
    "        print(f\"  Weights shape: {weights[0].shape}\")\n",
    "        print(f\"  Weights: \\n{weights[0]}\")\n",
    "        print(f\"  Biases shape: {weights[1].shape}\")\n",
    "        print(f\"  Biases: \\n{weights[1]}\")\n",
    "    else:\n",
    "        print(\"  No weights (e.g., Dropout or Flatten layer)\")\n"
   ]
  },
  {
   "cell_type": "markdown",
   "id": "d48baee4",
   "metadata": {},
   "source": [
    "### check the model"
   ]
  },
  {
   "cell_type": "code",
   "execution_count": 46,
   "id": "e3ed16e7",
   "metadata": {},
   "outputs": [],
   "source": [
    "import numpy as np\n",
    "# Predict diabetes for new samples (3 new patients)\n",
    "# samples = np.array([[2000,3,347000],\n",
    "# [                   1890,3,329999]])   # Sample 3\n",
    "samples = np.array([[2000,3],\n",
    "                    [1890,3]])   # Sample 3\n",
    "\n"
   ]
  },
  {
   "cell_type": "code",
   "execution_count": null,
   "id": "2d06b821",
   "metadata": {},
   "outputs": [
    {
     "name": "stdout",
     "output_type": "stream",
     "text": [
      "\u001b[1m1/1\u001b[0m \u001b[32m━━━━━━━━━━━━━━━━━━━━\u001b[0m\u001b[37m\u001b[0m \u001b[1m0s\u001b[0m 112ms/step\n",
      "***********************************\n",
      "[[334671.16]\n",
      " [316299.9 ]]\n",
      "predicated value for square feet 2000 and room 3 is [334671.16]   -- Orginal value 347000 \n",
      "predicated value for square feet 1890 and room 3 is [316299.9]   -- Orginal value 329999 \n",
      "***********************************\n",
      "[1 1]\n"
     ]
    }
   ],
   "source": [
    "# Predict diabetes (returns probabilities)\n",
    "predictions = model_2.predict(samples)\n",
    "\n",
    "# Convert probabilities to class labels (0 or 1)\n",
    "predicted_classes = (predictions > 0.5).astype(int)\n",
    "print(\"***********************************\")\n",
    "print( f\"predicated value for square feet {samples[0][0]} and room {samples[0][1]} is {predictions[0]}   -- Orginal value 347000 \")\n",
    "print( f\"predicated value for square feet {samples[1][0]} and room {samples[1][1]} is {predictions[1]}   -- Orginal value 329999 \")\n",
    "\n",
    "print(\"***********************************\")\n"
   ]
  }
 ],
 "metadata": {
  "kernelspec": {
   "display_name": "genai_4",
   "language": "python",
   "name": "python3"
  },
  "language_info": {
   "codemirror_mode": {
    "name": "ipython",
    "version": 3
   },
   "file_extension": ".py",
   "mimetype": "text/x-python",
   "name": "python",
   "nbconvert_exporter": "python",
   "pygments_lexer": "ipython3",
   "version": "3.11.4"
  }
 },
 "nbformat": 4,
 "nbformat_minor": 5
}
