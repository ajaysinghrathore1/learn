{
 "cells": [
  {
   "cell_type": "code",
   "execution_count": 1,
   "id": "5bc0ca0d",
   "metadata": {},
   "outputs": [
    {
     "data": {
      "text/plain": [
       "'\\nwrite a python program to draw the 3d plot for the model developed for \\n   house price prediction using suitable python based 3d plotting \\n   libraries\\n\\n\\n   https://raw.githubusercontent.com/enuguru/aiandml/refs/heads/master/datasets/melb_data.csv\\n'"
      ]
     },
     "execution_count": 1,
     "metadata": {},
     "output_type": "execute_result"
    }
   ],
   "source": [
    "\"\"\"\n",
    "write a python program to draw the 3d plot for the model developed for \n",
    "   house price prediction using suitable python based 3d plotting \n",
    "   libraries\n",
    "\n",
    "\n",
    "   https://raw.githubusercontent.com/enuguru/aiandml/refs/heads/master/datasets/melb_data.csv\n",
    "\"\"\"   "
   ]
  },
  {
   "cell_type": "markdown",
   "id": "1f7fe5ba",
   "metadata": {},
   "source": [
    "## step 1: import the libraries"
   ]
  },
  {
   "cell_type": "code",
   "execution_count": 2,
   "id": "01b5256e",
   "metadata": {},
   "outputs": [],
   "source": [
    "import numpy as np\n",
    "import matplotlib.pyplot as plt\n",
    "import pandas as pd\n",
    "from sklearn.model_selection import train_test_split\n",
    "from sklearn.linear_model import LinearRegression"
   ]
  },
  {
   "cell_type": "markdown",
   "id": "02e38009",
   "metadata": {},
   "source": [
    "## Step 2: Build the dataframe"
   ]
  },
  {
   "cell_type": "code",
   "execution_count": 3,
   "id": "a21070fa",
   "metadata": {},
   "outputs": [
    {
     "data": {
      "application/vnd.microsoft.datawrangler.viewer.v0+json": {
       "columns": [
        {
         "name": "index",
         "rawType": "int64",
         "type": "integer"
        },
        {
         "name": "Unnamed: 0",
         "rawType": "int64",
         "type": "integer"
        },
        {
         "name": "Suburb",
         "rawType": "object",
         "type": "string"
        },
        {
         "name": "Address",
         "rawType": "object",
         "type": "string"
        },
        {
         "name": "Rooms",
         "rawType": "int64",
         "type": "integer"
        },
        {
         "name": "Type",
         "rawType": "object",
         "type": "string"
        },
        {
         "name": "Price",
         "rawType": "float64",
         "type": "float"
        },
        {
         "name": "Method",
         "rawType": "object",
         "type": "string"
        },
        {
         "name": "SellerG",
         "rawType": "object",
         "type": "string"
        },
        {
         "name": "Date",
         "rawType": "object",
         "type": "string"
        },
        {
         "name": "Distance",
         "rawType": "float64",
         "type": "float"
        },
        {
         "name": "Postcode",
         "rawType": "float64",
         "type": "float"
        },
        {
         "name": "Bedroom2",
         "rawType": "float64",
         "type": "float"
        },
        {
         "name": "Bathroom",
         "rawType": "float64",
         "type": "float"
        },
        {
         "name": "Car",
         "rawType": "float64",
         "type": "float"
        },
        {
         "name": "Landsize",
         "rawType": "float64",
         "type": "float"
        },
        {
         "name": "BuildingArea",
         "rawType": "float64",
         "type": "float"
        },
        {
         "name": "YearBuilt",
         "rawType": "float64",
         "type": "float"
        },
        {
         "name": "CouncilArea",
         "rawType": "object",
         "type": "unknown"
        },
        {
         "name": "Lattitude",
         "rawType": "float64",
         "type": "float"
        },
        {
         "name": "Longtitude",
         "rawType": "float64",
         "type": "float"
        },
        {
         "name": "Regionname",
         "rawType": "object",
         "type": "unknown"
        },
        {
         "name": "Propertycount",
         "rawType": "float64",
         "type": "float"
        }
       ],
       "ref": "b22042e9-3b16-40a4-ba54-29028ff827b8",
       "rows": [
        [
         "0",
         "1",
         "Abbotsford",
         "85 Turner St",
         "2",
         "h",
         "1480000.0",
         "S",
         "Biggin",
         "3/12/2016",
         "2.5",
         "3067.0",
         "2.0",
         "1.0",
         "1.0",
         "202.0",
         null,
         null,
         "Yarra",
         "-37.7996",
         "144.9984",
         "Northern Metropolitan",
         "4019.0"
        ],
        [
         "1",
         "2",
         "Abbotsford",
         "25 Bloomburg St",
         "2",
         "h",
         "1035000.0",
         "S",
         "Biggin",
         "4/02/2016",
         "2.5",
         "3067.0",
         "2.0",
         "1.0",
         "0.0",
         "156.0",
         "79.0",
         "1900.0",
         "Yarra",
         "-37.8079",
         "144.9934",
         "Northern Metropolitan",
         "4019.0"
        ],
        [
         "2",
         "4",
         "Abbotsford",
         "5 Charles St",
         "3",
         "h",
         "1465000.0",
         "SP",
         "Biggin",
         "4/03/2017",
         "2.5",
         "3067.0",
         "3.0",
         "2.0",
         "0.0",
         "134.0",
         "150.0",
         "1900.0",
         "Yarra",
         "-37.8093",
         "144.9944",
         "Northern Metropolitan",
         "4019.0"
        ],
        [
         "3",
         "5",
         "Abbotsford",
         "40 Federation La",
         "3",
         "h",
         "850000.0",
         "PI",
         "Biggin",
         "4/03/2017",
         "2.5",
         "3067.0",
         "3.0",
         "2.0",
         "1.0",
         "94.0",
         null,
         null,
         "Yarra",
         "-37.7969",
         "144.9969",
         "Northern Metropolitan",
         "4019.0"
        ],
        [
         "4",
         "6",
         "Abbotsford",
         "55a Park St",
         "4",
         "h",
         "1600000.0",
         "VB",
         "Nelson",
         "4/06/2016",
         "2.5",
         "3067.0",
         "3.0",
         "1.0",
         "2.0",
         "120.0",
         "142.0",
         "2014.0",
         "Yarra",
         "-37.8072",
         "144.9941",
         "Northern Metropolitan",
         "4019.0"
        ],
        [
         "5",
         "10",
         "Abbotsford",
         "129 Charles St",
         "2",
         "h",
         "941000.0",
         "S",
         "Jellis",
         "7/05/2016",
         "2.5",
         "3067.0",
         "2.0",
         "1.0",
         "0.0",
         "181.0",
         null,
         null,
         "Yarra",
         "-37.8041",
         "144.9953",
         "Northern Metropolitan",
         "4019.0"
        ],
        [
         "6",
         "11",
         "Abbotsford",
         "124 Yarra St",
         "3",
         "h",
         "1876000.0",
         "S",
         "Nelson",
         "7/05/2016",
         "2.5",
         "3067.0",
         "4.0",
         "2.0",
         "0.0",
         "245.0",
         "210.0",
         "1910.0",
         "Yarra",
         "-37.8024",
         "144.9993",
         "Northern Metropolitan",
         "4019.0"
        ],
        [
         "7",
         "14",
         "Abbotsford",
         "98 Charles St",
         "2",
         "h",
         "1636000.0",
         "S",
         "Nelson",
         "8/10/2016",
         "2.5",
         "3067.0",
         "2.0",
         "1.0",
         "2.0",
         "256.0",
         "107.0",
         "1890.0",
         "Yarra",
         "-37.806",
         "144.9954",
         "Northern Metropolitan",
         "4019.0"
        ],
        [
         "8",
         "15",
         "Abbotsford",
         "217 Langridge St",
         "3",
         "h",
         "1000000.0",
         "S",
         "Jellis",
         "8/10/2016",
         "2.5",
         "3067.0",
         null,
         null,
         null,
         null,
         null,
         null,
         null,
         null,
         null,
         "Northern Metropolitan",
         "4019.0"
        ],
        [
         "9",
         "16",
         "Abbotsford",
         "18a Mollison St",
         "2",
         "t",
         "745000.0",
         "S",
         "Jellis",
         "8/10/2016",
         "2.5",
         "3067.0",
         null,
         null,
         null,
         null,
         null,
         null,
         null,
         null,
         null,
         "Northern Metropolitan",
         "4019.0"
        ],
        [
         "10",
         "17",
         "Abbotsford",
         "6/241 Nicholson St",
         "1",
         "u",
         "300000.0",
         "S",
         "Biggin",
         "8/10/2016",
         "2.5",
         "3067.0",
         "1.0",
         "1.0",
         "1.0",
         "0.0",
         null,
         null,
         "Yarra",
         "-37.8008",
         "144.9973",
         "Northern Metropolitan",
         "4019.0"
        ],
        [
         "11",
         "18",
         "Abbotsford",
         "10 Valiant St",
         "2",
         "h",
         "1097000.0",
         "S",
         "Biggin",
         "8/10/2016",
         "2.5",
         "3067.0",
         "3.0",
         "1.0",
         "2.0",
         "220.0",
         "75.0",
         "1900.0",
         "Yarra",
         "-37.801",
         "144.9989",
         "Northern Metropolitan",
         "4019.0"
        ],
        [
         "12",
         "19",
         "Abbotsford",
         "403/609 Victoria St",
         "2",
         "u",
         "542000.0",
         "S",
         "Dingle",
         "8/10/2016",
         "2.5",
         "3067.0",
         null,
         null,
         null,
         null,
         null,
         null,
         null,
         null,
         null,
         "Northern Metropolitan",
         "4019.0"
        ],
        [
         "13",
         "21",
         "Abbotsford",
         "25/84 Trenerry Cr",
         "2",
         "u",
         "760000.0",
         "SP",
         "Biggin",
         "10/12/2016",
         "2.5",
         "3067.0",
         null,
         null,
         null,
         null,
         null,
         null,
         null,
         null,
         null,
         "Northern Metropolitan",
         "4019.0"
        ],
        [
         "14",
         "22",
         "Abbotsford",
         "106/119 Turner St",
         "1",
         "u",
         "481000.0",
         "SP",
         "Purplebricks",
         "10/12/2016",
         "2.5",
         "3067.0",
         null,
         null,
         null,
         null,
         null,
         null,
         null,
         null,
         null,
         "Northern Metropolitan",
         "4019.0"
        ],
        [
         "15",
         "23",
         "Abbotsford",
         "411/8 Grosvenor St",
         "2",
         "u",
         "700000.0",
         "VB",
         "Jellis",
         "12/11/2016",
         "2.5",
         "3067.0",
         "2.0",
         "2.0",
         "1.0",
         "0.0",
         null,
         null,
         "Yarra",
         "-37.811",
         "145.0067",
         "Northern Metropolitan",
         "4019.0"
        ],
        [
         "16",
         "24",
         "Abbotsford",
         "40 Nicholson St",
         "3",
         "h",
         "1350000.0",
         "VB",
         "Nelson",
         "12/11/2016",
         "2.5",
         "3067.0",
         "3.0",
         "2.0",
         "2.0",
         "214.0",
         "190.0",
         "2005.0",
         "Yarra",
         "-37.8085",
         "144.9964",
         "Northern Metropolitan",
         "4019.0"
        ],
        [
         "17",
         "25",
         "Abbotsford",
         "123/56 Nicholson St",
         "2",
         "u",
         "750000.0",
         "S",
         "Biggin",
         "12/11/2016",
         "2.5",
         "3067.0",
         "2.0",
         "2.0",
         "1.0",
         "0.0",
         "94.0",
         "2009.0",
         "Yarra",
         "-37.8078",
         "144.9965",
         "Northern Metropolitan",
         "4019.0"
        ],
        [
         "18",
         "26",
         "Abbotsford",
         "22 Park St",
         "4",
         "h",
         "1985000.0",
         "S",
         "Biggin",
         "12/11/2016",
         "2.5",
         "3067.0",
         null,
         null,
         null,
         null,
         null,
         null,
         null,
         "-37.8084",
         "144.9942",
         "Northern Metropolitan",
         "4019.0"
        ],
        [
         "19",
         "27",
         "Abbotsford",
         "13/84 Trenerry Cr",
         "1",
         "u",
         "500000.0",
         "S",
         "Biggin",
         "12/11/2016",
         "2.5",
         "3067.0",
         null,
         null,
         null,
         null,
         null,
         null,
         null,
         null,
         null,
         "Northern Metropolitan",
         "4019.0"
        ],
        [
         "20",
         "28",
         "Abbotsford",
         "45 William St",
         "2",
         "h",
         "1172500.0",
         "S",
         "Biggin",
         "13/08/2016",
         "2.5",
         "3067.0",
         "2.0",
         "1.0",
         "1.0",
         "195.0",
         null,
         null,
         "Yarra",
         "-37.8084",
         "144.9973",
         "Northern Metropolitan",
         "4019.0"
        ],
        [
         "21",
         "29",
         "Abbotsford",
         "7/20 Abbotsford St",
         "1",
         "u",
         "441000.0",
         "SP",
         "Greg",
         "14/05/2016",
         "2.5",
         "3067.0",
         "1.0",
         "1.0",
         "1.0",
         "0.0",
         null,
         null,
         "Yarra",
         "-37.8016",
         "144.9988",
         "Northern Metropolitan",
         "4019.0"
        ],
        [
         "22",
         "30",
         "Abbotsford",
         "16 William St",
         "2",
         "h",
         "1310000.0",
         "S",
         "Jellis",
         "15/10/2016",
         "2.5",
         "3067.0",
         "2.0",
         "1.0",
         "2.0",
         "238.0",
         "97.0",
         "1890.0",
         "Yarra",
         "-37.809",
         "144.9976",
         "Northern Metropolitan",
         "4019.0"
        ],
        [
         "23",
         "32",
         "Abbotsford",
         "42 Henry St",
         "3",
         "h",
         "1200000.0",
         "S",
         "Jellis",
         "16/07/2016",
         "2.5",
         "3067.0",
         "3.0",
         "2.0",
         "1.0",
         "113.0",
         "110.0",
         "1880.0",
         "Yarra",
         "-37.8056",
         "144.993",
         "Northern Metropolitan",
         "4019.0"
        ],
        [
         "24",
         "33",
         "Abbotsford",
         "250 Langridge St",
         "2",
         "t",
         "847000.0",
         "S",
         "Jellis",
         "16/07/2016",
         "2.5",
         "3067.0",
         null,
         null,
         null,
         null,
         null,
         null,
         null,
         null,
         null,
         "Northern Metropolitan",
         "4019.0"
        ],
        [
         "25",
         "35",
         "Abbotsford",
         "78 Yarra St",
         "3",
         "h",
         "1176500.0",
         "S",
         "LITTLE",
         "16/07/2016",
         "2.5",
         "3067.0",
         "2.0",
         "1.0",
         "1.0",
         "138.0",
         "105.0",
         "1890.0",
         "Yarra",
         "-37.8021",
         "144.9965",
         "Northern Metropolitan",
         "4019.0"
        ],
        [
         "26",
         "36",
         "Abbotsford",
         "196 Nicholson St",
         "3",
         "h",
         "955000.0",
         "S",
         "Collins",
         "17/09/2016",
         "2.5",
         "3067.0",
         "3.0",
         "1.0",
         "0.0",
         "183.0",
         null,
         null,
         "Yarra",
         "-37.8022",
         "144.9975",
         "Northern Metropolitan",
         "4019.0"
        ],
        [
         "27",
         "37",
         "Abbotsford",
         "42 Valiant St",
         "2",
         "h",
         "890000.0",
         "S",
         "Biggin",
         "17/09/2016",
         "2.5",
         "3067.0",
         "2.0",
         "1.0",
         "1.0",
         "150.0",
         "73.0",
         "1985.0",
         "Yarra",
         "-37.8011",
         "145.0004",
         "Northern Metropolitan",
         "4019.0"
        ],
        [
         "28",
         "38",
         "Abbotsford",
         "3/72 Charles St",
         "4",
         "h",
         "1330000.0",
         "PI",
         "Kay",
         "18/03/2017",
         "2.5",
         "3067.0",
         "4.0",
         "2.0",
         "2.0",
         "780.0",
         "135.0",
         "1900.0",
         "Yarra",
         "-37.8073",
         "144.9952",
         "Northern Metropolitan",
         "4019.0"
        ],
        [
         "29",
         "40",
         "Abbotsford",
         "13/11 Nicholson St",
         "3",
         "t",
         "900000.0",
         "S",
         "Beller",
         "18/03/2017",
         "2.5",
         "3067.0",
         "3.0",
         "2.0",
         "2.0",
         "0.0",
         null,
         "2010.0",
         "Yarra",
         "-37.8093",
         "144.9959",
         "Northern Metropolitan",
         "4019.0"
        ],
        [
         "30",
         "41",
         "Abbotsford",
         "138/56 Nicholson St",
         "3",
         "u",
         "1090000.0",
         "S",
         "Jellis",
         "18/03/2017",
         "2.5",
         "3067.0",
         "3.0",
         "2.0",
         "2.0",
         "4290.0",
         "27.0",
         null,
         "Yarra",
         "-37.8078",
         "144.9965",
         "Northern Metropolitan",
         "4019.0"
        ],
        [
         "31",
         "42",
         "Abbotsford",
         "6/219 Nicholson St",
         "2",
         "u",
         "500000.0",
         "S",
         "Collins",
         "18/06/2016",
         "2.5",
         "3067.0",
         "2.0",
         "1.0",
         "1.0",
         "0.0",
         "60.0",
         "1970.0",
         "Yarra",
         "-37.8015",
         "144.9972",
         "Northern Metropolitan",
         "4019.0"
        ],
        [
         "32",
         "43",
         "Abbotsford",
         "52a William St",
         "2",
         "h",
         "1100000.0",
         "PI",
         "Biggin",
         "18/06/2016",
         "2.5",
         "3067.0",
         "2.0",
         "2.0",
         "1.0",
         "124.0",
         "135.0",
         "2013.0",
         "Yarra",
         "-37.8079",
         "144.9977",
         "Northern Metropolitan",
         "4019.0"
        ],
        [
         "33",
         "44",
         "Abbotsford",
         "49 Park St",
         "2",
         "h",
         "1315000.0",
         "S",
         "Marshall",
         "19/11/2016",
         "2.5",
         "3067.0",
         "2.0",
         "1.0",
         "0.0",
         "147.0",
         "85.0",
         "1900.0",
         "Yarra",
         "-37.808",
         "144.994",
         "Northern Metropolitan",
         "4019.0"
        ],
        [
         "34",
         "45",
         "Abbotsford",
         "65/80 Trenerry Cr",
         "1",
         "u",
         "480000.0",
         "S",
         "Biggin",
         "19/11/2016",
         "2.5",
         "3067.0",
         null,
         null,
         null,
         null,
         null,
         null,
         null,
         null,
         null,
         "Northern Metropolitan",
         "4019.0"
        ],
        [
         "35",
         "46",
         "Abbotsford",
         "119/52 Nicholson St",
         "1",
         "u",
         "423500.0",
         "S",
         "hockingstuart",
         "22/05/2016",
         "2.5",
         "3067.0",
         null,
         null,
         null,
         null,
         null,
         null,
         null,
         null,
         null,
         "Northern Metropolitan",
         "4019.0"
        ],
        [
         "36",
         "48",
         "Abbotsford",
         "5/20 Abbotsford St",
         "1",
         "u",
         "426000.0",
         "SP",
         "Greg",
         "22/08/2016",
         "2.5",
         "3067.0",
         "1.0",
         "1.0",
         "1.0",
         "0.0",
         null,
         null,
         "Yarra",
         "-37.8016",
         "144.9988",
         "Northern Metropolitan",
         "4019.0"
        ],
        [
         "37",
         "49",
         "Abbotsford",
         "48 Abbotsford St",
         "3",
         "h",
         "1447500.0",
         "PI",
         "Nelson",
         "22/08/2016",
         "2.5",
         "3067.0",
         "3.0",
         "3.0",
         "1.0",
         "166.0",
         "174.0",
         "2012.0",
         "Yarra",
         "-37.8017",
         "145.0001",
         "Northern Metropolitan",
         "4019.0"
        ],
        [
         "38",
         "50",
         "Abbotsford",
         "116/56 Nicholson St",
         "1",
         "u",
         "457000.0",
         "S",
         "Jellis",
         "22/08/2016",
         "2.5",
         "3067.0",
         "1.0",
         "1.0",
         "1.0",
         "0.0",
         "50.0",
         null,
         "Yarra",
         "-37.8078",
         "144.9965",
         "Northern Metropolitan",
         "4019.0"
        ],
        [
         "39",
         "51",
         "Abbotsford",
         "159 Park St",
         "2",
         "h",
         "1135000.0",
         "S",
         "Nelson",
         "22/08/2016",
         "2.5",
         "3067.0",
         "2.0",
         "2.0",
         "2.0",
         "98.0",
         "128.0",
         "1920.0",
         "Yarra",
         "-37.8005",
         "144.9952",
         "Northern Metropolitan",
         "4019.0"
        ],
        [
         "40",
         "52",
         "Abbotsford",
         "49/84 Trenerry Cr",
         "2",
         "h",
         "700000.0",
         "S",
         "Biggin",
         "23/04/2016",
         "2.5",
         "3067.0",
         null,
         null,
         null,
         null,
         null,
         null,
         null,
         null,
         null,
         "Northern Metropolitan",
         "4019.0"
        ],
        [
         "41",
         "53",
         "Abbotsford",
         "31 Turner St",
         "4",
         "h",
         "1542000.0",
         "S",
         "Collins",
         "24/09/2016",
         "2.5",
         "3067.0",
         "4.0",
         "3.0",
         "1.0",
         "0.0",
         null,
         null,
         "Yarra",
         "-37.7994",
         "144.9965",
         "Northern Metropolitan",
         "4019.0"
        ],
        [
         "42",
         "54",
         "Abbotsford",
         "17/1 Abbot St",
         "3",
         "t",
         "962000.0",
         "SP",
         "Jellis",
         "25/02/2017",
         "2.5",
         "3067.0",
         null,
         null,
         null,
         null,
         null,
         null,
         null,
         "-37.7972",
         "144.9969",
         "Northern Metropolitan",
         "4019.0"
        ],
        [
         "43",
         "55",
         "Abbotsford",
         "166 Gipps St",
         "3",
         "h",
         "1290000.0",
         "S",
         "Biggin",
         "25/02/2017",
         "2.5",
         "3067.0",
         "3.0",
         "2.0",
         "2.0",
         "147.0",
         "18.0",
         null,
         "Yarra",
         "-37.805",
         "144.9943",
         "Northern Metropolitan",
         "4019.0"
        ],
        [
         "44",
         "56",
         "Abbotsford",
         "60 Stafford St",
         "3",
         "h",
         "1290000.0",
         "S",
         "Biggin",
         "25/02/2017",
         "2.5",
         "3067.0",
         "3.0",
         "1.0",
         "1.0",
         "168.0",
         "124.0",
         "1950.0",
         "Yarra",
         "-37.8007",
         "144.9958",
         "Northern Metropolitan",
         "4019.0"
        ],
        [
         "45",
         "57",
         "Abbotsford",
         "11/205 Gipps St",
         "1",
         "u",
         "470000.0",
         "S",
         "Nelson",
         "26/07/2016",
         "2.5",
         "3067.0",
         "1.0",
         "1.0",
         "1.0",
         "0.0",
         "50.0",
         "2013.0",
         "Yarra",
         "-37.8055",
         "144.9961",
         "Northern Metropolitan",
         "4019.0"
        ],
        [
         "46",
         "58",
         "Abbotsford",
         "47 Studley St",
         "2",
         "h",
         "1180000.0",
         "S",
         "Jellis",
         "27/11/2016",
         "2.5",
         "3067.0",
         "2.0",
         "1.0",
         "0.0",
         "162.0",
         "91.0",
         "1900.0",
         "Yarra",
         "-37.8016",
         "144.9956",
         "Northern Metropolitan",
         "4019.0"
        ],
        [
         "47",
         "59",
         "Abbotsford",
         "45 Yarra St",
         "3",
         "h",
         "1195000.0",
         "SP",
         "Jellis",
         "27/11/2016",
         "2.5",
         "3067.0",
         "3.0",
         "2.0",
         "1.0",
         "120.0",
         "128.0",
         "1998.0",
         "Yarra",
         "-37.8022",
         "144.9954",
         "Northern Metropolitan",
         "4019.0"
        ],
        [
         "48",
         "61",
         "Abbotsford",
         "200 Nicholson St",
         "2",
         "h",
         "1012500.0",
         "S",
         "Nelson",
         "28/05/2016",
         "2.5",
         "3067.0",
         "2.0",
         "1.0",
         "0.0",
         "182.0",
         "82.0",
         "1900.0",
         "Yarra",
         "-37.8021",
         "144.9976",
         "Northern Metropolitan",
         "4019.0"
        ],
        [
         "49",
         "62",
         "Abbotsford",
         "82/84 Trenerry Cr",
         "2",
         "u",
         "970000.0",
         "SP",
         "Biggin",
         "28/05/2016",
         "2.5",
         "3067.0",
         null,
         null,
         null,
         null,
         null,
         null,
         null,
         null,
         null,
         "Northern Metropolitan",
         "4019.0"
        ]
       ],
       "shape": {
        "columns": 22,
        "rows": 18396
       }
      },
      "text/html": [
       "<div>\n",
       "<style scoped>\n",
       "    .dataframe tbody tr th:only-of-type {\n",
       "        vertical-align: middle;\n",
       "    }\n",
       "\n",
       "    .dataframe tbody tr th {\n",
       "        vertical-align: top;\n",
       "    }\n",
       "\n",
       "    .dataframe thead th {\n",
       "        text-align: right;\n",
       "    }\n",
       "</style>\n",
       "<table border=\"1\" class=\"dataframe\">\n",
       "  <thead>\n",
       "    <tr style=\"text-align: right;\">\n",
       "      <th></th>\n",
       "      <th>Unnamed: 0</th>\n",
       "      <th>Suburb</th>\n",
       "      <th>Address</th>\n",
       "      <th>Rooms</th>\n",
       "      <th>Type</th>\n",
       "      <th>Price</th>\n",
       "      <th>Method</th>\n",
       "      <th>SellerG</th>\n",
       "      <th>Date</th>\n",
       "      <th>Distance</th>\n",
       "      <th>Postcode</th>\n",
       "      <th>Bedroom2</th>\n",
       "      <th>Bathroom</th>\n",
       "      <th>Car</th>\n",
       "      <th>Landsize</th>\n",
       "      <th>BuildingArea</th>\n",
       "      <th>YearBuilt</th>\n",
       "      <th>CouncilArea</th>\n",
       "      <th>Lattitude</th>\n",
       "      <th>Longtitude</th>\n",
       "      <th>Regionname</th>\n",
       "      <th>Propertycount</th>\n",
       "    </tr>\n",
       "  </thead>\n",
       "  <tbody>\n",
       "    <tr>\n",
       "      <th>0</th>\n",
       "      <td>1</td>\n",
       "      <td>Abbotsford</td>\n",
       "      <td>85 Turner St</td>\n",
       "      <td>2</td>\n",
       "      <td>h</td>\n",
       "      <td>1480000.0</td>\n",
       "      <td>S</td>\n",
       "      <td>Biggin</td>\n",
       "      <td>3/12/2016</td>\n",
       "      <td>2.5</td>\n",
       "      <td>3067.0</td>\n",
       "      <td>2.0</td>\n",
       "      <td>1.0</td>\n",
       "      <td>1.0</td>\n",
       "      <td>202.0</td>\n",
       "      <td>NaN</td>\n",
       "      <td>NaN</td>\n",
       "      <td>Yarra</td>\n",
       "      <td>-37.79960</td>\n",
       "      <td>144.99840</td>\n",
       "      <td>Northern Metropolitan</td>\n",
       "      <td>4019.0</td>\n",
       "    </tr>\n",
       "    <tr>\n",
       "      <th>1</th>\n",
       "      <td>2</td>\n",
       "      <td>Abbotsford</td>\n",
       "      <td>25 Bloomburg St</td>\n",
       "      <td>2</td>\n",
       "      <td>h</td>\n",
       "      <td>1035000.0</td>\n",
       "      <td>S</td>\n",
       "      <td>Biggin</td>\n",
       "      <td>4/02/2016</td>\n",
       "      <td>2.5</td>\n",
       "      <td>3067.0</td>\n",
       "      <td>2.0</td>\n",
       "      <td>1.0</td>\n",
       "      <td>0.0</td>\n",
       "      <td>156.0</td>\n",
       "      <td>79.0</td>\n",
       "      <td>1900.0</td>\n",
       "      <td>Yarra</td>\n",
       "      <td>-37.80790</td>\n",
       "      <td>144.99340</td>\n",
       "      <td>Northern Metropolitan</td>\n",
       "      <td>4019.0</td>\n",
       "    </tr>\n",
       "    <tr>\n",
       "      <th>2</th>\n",
       "      <td>4</td>\n",
       "      <td>Abbotsford</td>\n",
       "      <td>5 Charles St</td>\n",
       "      <td>3</td>\n",
       "      <td>h</td>\n",
       "      <td>1465000.0</td>\n",
       "      <td>SP</td>\n",
       "      <td>Biggin</td>\n",
       "      <td>4/03/2017</td>\n",
       "      <td>2.5</td>\n",
       "      <td>3067.0</td>\n",
       "      <td>3.0</td>\n",
       "      <td>2.0</td>\n",
       "      <td>0.0</td>\n",
       "      <td>134.0</td>\n",
       "      <td>150.0</td>\n",
       "      <td>1900.0</td>\n",
       "      <td>Yarra</td>\n",
       "      <td>-37.80930</td>\n",
       "      <td>144.99440</td>\n",
       "      <td>Northern Metropolitan</td>\n",
       "      <td>4019.0</td>\n",
       "    </tr>\n",
       "    <tr>\n",
       "      <th>3</th>\n",
       "      <td>5</td>\n",
       "      <td>Abbotsford</td>\n",
       "      <td>40 Federation La</td>\n",
       "      <td>3</td>\n",
       "      <td>h</td>\n",
       "      <td>850000.0</td>\n",
       "      <td>PI</td>\n",
       "      <td>Biggin</td>\n",
       "      <td>4/03/2017</td>\n",
       "      <td>2.5</td>\n",
       "      <td>3067.0</td>\n",
       "      <td>3.0</td>\n",
       "      <td>2.0</td>\n",
       "      <td>1.0</td>\n",
       "      <td>94.0</td>\n",
       "      <td>NaN</td>\n",
       "      <td>NaN</td>\n",
       "      <td>Yarra</td>\n",
       "      <td>-37.79690</td>\n",
       "      <td>144.99690</td>\n",
       "      <td>Northern Metropolitan</td>\n",
       "      <td>4019.0</td>\n",
       "    </tr>\n",
       "    <tr>\n",
       "      <th>4</th>\n",
       "      <td>6</td>\n",
       "      <td>Abbotsford</td>\n",
       "      <td>55a Park St</td>\n",
       "      <td>4</td>\n",
       "      <td>h</td>\n",
       "      <td>1600000.0</td>\n",
       "      <td>VB</td>\n",
       "      <td>Nelson</td>\n",
       "      <td>4/06/2016</td>\n",
       "      <td>2.5</td>\n",
       "      <td>3067.0</td>\n",
       "      <td>3.0</td>\n",
       "      <td>1.0</td>\n",
       "      <td>2.0</td>\n",
       "      <td>120.0</td>\n",
       "      <td>142.0</td>\n",
       "      <td>2014.0</td>\n",
       "      <td>Yarra</td>\n",
       "      <td>-37.80720</td>\n",
       "      <td>144.99410</td>\n",
       "      <td>Northern Metropolitan</td>\n",
       "      <td>4019.0</td>\n",
       "    </tr>\n",
       "    <tr>\n",
       "      <th>...</th>\n",
       "      <td>...</td>\n",
       "      <td>...</td>\n",
       "      <td>...</td>\n",
       "      <td>...</td>\n",
       "      <td>...</td>\n",
       "      <td>...</td>\n",
       "      <td>...</td>\n",
       "      <td>...</td>\n",
       "      <td>...</td>\n",
       "      <td>...</td>\n",
       "      <td>...</td>\n",
       "      <td>...</td>\n",
       "      <td>...</td>\n",
       "      <td>...</td>\n",
       "      <td>...</td>\n",
       "      <td>...</td>\n",
       "      <td>...</td>\n",
       "      <td>...</td>\n",
       "      <td>...</td>\n",
       "      <td>...</td>\n",
       "      <td>...</td>\n",
       "      <td>...</td>\n",
       "    </tr>\n",
       "    <tr>\n",
       "      <th>18391</th>\n",
       "      <td>23540</td>\n",
       "      <td>Williamstown</td>\n",
       "      <td>8/2 Thompson St</td>\n",
       "      <td>2</td>\n",
       "      <td>t</td>\n",
       "      <td>622500.0</td>\n",
       "      <td>SP</td>\n",
       "      <td>Greg</td>\n",
       "      <td>26/08/2017</td>\n",
       "      <td>6.8</td>\n",
       "      <td>3016.0</td>\n",
       "      <td>2.0</td>\n",
       "      <td>2.0</td>\n",
       "      <td>1.0</td>\n",
       "      <td>NaN</td>\n",
       "      <td>89.0</td>\n",
       "      <td>2010.0</td>\n",
       "      <td>NaN</td>\n",
       "      <td>-37.86393</td>\n",
       "      <td>144.90484</td>\n",
       "      <td>Western Metropolitan</td>\n",
       "      <td>6380.0</td>\n",
       "    </tr>\n",
       "    <tr>\n",
       "      <th>18392</th>\n",
       "      <td>23541</td>\n",
       "      <td>Williamstown</td>\n",
       "      <td>96 Verdon St</td>\n",
       "      <td>4</td>\n",
       "      <td>h</td>\n",
       "      <td>2500000.0</td>\n",
       "      <td>PI</td>\n",
       "      <td>Sweeney</td>\n",
       "      <td>26/08/2017</td>\n",
       "      <td>6.8</td>\n",
       "      <td>3016.0</td>\n",
       "      <td>4.0</td>\n",
       "      <td>1.0</td>\n",
       "      <td>5.0</td>\n",
       "      <td>866.0</td>\n",
       "      <td>157.0</td>\n",
       "      <td>1920.0</td>\n",
       "      <td>NaN</td>\n",
       "      <td>-37.85908</td>\n",
       "      <td>144.89299</td>\n",
       "      <td>Western Metropolitan</td>\n",
       "      <td>6380.0</td>\n",
       "    </tr>\n",
       "    <tr>\n",
       "      <th>18393</th>\n",
       "      <td>23544</td>\n",
       "      <td>Yallambie</td>\n",
       "      <td>17 Amaroo Wy</td>\n",
       "      <td>4</td>\n",
       "      <td>h</td>\n",
       "      <td>1100000.0</td>\n",
       "      <td>S</td>\n",
       "      <td>Buckingham</td>\n",
       "      <td>26/08/2017</td>\n",
       "      <td>12.7</td>\n",
       "      <td>3085.0</td>\n",
       "      <td>4.0</td>\n",
       "      <td>3.0</td>\n",
       "      <td>2.0</td>\n",
       "      <td>NaN</td>\n",
       "      <td>NaN</td>\n",
       "      <td>NaN</td>\n",
       "      <td>NaN</td>\n",
       "      <td>-37.72006</td>\n",
       "      <td>145.10547</td>\n",
       "      <td>Northern Metropolitan</td>\n",
       "      <td>1369.0</td>\n",
       "    </tr>\n",
       "    <tr>\n",
       "      <th>18394</th>\n",
       "      <td>23545</td>\n",
       "      <td>Yarraville</td>\n",
       "      <td>6 Agnes St</td>\n",
       "      <td>4</td>\n",
       "      <td>h</td>\n",
       "      <td>1285000.0</td>\n",
       "      <td>SP</td>\n",
       "      <td>Village</td>\n",
       "      <td>26/08/2017</td>\n",
       "      <td>6.3</td>\n",
       "      <td>3013.0</td>\n",
       "      <td>4.0</td>\n",
       "      <td>1.0</td>\n",
       "      <td>1.0</td>\n",
       "      <td>362.0</td>\n",
       "      <td>112.0</td>\n",
       "      <td>1920.0</td>\n",
       "      <td>NaN</td>\n",
       "      <td>-37.81188</td>\n",
       "      <td>144.88449</td>\n",
       "      <td>Western Metropolitan</td>\n",
       "      <td>6543.0</td>\n",
       "    </tr>\n",
       "    <tr>\n",
       "      <th>18395</th>\n",
       "      <td>23546</td>\n",
       "      <td>Yarraville</td>\n",
       "      <td>33 Freeman St</td>\n",
       "      <td>4</td>\n",
       "      <td>h</td>\n",
       "      <td>1050000.0</td>\n",
       "      <td>VB</td>\n",
       "      <td>Village</td>\n",
       "      <td>26/08/2017</td>\n",
       "      <td>6.3</td>\n",
       "      <td>3013.0</td>\n",
       "      <td>4.0</td>\n",
       "      <td>2.0</td>\n",
       "      <td>2.0</td>\n",
       "      <td>NaN</td>\n",
       "      <td>139.0</td>\n",
       "      <td>1950.0</td>\n",
       "      <td>NaN</td>\n",
       "      <td>-37.81829</td>\n",
       "      <td>144.87404</td>\n",
       "      <td>Western Metropolitan</td>\n",
       "      <td>6543.0</td>\n",
       "    </tr>\n",
       "  </tbody>\n",
       "</table>\n",
       "<p>18396 rows × 22 columns</p>\n",
       "</div>"
      ],
      "text/plain": [
       "       Unnamed: 0        Suburb           Address  Rooms Type      Price  \\\n",
       "0               1    Abbotsford      85 Turner St      2    h  1480000.0   \n",
       "1               2    Abbotsford   25 Bloomburg St      2    h  1035000.0   \n",
       "2               4    Abbotsford      5 Charles St      3    h  1465000.0   \n",
       "3               5    Abbotsford  40 Federation La      3    h   850000.0   \n",
       "4               6    Abbotsford       55a Park St      4    h  1600000.0   \n",
       "...           ...           ...               ...    ...  ...        ...   \n",
       "18391       23540  Williamstown   8/2 Thompson St      2    t   622500.0   \n",
       "18392       23541  Williamstown      96 Verdon St      4    h  2500000.0   \n",
       "18393       23544     Yallambie      17 Amaroo Wy      4    h  1100000.0   \n",
       "18394       23545    Yarraville        6 Agnes St      4    h  1285000.0   \n",
       "18395       23546    Yarraville     33 Freeman St      4    h  1050000.0   \n",
       "\n",
       "      Method     SellerG        Date  Distance  Postcode  Bedroom2  Bathroom  \\\n",
       "0          S      Biggin   3/12/2016       2.5    3067.0       2.0       1.0   \n",
       "1          S      Biggin   4/02/2016       2.5    3067.0       2.0       1.0   \n",
       "2         SP      Biggin   4/03/2017       2.5    3067.0       3.0       2.0   \n",
       "3         PI      Biggin   4/03/2017       2.5    3067.0       3.0       2.0   \n",
       "4         VB      Nelson   4/06/2016       2.5    3067.0       3.0       1.0   \n",
       "...      ...         ...         ...       ...       ...       ...       ...   \n",
       "18391     SP        Greg  26/08/2017       6.8    3016.0       2.0       2.0   \n",
       "18392     PI     Sweeney  26/08/2017       6.8    3016.0       4.0       1.0   \n",
       "18393      S  Buckingham  26/08/2017      12.7    3085.0       4.0       3.0   \n",
       "18394     SP     Village  26/08/2017       6.3    3013.0       4.0       1.0   \n",
       "18395     VB     Village  26/08/2017       6.3    3013.0       4.0       2.0   \n",
       "\n",
       "       Car  Landsize  BuildingArea  YearBuilt CouncilArea  Lattitude  \\\n",
       "0      1.0     202.0           NaN        NaN       Yarra  -37.79960   \n",
       "1      0.0     156.0          79.0     1900.0       Yarra  -37.80790   \n",
       "2      0.0     134.0         150.0     1900.0       Yarra  -37.80930   \n",
       "3      1.0      94.0           NaN        NaN       Yarra  -37.79690   \n",
       "4      2.0     120.0         142.0     2014.0       Yarra  -37.80720   \n",
       "...    ...       ...           ...        ...         ...        ...   \n",
       "18391  1.0       NaN          89.0     2010.0         NaN  -37.86393   \n",
       "18392  5.0     866.0         157.0     1920.0         NaN  -37.85908   \n",
       "18393  2.0       NaN           NaN        NaN         NaN  -37.72006   \n",
       "18394  1.0     362.0         112.0     1920.0         NaN  -37.81188   \n",
       "18395  2.0       NaN         139.0     1950.0         NaN  -37.81829   \n",
       "\n",
       "       Longtitude             Regionname  Propertycount  \n",
       "0       144.99840  Northern Metropolitan         4019.0  \n",
       "1       144.99340  Northern Metropolitan         4019.0  \n",
       "2       144.99440  Northern Metropolitan         4019.0  \n",
       "3       144.99690  Northern Metropolitan         4019.0  \n",
       "4       144.99410  Northern Metropolitan         4019.0  \n",
       "...           ...                    ...            ...  \n",
       "18391   144.90484   Western Metropolitan         6380.0  \n",
       "18392   144.89299   Western Metropolitan         6380.0  \n",
       "18393   145.10547  Northern Metropolitan         1369.0  \n",
       "18394   144.88449   Western Metropolitan         6543.0  \n",
       "18395   144.87404   Western Metropolitan         6543.0  \n",
       "\n",
       "[18396 rows x 22 columns]"
      ]
     },
     "execution_count": 3,
     "metadata": {},
     "output_type": "execute_result"
    }
   ],
   "source": [
    "dataset = pd.read_csv('https://raw.githubusercontent.com/enuguru/aiandml/refs/heads/master/datasets/melb_data.csv')\n",
    "## show all columns in the dataset\n",
    "pd.set_option('display.max_columns', None)\n",
    "dataset\n",
    "\n"
   ]
  },
  {
   "cell_type": "code",
   "execution_count": 4,
   "id": "a522c223",
   "metadata": {},
   "outputs": [
    {
     "data": {
      "application/vnd.microsoft.datawrangler.viewer.v0+json": {
       "columns": [
        {
         "name": "index",
         "rawType": "object",
         "type": "string"
        },
        {
         "name": "0",
         "rawType": "int64",
         "type": "integer"
        }
       ],
       "ref": "5495683b-c2ee-4fd5-9313-eb8a2610285f",
       "rows": [
        [
         "Unnamed: 0",
         "0"
        ],
        [
         "Suburb",
         "0"
        ],
        [
         "Address",
         "0"
        ],
        [
         "Rooms",
         "0"
        ],
        [
         "Type",
         "0"
        ],
        [
         "Price",
         "0"
        ],
        [
         "Method",
         "0"
        ],
        [
         "SellerG",
         "0"
        ],
        [
         "Date",
         "0"
        ],
        [
         "Distance",
         "1"
        ],
        [
         "Postcode",
         "1"
        ],
        [
         "Bedroom2",
         "3469"
        ],
        [
         "Bathroom",
         "3471"
        ],
        [
         "Car",
         "3576"
        ],
        [
         "Landsize",
         "4793"
        ],
        [
         "BuildingArea",
         "10634"
        ],
        [
         "YearBuilt",
         "9438"
        ],
        [
         "CouncilArea",
         "6163"
        ],
        [
         "Lattitude",
         "3332"
        ],
        [
         "Longtitude",
         "3332"
        ],
        [
         "Regionname",
         "1"
        ],
        [
         "Propertycount",
         "1"
        ]
       ],
       "shape": {
        "columns": 1,
        "rows": 22
       }
      },
      "text/plain": [
       "Unnamed: 0           0\n",
       "Suburb               0\n",
       "Address              0\n",
       "Rooms                0\n",
       "Type                 0\n",
       "Price                0\n",
       "Method               0\n",
       "SellerG              0\n",
       "Date                 0\n",
       "Distance             1\n",
       "Postcode             1\n",
       "Bedroom2          3469\n",
       "Bathroom          3471\n",
       "Car               3576\n",
       "Landsize          4793\n",
       "BuildingArea     10634\n",
       "YearBuilt         9438\n",
       "CouncilArea       6163\n",
       "Lattitude         3332\n",
       "Longtitude        3332\n",
       "Regionname           1\n",
       "Propertycount        1\n",
       "dtype: int64"
      ]
     },
     "execution_count": 4,
     "metadata": {},
     "output_type": "execute_result"
    }
   ],
   "source": [
    "#check for null values  \n",
    "dataset.isnull().sum()\n"
   ]
  },
  {
   "cell_type": "code",
   "execution_count": 5,
   "id": "f0e94aba",
   "metadata": {},
   "outputs": [],
   "source": [
    "#drop null values   \n",
    "dataset = dataset.dropna()\n",
    "\n",
    "\n",
    "#selecting features and target variable\n",
    "inputX = dataset[['Rooms', 'Bathroom', 'Landsize']]\n",
    "inputy = dataset['Price']    \n",
    "\n",
    "\n",
    "\n",
    "\n",
    "\n"
   ]
  },
  {
   "cell_type": "markdown",
   "id": "a10b5111",
   "metadata": {},
   "source": [
    "## Step 3: splitting it to input and output\n"
   ]
  },
  {
   "cell_type": "code",
   "execution_count": 6,
   "id": "683ea95c",
   "metadata": {},
   "outputs": [],
   "source": [
    "#splitting the dataset into training and testing sets\n",
    "input_train, input_test, output_train, output_test = train_test_split(inputX, inputy, test_size=0.2, random_state=42)\n",
    "#creating a linear regression model\n",
    "model = LinearRegression()\n",
    "#fitting the model to the training data\n",
    "model.fit(input_train, output_train)\n",
    "#predicting the house prices for the test set\n",
    "output_pred = model.predict(input_test)"
   ]
  },
  {
   "cell_type": "markdown",
   "id": "d9e9ecbb",
   "metadata": {},
   "source": [
    "## Step 4 : Testing or Model prediction using testinput"
   ]
  },
  {
   "cell_type": "code",
   "execution_count": 7,
   "id": "e964549a",
   "metadata": {},
   "outputs": [
    {
     "data": {
      "application/vnd.microsoft.datawrangler.viewer.v0+json": {
       "columns": [
        {
         "name": "index",
         "rawType": "int64",
         "type": "integer"
        },
        {
         "name": "Rooms",
         "rawType": "int64",
         "type": "integer"
        },
        {
         "name": "Bathroom",
         "rawType": "float64",
         "type": "float"
        },
        {
         "name": "Landsize",
         "rawType": "float64",
         "type": "float"
        },
        {
         "name": "Price",
         "rawType": "float64",
         "type": "float"
        }
       ],
       "ref": "88c8b17a-00c7-4585-b954-ec115e3393b7",
       "rows": [
        [
         "1",
         "2",
         "1.0",
         "156.0",
         "1035000.0"
        ],
        [
         "2",
         "3",
         "2.0",
         "134.0",
         "1465000.0"
        ],
        [
         "4",
         "4",
         "1.0",
         "120.0",
         "1600000.0"
        ],
        [
         "6",
         "3",
         "2.0",
         "245.0",
         "1876000.0"
        ],
        [
         "7",
         "2",
         "1.0",
         "256.0",
         "1636000.0"
        ],
        [
         "11",
         "2",
         "1.0",
         "220.0",
         "1097000.0"
        ],
        [
         "16",
         "3",
         "2.0",
         "214.0",
         "1350000.0"
        ],
        [
         "17",
         "2",
         "2.0",
         "0.0",
         "750000.0"
        ],
        [
         "22",
         "2",
         "1.0",
         "238.0",
         "1310000.0"
        ],
        [
         "23",
         "3",
         "2.0",
         "113.0",
         "1200000.0"
        ],
        [
         "25",
         "3",
         "1.0",
         "138.0",
         "1176500.0"
        ],
        [
         "27",
         "2",
         "1.0",
         "150.0",
         "890000.0"
        ],
        [
         "28",
         "4",
         "2.0",
         "780.0",
         "1330000.0"
        ],
        [
         "31",
         "2",
         "1.0",
         "0.0",
         "500000.0"
        ],
        [
         "32",
         "2",
         "2.0",
         "124.0",
         "1100000.0"
        ],
        [
         "33",
         "2",
         "1.0",
         "147.0",
         "1315000.0"
        ],
        [
         "37",
         "3",
         "3.0",
         "166.0",
         "1447500.0"
        ],
        [
         "39",
         "2",
         "2.0",
         "98.0",
         "1135000.0"
        ],
        [
         "44",
         "3",
         "1.0",
         "168.0",
         "1290000.0"
        ],
        [
         "45",
         "1",
         "1.0",
         "0.0",
         "470000.0"
        ],
        [
         "46",
         "2",
         "1.0",
         "162.0",
         "1180000.0"
        ],
        [
         "47",
         "3",
         "2.0",
         "120.0",
         "1195000.0"
        ],
        [
         "48",
         "2",
         "1.0",
         "182.0",
         "1012500.0"
        ],
        [
         "50",
         "2",
         "1.0",
         "172.0",
         "1030000.0"
        ],
        [
         "52",
         "3",
         "2.0",
         "303.0",
         "840000.0"
        ],
        [
         "53",
         "3",
         "2.0",
         "0.0",
         "730000.0"
        ],
        [
         "54",
         "3",
         "2.0",
         "0.0",
         "770000.0"
        ],
        [
         "55",
         "2",
         "1.0",
         "272.0",
         "603000.0"
        ],
        [
         "56",
         "3",
         "2.0",
         "239.0",
         "700000.0"
        ],
        [
         "57",
         "3",
         "1.0",
         "290.0",
         "600000.0"
        ],
        [
         "58",
         "2",
         "1.0",
         "168.0",
         "500000.0"
        ],
        [
         "66",
         "6",
         "3.0",
         "976.0",
         "725000.0"
        ],
        [
         "67",
         "2",
         "1.0",
         "110.0",
         "450000.0"
        ],
        [
         "68",
         "2",
         "1.0",
         "141.0",
         "515000.0"
        ],
        [
         "70",
         "2",
         "1.0",
         "120.0",
         "530000.0"
        ],
        [
         "71",
         "3",
         "1.0",
         "1063.0",
         "895000.0"
        ],
        [
         "73",
         "3",
         "1.0",
         "0.0",
         "805000.0"
        ],
        [
         "75",
         "3",
         "1.0",
         "265.0",
         "752000.0"
        ],
        [
         "83",
         "3",
         "2.0",
         "165.0",
         "700000.0"
        ],
        [
         "85",
         "3",
         "1.0",
         "971.0",
         "830000.0"
        ],
        [
         "88",
         "2",
         "1.0",
         "612.0",
         "675000.0"
        ],
        [
         "89",
         "3",
         "2.0",
         "612.0",
         "1042000.0"
        ],
        [
         "91",
         "4",
         "3.0",
         "531.0",
         "773000.0"
        ],
        [
         "93",
         "3",
         "3.0",
         "555.0",
         "810000.0"
        ],
        [
         "94",
         "3",
         "2.0",
         "422.0",
         "715000.0"
        ],
        [
         "97",
         "3",
         "2.0",
         "161.0",
         "540000.0"
        ],
        [
         "98",
         "3",
         "2.0",
         "293.0",
         "825000.0"
        ],
        [
         "99",
         "3",
         "1.0",
         "579.0",
         "685000.0"
        ],
        [
         "113",
         "4",
         "2.0",
         "628.0",
         "900000.0"
        ],
        [
         "117",
         "2",
         "1.0",
         "120.0",
         "1275000.0"
        ]
       ],
       "shape": {
        "columns": 4,
        "rows": 6196
       }
      },
      "text/html": [
       "<div>\n",
       "<style scoped>\n",
       "    .dataframe tbody tr th:only-of-type {\n",
       "        vertical-align: middle;\n",
       "    }\n",
       "\n",
       "    .dataframe tbody tr th {\n",
       "        vertical-align: top;\n",
       "    }\n",
       "\n",
       "    .dataframe thead th {\n",
       "        text-align: right;\n",
       "    }\n",
       "</style>\n",
       "<table border=\"1\" class=\"dataframe\">\n",
       "  <thead>\n",
       "    <tr style=\"text-align: right;\">\n",
       "      <th></th>\n",
       "      <th>Rooms</th>\n",
       "      <th>Bathroom</th>\n",
       "      <th>Landsize</th>\n",
       "      <th>Price</th>\n",
       "    </tr>\n",
       "  </thead>\n",
       "  <tbody>\n",
       "    <tr>\n",
       "      <th>1</th>\n",
       "      <td>2</td>\n",
       "      <td>1.0</td>\n",
       "      <td>156.0</td>\n",
       "      <td>1035000.0</td>\n",
       "    </tr>\n",
       "    <tr>\n",
       "      <th>2</th>\n",
       "      <td>3</td>\n",
       "      <td>2.0</td>\n",
       "      <td>134.0</td>\n",
       "      <td>1465000.0</td>\n",
       "    </tr>\n",
       "    <tr>\n",
       "      <th>4</th>\n",
       "      <td>4</td>\n",
       "      <td>1.0</td>\n",
       "      <td>120.0</td>\n",
       "      <td>1600000.0</td>\n",
       "    </tr>\n",
       "    <tr>\n",
       "      <th>6</th>\n",
       "      <td>3</td>\n",
       "      <td>2.0</td>\n",
       "      <td>245.0</td>\n",
       "      <td>1876000.0</td>\n",
       "    </tr>\n",
       "    <tr>\n",
       "      <th>7</th>\n",
       "      <td>2</td>\n",
       "      <td>1.0</td>\n",
       "      <td>256.0</td>\n",
       "      <td>1636000.0</td>\n",
       "    </tr>\n",
       "    <tr>\n",
       "      <th>...</th>\n",
       "      <td>...</td>\n",
       "      <td>...</td>\n",
       "      <td>...</td>\n",
       "      <td>...</td>\n",
       "    </tr>\n",
       "    <tr>\n",
       "      <th>15388</th>\n",
       "      <td>3</td>\n",
       "      <td>2.0</td>\n",
       "      <td>972.0</td>\n",
       "      <td>601000.0</td>\n",
       "    </tr>\n",
       "    <tr>\n",
       "      <th>15389</th>\n",
       "      <td>3</td>\n",
       "      <td>1.0</td>\n",
       "      <td>179.0</td>\n",
       "      <td>1050000.0</td>\n",
       "    </tr>\n",
       "    <tr>\n",
       "      <th>15390</th>\n",
       "      <td>1</td>\n",
       "      <td>1.0</td>\n",
       "      <td>0.0</td>\n",
       "      <td>385000.0</td>\n",
       "    </tr>\n",
       "    <tr>\n",
       "      <th>15392</th>\n",
       "      <td>2</td>\n",
       "      <td>1.0</td>\n",
       "      <td>0.0</td>\n",
       "      <td>560000.0</td>\n",
       "    </tr>\n",
       "    <tr>\n",
       "      <th>15395</th>\n",
       "      <td>6</td>\n",
       "      <td>3.0</td>\n",
       "      <td>1087.0</td>\n",
       "      <td>2450000.0</td>\n",
       "    </tr>\n",
       "  </tbody>\n",
       "</table>\n",
       "<p>6196 rows × 4 columns</p>\n",
       "</div>"
      ],
      "text/plain": [
       "       Rooms  Bathroom  Landsize      Price\n",
       "1          2       1.0     156.0  1035000.0\n",
       "2          3       2.0     134.0  1465000.0\n",
       "4          4       1.0     120.0  1600000.0\n",
       "6          3       2.0     245.0  1876000.0\n",
       "7          2       1.0     256.0  1636000.0\n",
       "...      ...       ...       ...        ...\n",
       "15388      3       2.0     972.0   601000.0\n",
       "15389      3       1.0     179.0  1050000.0\n",
       "15390      1       1.0       0.0   385000.0\n",
       "15392      2       1.0       0.0   560000.0\n",
       "15395      6       3.0    1087.0  2450000.0\n",
       "\n",
       "[6196 rows x 4 columns]"
      ]
     },
     "execution_count": 7,
     "metadata": {},
     "output_type": "execute_result"
    }
   ],
   "source": [
    "dataset[['Rooms', 'Bathroom', 'Landsize','Price']]"
   ]
  },
  {
   "cell_type": "code",
   "execution_count": 8,
   "id": "aa63146b",
   "metadata": {},
   "outputs": [
    {
     "name": "stdout",
     "output_type": "stream",
     "text": [
      "\n",
      "The predicted output for the input [[  3   2 113]] is [1195609.7949137]\n",
      "\n",
      "The model score is 0.34066087079451524\n",
      "\n",
      "The coefficients of the model are [2.54724012e+05 2.65692498e+05 1.65378992e+01]\n",
      "\n",
      "The intercept of the model is -101816.01999574574\n"
     ]
    },
    {
     "name": "stderr",
     "output_type": "stream",
     "text": [
      "c:\\genai\\gen3\\Lib\\site-packages\\sklearn\\utils\\validation.py:2749: UserWarning: X does not have valid feature names, but LinearRegression was fitted with feature names\n",
      "  warnings.warn(\n"
     ]
    }
   ],
   "source": [
    "\n",
    "\n",
    "testinput = np.array([[3, 2, 113]])  # Example input: 3 rooms, 2 bathrooms, 113 square meters of land\n",
    "predicted_output = model.predict(testinput)\n",
    "\n",
    "print(\"\\nThe predicted output for the input\", testinput, \"is\", predicted_output)\n",
    "print(\"\\nThe model score is\", model.score(input_test, output_test))\n",
    "print(\"\\nThe coefficients of the model are\", model.coef_)\n",
    "print(\"\\nThe intercept of the model is\", model.intercept_)         "
   ]
  },
  {
   "cell_type": "markdown",
   "id": "46ae6507",
   "metadata": {},
   "source": [
    "### step 5: Visualising using matplotlib the training results"
   ]
  },
  {
   "cell_type": "code",
   "execution_count": 9,
   "id": "5c0bba0b",
   "metadata": {},
   "outputs": [
    {
     "data": {
      "image/png": "[encoded data removed]",
      "text/plain": [
       "<Figure size 1000x800 with 1 Axes>"
      ]
     },
     "metadata": {},
     "output_type": "display_data"
    }
   ],
   "source": [
    "\n",
    "#plotting the 3D plot\n",
    "fig = plt.figure(figsize=(10, 8))   \n",
    "ax = fig.add_subplot(111, projection='3d')\n",
    "ax.scatter(input_test['Rooms'], input_test['Bathroom'], output_test, color='blue', label='Actual Prices')\n",
    "ax.scatter(input_test['Rooms'], input_test['Bathroom'], output_pred, color='red',label='Predicted Prices', alpha=0.5)\n",
    "\n",
    "ax.set_xlabel('Rooms')\n",
    "ax.set_ylabel('Bathroom')\n",
    "ax.set_zlabel('Price')\n",
    "ax.set_title('3D Plot of House Price Prediction')\n",
    "ax.legend()\n",
    "plt.show()  "
   ]
  },
  {
   "cell_type": "markdown",
   "id": "cd07a600",
   "metadata": {},
   "source": [
    "### step 5: Visualising using seaborn the training results"
   ]
  },
  {
   "cell_type": "code",
   "execution_count": 14,
   "id": "b49e70d7",
   "metadata": {},
   "outputs": [
    {
     "data": {
      "application/vnd.plotly.v1+json": {
       "config": {
        "plotlyServerURL": "https://plot.ly"
       },
       "data": [
        {
         "hovertemplate": "Number of Rooms=%{x}<br>Number of Bathrooms=%{y}<br>z=%{z}<br>color=%{marker.color}<extra></extra>",
         "legendgroup": "",
         "marker": {
          "color": {
           "bdata": "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",
           "dtype": "f8"
          },
          "coloraxis": "coloraxis",
          "size": 5,
          "symbol": "circle"
         },
         "mode": "markers",
         "name": "",
         "scene": "scene",
         "showlegend": false,
         "type": "scatter3d",
         "x": {
          "bdata": "AgMCAgQCAQMDBAMDAgUCAwMDBAICAwMEAwMCAwMBAgMDAgQDAgMDAgIBAgQDAwMDAwIEBAIDAQMEBQEDAwQCAwICAgIDAwQCAwMDAgIEAwQDAgIDAgICAgQEAwQCAwEBBAIEAgQCAgQDAwIDAwICBAQCBQQCAwMEAgMCAwEBAwMCAQMDAwQCAwMCAwIEAgICAgEDBAMEAgIFAwIDAQIDBAQDBAIDAwICAwMCBAMDAwQCAgMDBAMCAwICAgMDBAIDAgMCAwIDAgIBBAMDAgMEAwMCAQICAwQDAQMDBAICAwMDAwMCAgMDAgQCAgICAgMDAwIDAwQDAwMCAgMCAgIDAgMCAwQDBAQFAwQEAgQEAQMCAwMBAwIBAwMEBAIDAwICAgQEAgIEAwMDBAMDAQQDAwMCAwMDAgMDAQIBBAICBAIFBgECBQQCAwYCBAQCAwEDAwMEBQIEAwIEAwIDAwMDAwMCAgMDAwICBQIDAwMBBQIDAwIDAwQDBAMEAQICAwQDAgQEAwIDAwIFAgMBAwQCAwIEAgMEAgQDAQQDBAMCAwIDBAMGAgMEBAEDAwMEBAMCBAIEAwIDAwMCAgMDBAMCAgMDAwICAgMBAgECBAMCAgIBBAIBAwMEBAMDBAUEAgQDAgEDBQIEAwMDAwMCBAQDBQIDAwQDAgEDAgMCAgMDAwQDBQMFBQQCBAMCBAEFAwUCAwQEBQUDBAMEAwQDAwMDBAICAQIBBAIDBAMCAwMDBAMEAgIDAwIDAwMDAgQDAwICAQIDAwMDBAMFBAMCBAQDAgIEBAMDAwQEAQMDBAICAwIDAwMDBQMEAgIDBAQBBAMDBAMEAQMEAgMCAgEDAwQFAgMEAwQCBAMEAgEDAgUDAgMCAwMDAwMCAgMDAQMEAgUCAwIEAwIEAwMEAwMDAgICAwMCBAICAgEDBAMCBAICAwMDBAIDAwMDBAQEAwQEBAIEBAIBBQQCBAMEAwMCAwQEBAICBAICAwICAgQEAQQDAwIEAgMDAgMCAwQEBQUCAgIFAwIDAwMCAgMDBAUEBAQDAwIDAwUDAwMCAgUDAgMEAwIFBgQCAwQDAgICAgQEAgQDAwMBAwMEAQMCAQQEAwMFAgMDAQUCAgUEBAMCAgUDBAMDBAIDBAQDAwMDAQIEAgMDBAMDAwUDBAMCAgQDAwICAgMDAwQDAwUDBAMCAwMDBAMDAgQDAwQDBAMEAwMDBAMDAwICAQICBAQFBAIDBAIDAwIEAwIEBAIEAgQBAwMDAwQDBAMDBAIEAQMCAgMDAgIDAwQDAgEBAwMDBAMDBQMCAgMEAgMDAgMDAwMDAwICBAIEAwEDBAQEBAMEBAEDAwMCAwQCBAQCAgICAwMDAwMEAwIDAgMDAwUEBAQCBAIDAwQDAwUDBAEDBAQDAgMDBQICAwMCBQQEAwMBAgIFAwQCAwUCAwIGAwMEAQMCAwMEBQQCBAMBAwQEBAIDAwIEAwMDAgIDAgEDAwIDAgQEAgIEAwMDAwICBAICAwIDBgIDAwIFBAUCAwMEBAIEBQMEAwIBBAQCAwQFBAQBAwQCBAMEBQICAgIDAwQEAwMDBAMDAwEDAwMCAwIEAgQEAwMDAQMDAgIDAgIEAwMDAgMEAgQCAwQDAwIDAgMDAgMDAgIDBAMEBAIDBAMBAg==",
          "dtype": "i1"
         },
         "y": {
          "bdata": "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",
          "dtype": "f8"
         },
         "z": {
          "bdata": "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",
          "dtype": "f8"
         }
        }
       ],
       "layout": {
        "coloraxis": {
         "colorbar": {
          "title": {
           "text": "color"
          }
         },
         "colorscale": [
          [
           0,
           "#0d0887"
          ],
          [
           0.1111111111111111,
           "#46039f"
          ],
          [
           0.2222222222222222,
           "#7201a8"
          ],
          [
           0.3333333333333333,
           "#9c179e"
          ],
          [
           0.4444444444444444,
           "#bd3786"
          ],
          [
           0.5555555555555556,
           "#d8576b"
          ],
          [
           0.6666666666666666,
           "#ed7953"
          ],
          [
           0.7777777777777778,
           "#fb9f3a"
          ],
          [
           0.8888888888888888,
           "#fdca26"
          ],
          [
           1,
           "#f0f921"
          ]
         ]
        },
        "height": 700,
        "legend": {
         "tracegroupgap": 0
        },
        "scene": {
         "domain": {
          "x": [
           0,
           1
          ],
          "y": [
           0,
           1
          ]
         },
         "xaxis": {
          "title": {
           "text": "Number of Rooms"
          }
         },
         "yaxis": {
          "title": {
           "text": "Number of Bathrooms"
          }
         },
         "zaxis": {
          "title": {
           "text": "z"
          }
         }
        },
        "template": {
         "data": {
          "bar": [
           {
            "error_x": {
             "color": "#2a3f5f"
            },
            "error_y": {
             "color": "#2a3f5f"
            },
            "marker": {
             "line": {
              "color": "#E5ECF6",
              "width": 0.5
             },
             "pattern": {
              "fillmode": "overlay",
              "size": 10,
              "solidity": 0.2
             }
            },
            "type": "bar"
           }
          ],
          "barpolar": [
           {
            "marker": {
             "line": {
              "color": "#E5ECF6",
              "width": 0.5
             },
             "pattern": {
              "fillmode": "overlay",
              "size": 10,
              "solidity": 0.2
             }
            },
            "type": "barpolar"
           }
          ],
          "carpet": [
           {
            "aaxis": {
             "endlinecolor": "#2a3f5f",
             "gridcolor": "white",
             "linecolor": "white",
             "minorgridcolor": "white",
             "startlinecolor": "#2a3f5f"
            },
            "baxis": {
             "endlinecolor": "#2a3f5f",
             "gridcolor": "white",
             "linecolor": "white",
             "minorgridcolor": "white",
             "startlinecolor": "#2a3f5f"
            },
            "type": "carpet"
           }
          ],
          "choropleth": [
           {
            "colorbar": {
             "outlinewidth": 0,
             "ticks": ""
            },
            "type": "choropleth"
           }
          ],
          "contour": [
           {
            "colorbar": {
             "outlinewidth": 0,
             "ticks": ""
            },
            "colorscale": [
             [
              0,
              "#0d0887"
             ],
             [
              0.1111111111111111,
              "#46039f"
             ],
             [
              0.2222222222222222,
              "#7201a8"
             ],
             [
              0.3333333333333333,
              "#9c179e"
             ],
             [
              0.4444444444444444,
              "#bd3786"
             ],
             [
              0.5555555555555556,
              "#d8576b"
             ],
             [
              0.6666666666666666,
              "#ed7953"
             ],
             [
              0.7777777777777778,
              "#fb9f3a"
             ],
             [
              0.8888888888888888,
              "#fdca26"
             ],
             [
              1,
              "#f0f921"
             ]
            ],
            "type": "contour"
           }
          ],
          "contourcarpet": [
           {
            "colorbar": {
             "outlinewidth": 0,
             "ticks": ""
            },
            "type": "contourcarpet"
           }
          ],
          "heatmap": [
           {
            "colorbar": {
             "outlinewidth": 0,
             "ticks": ""
            },
            "colorscale": [
             [
              0,
              "#0d0887"
             ],
             [
              0.1111111111111111,
              "#46039f"
             ],
             [
              0.2222222222222222,
              "#7201a8"
             ],
             [
              0.3333333333333333,
              "#9c179e"
             ],
             [
              0.4444444444444444,
              "#bd3786"
             ],
             [
              0.5555555555555556,
              "#d8576b"
             ],
             [
              0.6666666666666666,
              "#ed7953"
             ],
             [
              0.7777777777777778,
              "#fb9f3a"
             ],
             [
              0.8888888888888888,
              "#fdca26"
             ],
             [
              1,
              "#f0f921"
             ]
            ],
            "type": "heatmap"
           }
          ],
          "histogram": [
           {
            "marker": {
             "pattern": {
              "fillmode": "overlay",
              "size": 10,
              "solidity": 0.2
             }
            },
            "type": "histogram"
           }
          ],
          "histogram2d": [
           {
            "colorbar": {
             "outlinewidth": 0,
             "ticks": ""
            },
            "colorscale": [
             [
              0,
              "#0d0887"
             ],
             [
              0.1111111111111111,
              "#46039f"
             ],
             [
              0.2222222222222222,
              "#7201a8"
             ],
             [
              0.3333333333333333,
              "#9c179e"
             ],
             [
              0.4444444444444444,
              "#bd3786"
             ],
             [
              0.5555555555555556,
              "#d8576b"
             ],
             [
              0.6666666666666666,
              "#ed7953"
             ],
             [
              0.7777777777777778,
              "#fb9f3a"
             ],
             [
              0.8888888888888888,
              "#fdca26"
             ],
             [
              1,
              "#f0f921"
             ]
            ],
            "type": "histogram2d"
           }
          ],
          "histogram2dcontour": [
           {
            "colorbar": {
             "outlinewidth": 0,
             "ticks": ""
            },
            "colorscale": [
             [
              0,
              "#0d0887"
             ],
             [
              0.1111111111111111,
              "#46039f"
             ],
             [
              0.2222222222222222,
              "#7201a8"
             ],
             [
              0.3333333333333333,
              "#9c179e"
             ],
             [
              0.4444444444444444,
              "#bd3786"
             ],
             [
              0.5555555555555556,
              "#d8576b"
             ],
             [
              0.6666666666666666,
              "#ed7953"
             ],
             [
              0.7777777777777778,
              "#fb9f3a"
             ],
             [
              0.8888888888888888,
              "#fdca26"
             ],
             [
              1,
              "#f0f921"
             ]
            ],
            "type": "histogram2dcontour"
           }
          ],
          "mesh3d": [
           {
            "colorbar": {
             "outlinewidth": 0,
             "ticks": ""
            },
            "type": "mesh3d"
           }
          ],
          "parcoords": [
           {
            "line": {
             "colorbar": {
              "outlinewidth": 0,
              "ticks": ""
             }
            },
            "type": "parcoords"
           }
          ],
          "pie": [
           {
            "automargin": true,
            "type": "pie"
           }
          ],
          "scatter": [
           {
            "fillpattern": {
             "fillmode": "overlay",
             "size": 10,
             "solidity": 0.2
            },
            "type": "scatter"
           }
          ],
          "scatter3d": [
           {
            "line": {
             "colorbar": {
              "outlinewidth": 0,
              "ticks": ""
             }
            },
            "marker": {
             "colorbar": {
              "outlinewidth": 0,
              "ticks": ""
             }
            },
            "type": "scatter3d"
           }
          ],
          "scattercarpet": [
           {
            "marker": {
             "colorbar": {
              "outlinewidth": 0,
              "ticks": ""
             }
            },
            "type": "scattercarpet"
           }
          ],
          "scattergeo": [
           {
            "marker": {
             "colorbar": {
              "outlinewidth": 0,
              "ticks": ""
             }
            },
            "type": "scattergeo"
           }
          ],
          "scattergl": [
           {
            "marker": {
             "colorbar": {
              "outlinewidth": 0,
              "ticks": ""
             }
            },
            "type": "scattergl"
           }
          ],
          "scattermap": [
           {
            "marker": {
             "colorbar": {
              "outlinewidth": 0,
              "ticks": ""
             }
            },
            "type": "scattermap"
           }
          ],
          "scattermapbox": [
           {
            "marker": {
             "colorbar": {
              "outlinewidth": 0,
              "ticks": ""
             }
            },
            "type": "scattermapbox"
           }
          ],
          "scatterpolar": [
           {
            "marker": {
             "colorbar": {
              "outlinewidth": 0,
              "ticks": ""
             }
            },
            "type": "scatterpolar"
           }
          ],
          "scatterpolargl": [
           {
            "marker": {
             "colorbar": {
              "outlinewidth": 0,
              "ticks": ""
             }
            },
            "type": "scatterpolargl"
           }
          ],
          "scatterternary": [
           {
            "marker": {
             "colorbar": {
              "outlinewidth": 0,
              "ticks": ""
             }
            },
            "type": "scatterternary"
           }
          ],
          "surface": [
           {
            "colorbar": {
             "outlinewidth": 0,
             "ticks": ""
            },
            "colorscale": [
             [
              0,
              "#0d0887"
             ],
             [
              0.1111111111111111,
              "#46039f"
             ],
             [
              0.2222222222222222,
              "#7201a8"
             ],
             [
              0.3333333333333333,
              "#9c179e"
             ],
             [
              0.4444444444444444,
              "#bd3786"
             ],
             [
              0.5555555555555556,
              "#d8576b"
             ],
             [
              0.6666666666666666,
              "#ed7953"
             ],
             [
              0.7777777777777778,
              "#fb9f3a"
             ],
             [
              0.8888888888888888,
              "#fdca26"
             ],
             [
              1,
              "#f0f921"
             ]
            ],
            "type": "surface"
           }
          ],
          "table": [
           {
            "cells": {
             "fill": {
              "color": "#EBF0F8"
             },
             "line": {
              "color": "white"
             }
            },
            "header": {
             "fill": {
              "color": "#C8D4E3"
             },
             "line": {
              "color": "white"
             }
            },
            "type": "table"
           }
          ]
         },
         "layout": {
          "annotationdefaults": {
           "arrowcolor": "#2a3f5f",
           "arrowhead": 0,
           "arrowwidth": 1
          },
          "autotypenumbers": "strict",
          "coloraxis": {
           "colorbar": {
            "outlinewidth": 0,
            "ticks": ""
           }
          },
          "colorscale": {
           "diverging": [
            [
             0,
             "#8e0152"
            ],
            [
             0.1,
             "#c51b7d"
            ],
            [
             0.2,
             "#de77ae"
            ],
            [
             0.3,
             "#f1b6da"
            ],
            [
             0.4,
             "#fde0ef"
            ],
            [
             0.5,
             "#f7f7f7"
            ],
            [
             0.6,
             "#e6f5d0"
            ],
            [
             0.7,
             "#b8e186"
            ],
            [
             0.8,
             "#7fbc41"
            ],
            [
             0.9,
             "#4d9221"
            ],
            [
             1,
             "#276419"
            ]
           ],
           "sequential": [
            [
             0,
             "#0d0887"
            ],
            [
             0.1111111111111111,
             "#46039f"
            ],
            [
             0.2222222222222222,
             "#7201a8"
            ],
            [
             0.3333333333333333,
             "#9c179e"
            ],
            [
             0.4444444444444444,
             "#bd3786"
            ],
            [
             0.5555555555555556,
             "#d8576b"
            ],
            [
             0.6666666666666666,
             "#ed7953"
            ],
            [
             0.7777777777777778,
             "#fb9f3a"
            ],
            [
             0.8888888888888888,
             "#fdca26"
            ],
            [
             1,
             "#f0f921"
            ]
           ],
           "sequentialminus": [
            [
             0,
             "#0d0887"
            ],
            [
             0.1111111111111111,
             "#46039f"
            ],
            [
             0.2222222222222222,
             "#7201a8"
            ],
            [
             0.3333333333333333,
             "#9c179e"
            ],
            [
             0.4444444444444444,
             "#bd3786"
            ],
            [
             0.5555555555555556,
             "#d8576b"
            ],
            [
             0.6666666666666666,
             "#ed7953"
            ],
            [
             0.7777777777777778,
             "#fb9f3a"
            ],
            [
             0.8888888888888888,
             "#fdca26"
            ],
            [
             1,
             "#f0f921"
            ]
           ]
          },
          "colorway": [
           "#636efa",
           "#EF553B",
           "#00cc96",
           "#ab63fa",
           "#FFA15A",
           "#19d3f3",
           "#FF6692",
           "#B6E880",
           "#FF97FF",
           "#FECB52"
          ],
          "font": {
           "color": "#2a3f5f"
          },
          "geo": {
           "bgcolor": "white",
           "lakecolor": "white",
           "landcolor": "#E5ECF6",
           "showlakes": true,
           "showland": true,
           "subunitcolor": "white"
          },
          "hoverlabel": {
           "align": "left"
          },
          "hovermode": "closest",
          "mapbox": {
           "style": "light"
          },
          "paper_bgcolor": "white",
          "plot_bgcolor": "#E5ECF6",
          "polar": {
           "angularaxis": {
            "gridcolor": "white",
            "linecolor": "white",
            "ticks": ""
           },
           "bgcolor": "#E5ECF6",
           "radialaxis": {
            "gridcolor": "white",
            "linecolor": "white",
            "ticks": ""
           }
          },
          "scene": {
           "xaxis": {
            "backgroundcolor": "#E5ECF6",
            "gridcolor": "white",
            "gridwidth": 2,
            "linecolor": "white",
            "showbackground": true,
            "ticks": "",
            "zerolinecolor": "white"
           },
           "yaxis": {
            "backgroundcolor": "#E5ECF6",
            "gridcolor": "white",
            "gridwidth": 2,
            "linecolor": "white",
            "showbackground": true,
            "ticks": "",
            "zerolinecolor": "white"
           },
           "zaxis": {
            "backgroundcolor": "#E5ECF6",
            "gridcolor": "white",
            "gridwidth": 2,
            "linecolor": "white",
            "showbackground": true,
            "ticks": "",
            "zerolinecolor": "white"
           }
          },
          "shapedefaults": {
           "line": {
            "color": "#2a3f5f"
           }
          },
          "ternary": {
           "aaxis": {
            "gridcolor": "white",
            "linecolor": "white",
            "ticks": ""
           },
           "baxis": {
            "gridcolor": "white",
            "linecolor": "white",
            "ticks": ""
           },
           "bgcolor": "#E5ECF6",
           "caxis": {
            "gridcolor": "white",
            "linecolor": "white",
            "ticks": ""
           }
          },
          "title": {
           "x": 0.05
          },
          "xaxis": {
           "automargin": true,
           "gridcolor": "white",
           "linecolor": "white",
           "ticks": "",
           "title": {
            "standoff": 15
           },
           "zerolinecolor": "white",
           "zerolinewidth": 2
          },
          "yaxis": {
           "automargin": true,
           "gridcolor": "white",
           "linecolor": "white",
           "ticks": "",
           "title": {
            "standoff": 15
           },
           "zerolinecolor": "white",
           "zerolinewidth": 2
          }
         }
        },
        "title": {
         "text": "3D Plot of House Price Prediction with Plotly"
        },
        "width": 800
       }
      }
     },
     "metadata": {},
     "output_type": "display_data"
    }
   ],
   "source": [
    "import plotly.express as px\n",
    "# Using Plotly for an interactive 3D plot\n",
    "fig = px.scatter_3d(input_test, x=input_test['Rooms'], y=input_test['Bathroom'], z  =output_test,\n",
    "                    color=output_pred,  \n",
    "                    labels={'Rooms': 'Number of Rooms', 'Bathroom': 'Number of Bathrooms', 'Price': 'House Price'},\n",
    "                    title='3D Plot of House Price Prediction with Plotly',\n",
    "                     width=800, height=700)\n",
    "fig.update_traces(marker=dict(size=5))\n",
    "fig.show()"
   ]
  }
 ],
 "metadata": {
  "kernelspec": {
   "display_name": "gen3",
   "language": "python",
   "name": "python3"
  },
  "language_info": {
   "codemirror_mode": {
    "name": "ipython",
    "version": 3
   },
   "file_extension": ".py",
   "mimetype": "text/x-python",
   "name": "python",
   "nbconvert_exporter": "python",
   "pygments_lexer": "ipython3",
   "version": "3.11.4"
  }
 },
 "nbformat": 4,
 "nbformat_minor": 5
}
