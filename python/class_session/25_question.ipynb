{
  "nbformat": 4,
  "nbformat_minor": 0,
  "metadata": {
    "colab": {
      "provenance": []
    },
    "kernelspec": {
      "name": "python3",
      "display_name": "Python 3"
    },
    "language_info": {
      "name": "python"
    }
  },
  "cells": [
    {
      "cell_type": "code",
      "execution_count": null,
      "metadata": {
        "id": "GxIeiBmUJhxs"
      },
      "outputs": [],
      "source": [
        "# • Print all the factors of a given number\n",
        "# • Print if the two given strings are equal or unequal\n",
        "# • Print the frequency of the given character in the given string\n",
        "# • Print the number of vowels in the given string\n",
        "# • Print all the numbers divisible by a given number in the range\n",
        "# • Find the factorial of a number with recursion and without recursion\n",
        "# • Display the Fibonacci series with recursion and without recursion\n",
        "# • Print “Welcome” if your name is present in the list and “See you next time” if name is not present\n",
        "# • Find if the given number is a prime\n",
        "# • Print the list of prime numbers in the given range\n",
        "# • Find if the given number is a perfect number\n",
        "# • Print the list of perfect numbers in the given range\n",
        "# • What is a palindrome and find if the given number is a palindrome number\n",
        "# • What is a pangram and find if the given sentence is a pangram\n",
        "# • What is an anagram and find if the two given strings are anagrams of each other\n",
        "# • Print the frequency of each character in the given string\n",
        "# • Find if the given number is an Armstrong number\n",
        "# • Print all the Armstrong numbers in the given range\n",
        "# • Print all the primes in the given range using Sieve of Eratosthenes\n",
        "# • Improve the timing of the prime number printing program\n",
        "# • Find the frequency of the words in the given sentence\n",
        "# • Reverse each word separately in the given sentence\n",
        "# • Check if the password has at least 1 capital case letter, 1 number, 1 small case letter and one special character\n",
        "# • Convert the given string to a number – atoi\n",
        "# • Convert the given decimal number to binary\n",
        "# • Convert the given decimal number to hexadecimal"
      ]
    },
    {
      "cell_type": "code",
      "source": [
        "##Print all the factors of a given number\n",
        "factor_number = int(input(\"Enter a number: \"))\n",
        "factors = []\n",
        "for i in range(1, factor_number + 1):\n",
        "    if factor_number % i == 0:\n",
        "        factors.append(i)\n",
        "print(\"Factors of\", factor_number, \"are:\", factors)"
      ],
      "metadata": {
        "colab": {
          "base_uri": "https://localhost:8080/"
        },
        "id": "MfCzPNmQJm7N",
        "outputId": "84367afc-3f90-4594-e2b3-c917f4f6d70a"
      },
      "execution_count": null,
      "outputs": [
        {
          "output_type": "stream",
          "name": "stdout",
          "text": [
            "Enter a number: 12\n",
            "Factors of 12 are: [1, 2, 3, 4, 6, 12]\n"
          ]
        }
      ]
    },
    {
      "cell_type": "code",
      "source": [
        "##Print if the two given strings are equal or unequal\n",
        "string1 = input(\"Enter the first string: \")\n",
        "string2 = input(\"Enter the second string: \")\n",
        "if string1 == string2:\n",
        "    print(\"The strings are equal.\")\n",
        "else:\n",
        "    print(\"The strings are unequal.\")"
      ],
      "metadata": {
        "colab": {
          "base_uri": "https://localhost:8080/"
        },
        "id": "Mw6OAdttKOCY",
        "outputId": "aeb88c04-23ba-489b-965f-4ba8fdb9ce6d"
      },
      "execution_count": null,
      "outputs": [
        {
          "output_type": "stream",
          "name": "stdout",
          "text": [
            "Enter the first string: ajay\n",
            "Enter the second string: ajay\n",
            "The strings are equal.\n"
          ]
        }
      ]
    },
    {
      "cell_type": "code",
      "source": [
        "##Print the frequency of the given character in the given string\n",
        "def count_instring(string1:str):\n",
        "  character_count ={}\n",
        "  for character in string1:\n",
        "    if character in character_count:\n",
        "      character_count[character] += 1\n",
        "    else:\n",
        "      character_count[character] = 1\n",
        "  return character_count\n",
        "\n",
        "string = input(\"enter the string\")\n",
        "print(count_instring(string))\n"
      ],
      "metadata": {
        "colab": {
          "base_uri": "https://localhost:8080/"
        },
        "id": "RHK5FmdGKWya",
        "outputId": "c20f6f28-2454-4982-eb34-cfd0395fcd51"
      },
      "execution_count": null,
      "outputs": [
        {
          "output_type": "stream",
          "name": "stdout",
          "text": [
            "enter the stringajay singh \n",
            "{'a': 2, 'j': 1, 'y': 1, ' ': 2, 's': 1, 'i': 1, 'n': 1, 'g': 1, 'h': 1}\n"
          ]
        }
      ]
    },
    {
      "cell_type": "code",
      "source": [
        "## Print the number of vowels in the given string\n",
        "def count_instring(string1:str):\n",
        "  character_count ={}\n",
        "  for character in string1:\n",
        "    if character in \"aeiouAEIOU\":\n",
        "      if character in character_count:\n",
        "        character_count[character] += 1\n",
        "      else:\n",
        "        character_count[character] = 1\n",
        "  return character_count\n",
        "\n",
        "string = input(\"enter the string :- \")\n",
        "print(count_instring(string))"
      ],
      "metadata": {
        "colab": {
          "base_uri": "https://localhost:8080/"
        },
        "id": "MYqKn2w9NgOc",
        "outputId": "0891a374-bfac-4399-b118-2ebab43f059b"
      },
      "execution_count": null,
      "outputs": [
        {
          "output_type": "stream",
          "name": "stdout",
          "text": [
            "enter the string :- factors of a prime number are only two\n",
            "{'a': 3, 'o': 4, 'i': 1, 'e': 3, 'u': 1}\n"
          ]
        }
      ]
    },
    {
      "cell_type": "code",
      "source": [
        "##Print all the numbers divisible by a given number in the range\n",
        "start_range = int(input(\"Enter the start range: \"))\n",
        "end_range = int(input(\"Enter the end range: \"))\n",
        "divisor = int(input(\"Enter the divisor: \"))\n",
        "\n",
        "for num in range(start_range, end_range + 1):\n",
        "    if num % divisor == 0:\n",
        "        print(num ,end =\" , \")\n"
      ],
      "metadata": {
        "colab": {
          "base_uri": "https://localhost:8080/"
        },
        "id": "PMOPj371TUoS",
        "outputId": "1a5fe21d-de61-4449-895f-1abac6441cd8"
      },
      "execution_count": null,
      "outputs": [
        {
          "output_type": "stream",
          "name": "stdout",
          "text": [
            "Enter the start range: 10\n",
            "Enter the end range: 100\n",
            "Enter the divisor: 7\n",
            "14 , 21 , 28 , 35 , 42 , 49 , 56 , 63 , 70 , 77 , 84 , 91 , 98 , "
          ]
        }
      ]
    },
    {
      "cell_type": "code",
      "source": [
        "## one liner if else condition\n",
        "fruit = 'Apple'\n",
        "isApple = True if fruit == 'Apple' else False\n",
        "print(isApple)"
      ],
      "metadata": {
        "colab": {
          "base_uri": "https://localhost:8080/"
        },
        "id": "Dz-t8tQyf6Mg",
        "outputId": "183b7e15-6dba-460d-cb19-a36e1b7ff88d"
      },
      "execution_count": null,
      "outputs": [
        {
          "output_type": "stream",
          "name": "stdout",
          "text": [
            "True\n"
          ]
        }
      ]
    },
    {
      "cell_type": "code",
      "source": [],
      "metadata": {
        "id": "N81XS8wVgfgh"
      },
      "execution_count": null,
      "outputs": []
    },
    {
      "cell_type": "code",
      "source": [
        "##Find the factorial of a number with recursion and without recursion\n",
        "def recursive_factorial(n):\n",
        "    if n == 0 or n == 1:\n",
        "        return 1\n",
        "    else:\n",
        "        factorial_numbers.append(n-1)\n",
        "        return n * recursive_factorial(n - 1)\n",
        "\n",
        "num = int(input(\"Enter a number: \"))\n",
        "print(\"****************  recursion  ***************  \")\n",
        "factorial_numbers = [num]\n",
        "print(\"Factorial of\", num, \"using recursion:\", recursive_factorial(num))\n",
        "print(factorial_numbers[::-1])\n",
        "\n",
        "print(\"****************  without recursion  ***************  \")\n",
        "fact = 1\n",
        "for num1 in range(num):\n",
        "  fact = fact * (num1+1)\n",
        "print(\"Factorial of\", num, \"using without recursion:\", fact)\n"
      ],
      "metadata": {
        "colab": {
          "base_uri": "https://localhost:8080/"
        },
        "id": "oJ8aDRhKTzMy",
        "outputId": "4f0ea483-0a62-4ac6-cc87-0caabe2643de"
      },
      "execution_count": null,
      "outputs": [
        {
          "output_type": "stream",
          "name": "stdout",
          "text": [
            "Enter a number: 7\n",
            "****************  recursion  ***************  \n",
            "Factorial of 7 using recursion: 5040\n",
            "[1, 2, 3, 4, 5, 6, 7]\n",
            "****************  without recursion  ***************  \n",
            "Factorial of 7 using without recursion: 0\n"
          ]
        }
      ]
    },
    {
      "cell_type": "code",
      "source": [
        "##Display the Fibonacci series with recursion and without recursion\n",
        "\n",
        "def Fibonacci_number(n):\n",
        "    if n == 0 or n == 1  :\n",
        "        return 1\n",
        "    else:\n",
        "        # print((num- (n-1)), (num- (n-2)))\n",
        "        factorial_numbers.append((factorial_numbers[ num- (n-1)]+ factorial_numbers[num- (n-2)] ))\n",
        "        return Fibonacci_number(n-1)  ##+ Fibonacci_number(n-2)\n",
        "\n",
        "num = int(input(\"Enter how many Fibonacci number system will print including first 2 default : \"))\n",
        "print(\"****************  recursion  ***************  \")\n",
        "factorial_numbers = [0,1 ,1 ]\n",
        "print(\"Fibonacci of\", num,  Fibonacci_number(num))\n",
        "# print(\"Fibonacci of\", num, \"using recursion:\")\n",
        "print(\"using recursion:\" ,factorial_numbers)\n",
        "\n",
        "\n",
        "print(\"****************  without recursion  ***************  \")\n",
        "factorial_numbers_wor = [0,1 ,1 ]\n",
        "for n_num_wor  in range(num-1):\n",
        "  factorial_numbers_wor.append(factorial_numbers_wor[n_num_wor+1] + factorial_numbers_wor[n_num_wor+2])\n",
        "\n",
        "print(\"Fibonacci of\", num, \"using without recursion:\")\n",
        "print(\"using without recursion:\" ,factorial_numbers_wor)\n"
      ],
      "metadata": {
        "colab": {
          "base_uri": "https://localhost:8080/"
        },
        "id": "wNSFTtNIkj9m",
        "outputId": "e2378282-fbdc-4b9e-bf37-8939d901cb45"
      },
      "execution_count": null,
      "outputs": [
        {
          "output_type": "stream",
          "name": "stdout",
          "text": [
            "Enter how many Fibonacci number system will print including first 2 default : 10\n",
            "****************  recursion  ***************  \n",
            "Fibonacci of 10 1\n",
            "using recursion: [0, 1, 1, 2, 3, 5, 8, 13, 21, 34, 55, 89]\n",
            "****************  without recursion  ***************  \n",
            "Fibonacci of 10 using without recursion:\n",
            "using without recursion: [0, 1, 1, 2, 3, 5, 8, 13, 21, 34, 55, 89]\n"
          ]
        }
      ]
    },
    {
      "cell_type": "code",
      "source": [
        "from os import name\n",
        "# • Print “Welcome” if your name is present in the list and “See you next time” if name is not present\n",
        "\n",
        "name_list={\"ajay\" ,\"vijay\",'sanjay',\"abhay\"}\n",
        "\n",
        "name = input(\"Enter your name :- \")\n",
        "if name in name_list:\n",
        "  print(f\"Welcome  {name}\")\n",
        "else:\n",
        "  print(\"See you next time\")\n",
        "\n",
        "\n"
      ],
      "metadata": {
        "colab": {
          "base_uri": "https://localhost:8080/"
        },
        "id": "JwDCY0brrXAB",
        "outputId": "5423569b-1bcd-4ffb-fea5-7403217c8c0e"
      },
      "execution_count": null,
      "outputs": [
        {
          "output_type": "stream",
          "name": "stdout",
          "text": [
            "Enter your name :- ajay\n",
            "Welcome  ajay\n"
          ]
        }
      ]
    },
    {
      "cell_type": "code",
      "source": [
        "# • Find if the given number is a prime\n",
        "given_number = int(input(\"enter number to check prime or not  : \"))\n",
        "print(\"number \",given_number , \"is divisible by \", [x+1 for x in range(given_number+1)  if given_number % (x+1) == 0 ])\n",
        "if len([x+1 for x in range(given_number+1)  if given_number % (x+1) == 0 ])> 2:\n",
        "  print( f\"{given_number}  Not prime number \")\n",
        "else:\n",
        "  print(f\"{given_number}  is a Prime number \")\n"
      ],
      "metadata": {
        "colab": {
          "base_uri": "https://localhost:8080/"
        },
        "id": "VN8MN_euyiQK",
        "outputId": "cb868148-510b-49ee-b165-44a0e6284f19"
      },
      "execution_count": null,
      "outputs": [
        {
          "output_type": "stream",
          "name": "stdout",
          "text": [
            "enter number to check prime or not  : 91\n",
            "number  91 is divisible by  [1, 7, 13, 91]\n",
            "91  Not prime number \n"
          ]
        }
      ]
    },
    {
      "cell_type": "code",
      "source": [
        "# • Print the list of prime numbers in the given range\n",
        "start_range = int(input(\"Enter the start range: \"))\n",
        "end_range = int(input(\"Enter the end range: \"))\n",
        "\n",
        "prime_number = []\n",
        "for num in range(start_range, end_range + 1):\n",
        "    if num > 1:\n",
        "        for i in range(2, num):\n",
        "            if (num % i) == 0:\n",
        "                break\n",
        "        else:\n",
        "            prime_number.append(num)\n",
        "\n",
        "print(prime_number)\n"
      ],
      "metadata": {
        "colab": {
          "base_uri": "https://localhost:8080/"
        },
        "id": "D2RX2vjT2DmQ",
        "outputId": "724e6f0f-ab5a-447a-f75c-40de6a50c2ab"
      },
      "execution_count": null,
      "outputs": [
        {
          "output_type": "stream",
          "name": "stdout",
          "text": [
            "Enter the start range: 2\n",
            "Enter the end range: 20\n",
            "[2, 3, 5, 7, 11, 13, 17, 19]\n"
          ]
        }
      ]
    },
    {
      "cell_type": "markdown",
      "source": [
        "# • Print the list of perfect numbers in the given range\n",
        "x= p-1\n",
        "$$\n",
        "N = {2^x}(2^p -1)\n",
        "$$"
      ],
      "metadata": {
        "id": "BZVwY0R48QAA"
      }
    },
    {
      "cell_type": "code",
      "source": [
        "# • Print the list of perfect numbers in the given range\n",
        "print_n_perfect_numbers = 5\n",
        "counter = 0\n",
        "for num in range(2,10000):\n",
        "    for i in range(2, num):\n",
        "        if (num % i) == 0:\n",
        "            break\n",
        "    else:\n",
        "        print(num)\n",
        "        counter += 1\n",
        "\n",
        "        if counter == print_n_perfect_numbers:\n",
        "            break\n"
      ],
      "metadata": {
        "colab": {
          "base_uri": "https://localhost:8080/"
        },
        "id": "UYajIMhI5kay",
        "outputId": "7d82f294-d014-4e57-d78f-082ec8665624"
      },
      "execution_count": null,
      "outputs": [
        {
          "output_type": "stream",
          "name": "stdout",
          "text": [
            "2\n",
            "3\n",
            "5\n",
            "7\n",
            "11\n"
          ]
        }
      ]
    },
    {
      "cell_type": "code",
      "source": [
        "# • Find if the given number is a perfect number\n",
        "# • Print the list of perfect numbers in the given range\n",
        "# • What is a palindrome and find if the given number is a palindrome number"
      ],
      "metadata": {
        "id": "YW0-XO6KL4ub"
      },
      "execution_count": null,
      "outputs": []
    },
    {
      "cell_type": "code",
      "source": [
        "# • What is a palindrome and find if the given number is a palindrome number\n",
        "num = input(\"enter number\")\n",
        "print(num[::-1])\n",
        "if num == num[::-1]:\n",
        "  print(\"palindrome\")\n",
        "else:\n",
        "  print(\"not palindrome\")\n",
        "\n"
      ],
      "metadata": {
        "colab": {
          "base_uri": "https://localhost:8080/"
        },
        "id": "3hHpu0YaMuUk",
        "outputId": "db2cf835-c154-41e7-ab49-b335877f8884"
      },
      "execution_count": null,
      "outputs": [
        {
          "output_type": "stream",
          "name": "stdout",
          "text": [
            "enter number12343213\n",
            "31234321\n",
            "not palindrome\n"
          ]
        }
      ]
    },
    {
      "cell_type": "code",
      "source": [
        "# • What is a pangram and find if the given sentence is a pangram\n",
        "# A Pangram Number contains every digit [0- 9] at least once. Explanation: N contains all the digits from 0 to 9. Therefore, it is a pangram.\n",
        "number = 10234333678902\n",
        "\n",
        "def check_pangram(number1 : int):\n",
        "\n",
        "  if len(set(str(number1))) == 10:\n",
        "    return True\n",
        "  else:\n",
        "    return False\n",
        "\n",
        "if check_pangram(number):\n",
        "  print(f\" number {number}  is a pangram  number \")\n",
        "else:\n",
        "  print(f\" number {number}  is a pangram  not number \")\n"
      ],
      "metadata": {
        "id": "GX51B-C-Obbe",
        "colab": {
          "base_uri": "https://localhost:8080/"
        },
        "outputId": "2d128ee1-e12d-4235-b90a-be7d7ca10612"
      },
      "execution_count": null,
      "outputs": [
        {
          "output_type": "stream",
          "name": "stdout",
          "text": [
            " number 10234333678902  is a pangram  not number \n"
          ]
        }
      ]
    },
    {
      "cell_type": "code",
      "source": [
        "print(int('342',10))\n",
        "print(int('11001',2))\n",
        "print(int('342',8))\n",
        "print(int('342',16))"
      ],
      "metadata": {
        "colab": {
          "base_uri": "https://localhost:8080/"
        },
        "id": "Y52GfwqKkjHC",
        "outputId": "b51994da-0a9b-4cff-ec63-d90eef7e2eb8"
      },
      "execution_count": null,
      "outputs": [
        {
          "output_type": "stream",
          "name": "stdout",
          "text": [
            "342\n",
            "25\n",
            "226\n",
            "834\n"
          ]
        }
      ]
    },
    {
      "cell_type": "code",
      "source": [
        "# 15 • What is an anagram and find if the two given strings are anagrams of each other\n",
        "\n",
        "str1= input (\"enter string 1 :- \")\n",
        "\n",
        "str2= input(\"enter string 2 :- \")\n",
        "\n",
        "if sorted(str1) == sorted(str2):\n",
        "  print(\"anagram\")\n",
        "else:\n",
        "  print(\"not anagram\")"
      ],
      "metadata": {
        "colab": {
          "base_uri": "https://localhost:8080/"
        },
        "id": "yAUDq8s9luuv",
        "outputId": "32986be4-9701-4c60-e23b-588a29d46858"
      },
      "execution_count": null,
      "outputs": [
        {
          "output_type": "stream",
          "name": "stdout",
          "text": [
            "['a', 'e', 'h', 'r', 't']\n",
            "['a', 'e', 'h', 'r', 't']\n",
            "anagram\n"
          ]
        }
      ]
    },
    {
      "cell_type": "code",
      "source": [
        "# 16 • Find if the given number is an Armstrong number\n",
        "\n",
        "number = 153\n",
        "\n",
        "sum = 0\n",
        "temp = number\n",
        "while temp > 0:\n",
        "   digit = temp % 10\n",
        "   sum += digit ** 3\n",
        "   temp //= 10\n",
        "\n",
        "if number == sum:\n",
        "   print(f\" {number} is an Armstrong number\")\n",
        "else:\n",
        "   print(\" {number} is not an Armstrong number\")\n"
      ],
      "metadata": {
        "colab": {
          "base_uri": "https://localhost:8080/"
        },
        "id": "PNzEZu_Ym2C5",
        "outputId": "acdb5cea-2d2a-403e-a1a2-406b25c3690f"
      },
      "execution_count": null,
      "outputs": [
        {
          "output_type": "stream",
          "name": "stdout",
          "text": [
            "153 is an Armstrong number\n"
          ]
        }
      ]
    },
    {
      "cell_type": "code",
      "source": [
        "# 17 • Print all the Armstrong numbers in the given range\n",
        "start_range = int(input(\"Enter the start range: \"))\n",
        "end_range = int(input(\"Enter the end range: \"))\n",
        "Armstrong_number =[]\n",
        "\n",
        "for num in range(start_range, end_range + 1):\n",
        "    sum = 0\n",
        "    temp = num\n",
        "    while temp > 0:\n",
        "        digit = temp % 10\n",
        "        sum += digit ** 3\n",
        "        temp //= 10\n",
        "    if number == sum:\n",
        "      Armstrong_number.append(num)\n",
        "\n",
        "print(\"\\n\\n\\n\")\n",
        "print(\"Following are the Armstrong number from range {start_range} to {end_range} \")\n",
        "print(Armstrong_number)\n",
        "\n"
      ],
      "metadata": {
        "colab": {
          "base_uri": "https://localhost:8080/"
        },
        "id": "xYdXSH_4nBm8",
        "outputId": "9dd89ee8-440b-462a-a1bc-cef489e9e0ad"
      },
      "execution_count": null,
      "outputs": [
        {
          "output_type": "stream",
          "name": "stdout",
          "text": [
            "Enter the start range: 2\n",
            "Enter the end range: 600\n",
            "\n",
            "\n",
            "\n",
            "\n",
            "Following are the Armstrong number from range {start_range} to {end_range} \n",
            "[135, 153, 315, 351, 513, 531]\n"
          ]
        }
      ]
    },
    {
      "cell_type": "code",
      "source": [],
      "metadata": {
        "id": "opzjMMYA5tQH"
      },
      "execution_count": null,
      "outputs": []
    },
    {
      "cell_type": "code",
      "source": [
        "# 18 • Print all the primes in the given range using Sieve of Eratosthenes\n",
        "Sieve_number =[]\n",
        "for i in range(2,100):\n",
        "  Sieve_number.append(i)\n",
        "\n",
        "for i in range(2,100):\n",
        "  for j in range(i*i,100,i):\n",
        "    if j in Sieve_number:\n",
        "      Sieve_number.remove(j)\n",
        "print(Sieve_number)"
      ],
      "metadata": {
        "colab": {
          "base_uri": "https://localhost:8080/"
        },
        "id": "v6ECHOyynCBv",
        "outputId": "5687805e-128c-43a1-b76d-3664945babab"
      },
      "execution_count": null,
      "outputs": [
        {
          "output_type": "stream",
          "name": "stdout",
          "text": [
            "[2, 3, 5, 7, 11, 13, 17, 19, 23, 29, 31, 37, 41, 43, 47, 53, 59, 61, 67, 71, 73, 79, 83, 89, 97]\n"
          ]
        }
      ]
    },
    {
      "cell_type": "code",
      "source": [
        "# 19 • Improve the timing of the prime number printing program\n",
        "\n",
        "import datetime\n",
        "start_time = datetime.datetime.now()\n",
        "\n",
        "start_range = int(input(\"Enter the start range: \"))\n",
        "end_range = int(input(\"Enter the end range: \"))\n",
        "\n",
        "prime_number = []\n",
        "for num in range(start_range, end_range + 1):\n",
        "    if num > 1:\n",
        "        for i in range(2, num):\n",
        "            if (num % i) == 0:\n",
        "                break\n",
        "        else:\n",
        "            prime_number.append(num)\n",
        "\n",
        "end_time = datetime.datetime.now()\n",
        "print(\"\\n\\nExecution time using loop prime number :\", end_time - start_time)\n",
        "print(prime_number)\n",
        "\n",
        "###  Sieve of Eratosthenes\n",
        "start_time = datetime.datetime.now()\n",
        "Sieve_number =[]\n",
        "for i in range(2,100):\n",
        "  Sieve_number.append(i)\n",
        "\n",
        "for i in range(2,100):\n",
        "  for j in range(i*i,100,i):\n",
        "    if j in Sieve_number:\n",
        "      Sieve_number.remove(j)\n",
        "end_time = datetime.datetime.now()\n",
        "print(\"\\n\\nExecution time using Sieve of Eratosthenes :\", end_time - start_time)\n",
        "print(Sieve_number)"
      ],
      "metadata": {
        "colab": {
          "base_uri": "https://localhost:8080/"
        },
        "id": "0eNDvO9xnCEo",
        "outputId": "afabaf16-7a67-420f-9a74-7bd2c8886b39"
      },
      "execution_count": null,
      "outputs": [
        {
          "output_type": "stream",
          "name": "stdout",
          "text": [
            "Enter the start range: 1\n",
            "Enter the end range: 100\n",
            "\n",
            "\n",
            "Execution time using loop prime number : 0:00:04.756005\n",
            "[2, 3, 5, 7, 11, 13, 17, 19, 23, 29, 31, 37, 41, 43, 47, 53, 59, 61, 67, 71, 73, 79, 83, 89, 97]\n",
            "\n",
            "\n",
            "Execution time using Sieve of Eratosthenes : 0:00:00.000573\n",
            "[2, 3, 5, 7, 11, 13, 17, 19, 23, 29, 31, 37, 41, 43, 47, 53, 59, 61, 67, 71, 73, 79, 83, 89, 97]\n"
          ]
        }
      ]
    },
    {
      "cell_type": "code",
      "source": [
        "# 20 • Find the frequency of the words in the given sentence\n",
        "words = input(\"Enter a sentence: \").split()\n",
        "word_frequency = {}\n",
        "\n",
        "for word in words:\n",
        "    if word in word_frequency:\n",
        "        word_frequency[word] += 1\n",
        "    else:\n",
        "        word_frequency[word] = 1\n",
        "\n",
        "print(word_frequency)\n"
      ],
      "metadata": {
        "colab": {
          "base_uri": "https://localhost:8080/"
        },
        "id": "P9ojSwDZnCHc",
        "outputId": "20e54875-fb0b-4f01-e195-e359342849f0"
      },
      "execution_count": null,
      "outputs": [
        {
          "output_type": "stream",
          "name": "stdout",
          "text": [
            "Enter a sentence: What lies behind us and what lies before us are tiny compared to what lies within us\n",
            "{'What': 1, 'lies': 3, 'behind': 1, 'us': 3, 'and': 1, 'what': 2, 'before': 1, 'are': 1, 'tiny': 1, 'compared': 1, 'to': 1, 'within': 1}\n"
          ]
        }
      ]
    },
    {
      "cell_type": "code",
      "source": [
        "# 21 • Reverse each word separately in the given sentence\n",
        "words = input(\"Enter a sentence: \").split()\n",
        "word_reverse = []\n",
        "\n",
        "def reverse(string):\n",
        "    reversed_string = \"\"\n",
        "    for i in range(len(string) - 1, -1, -1):\n",
        "        reversed_string += string[i]\n",
        "    return reversed_string\n",
        "\n",
        "\n",
        "\n",
        "for word in words:\n",
        "    if word in word_reverse:\n",
        "        pass ;\n",
        "    else:\n",
        "        word_reverse.append(reverse(word))\n",
        "\n",
        "print(\" \".join(word_reverse))"
      ],
      "metadata": {
        "colab": {
          "base_uri": "https://localhost:8080/"
        },
        "id": "dMRpEX8fnCKj",
        "outputId": "8e87b6cd-c27b-4cf1-e0a4-5eddc1c0c41b"
      },
      "execution_count": null,
      "outputs": [
        {
          "output_type": "stream",
          "name": "stdout",
          "text": [
            "Enter a sentence: What lies behind us and what lies before us are tiny compared to what lies within us\n",
            "tahW seil dniheb su dna tahw seil erofeb su era ynit derapmoc ot tahw seil nihtiw su\n"
          ]
        }
      ]
    },
    {
      "cell_type": "code",
      "source": [
        "# 22 • Check if the password has at least 1 capital case letter, 1 number, 1 small case letter and one special character\n",
        "passord = input(\"Enter a password: \")\n",
        "\n",
        "def check_password(password):\n",
        "    has_capital_letter = False\n",
        "    has_number = False\n",
        "    has_small_letter = False\n",
        "    has_speacial_character = False\n",
        "    for char in password:\n",
        "        if char.isupper():\n",
        "            has_capital_letter = True\n",
        "        elif char.isnumeric():\n",
        "            has_number = True\n",
        "        elif char.islower():\n",
        "            has_small_letter = True\n",
        "        elif char in \"!@#$%^&*()_+{}[]:;<>??/\\|~\":\n",
        "            has_speacial_character = True\n",
        "\n",
        "    return has_capital_letter and has_number and has_small_letter  and has_speacial_character\n",
        "\n",
        "if check_password(passord):\n",
        "    print(\"Password is strong\")\n",
        "else:\n",
        "    print(\"Password is weak\")\n"
      ],
      "metadata": {
        "colab": {
          "base_uri": "https://localhost:8080/"
        },
        "id": "gVcZlro0nCNn",
        "outputId": "802bf925-c907-48a3-a8ca-f0d14ea18c64"
      },
      "execution_count": null,
      "outputs": [
        {
          "output_type": "stream",
          "name": "stdout",
          "text": [
            "Enter a password: India@123\n",
            "Password is strong\n"
          ]
        }
      ]
    },
    {
      "cell_type": "code",
      "source": [
        "# 24 • Convert the given string to a number – atoi\n",
        "## check number if number is int return number else  return 0\n",
        "number = input(\"Enter a number: \")\n",
        "\n",
        "def atoi(s):\n",
        "    sign = 1\n",
        "    if s[0] == '-':\n",
        "        sign = -1\n",
        "        s = s[1:]\n",
        "    result = 0\n",
        "    for c in s:\n",
        "        if c.isdigit():\n",
        "         result = result * 10 + int(c  )\n",
        "        else:\n",
        "          return 0\n",
        "    return result * sign\n",
        "\n",
        "print(atoi(number))\n"
      ],
      "metadata": {
        "colab": {
          "base_uri": "https://localhost:8080/"
        },
        "id": "nAWgDOw3nKXl",
        "outputId": "cb281515-b67e-4244-943c-d7942945ec97"
      },
      "execution_count": null,
      "outputs": [
        {
          "output_type": "stream",
          "name": "stdout",
          "text": [
            "Enter a number: s893894\n",
            "0\n"
          ]
        }
      ]
    },
    {
      "cell_type": "code",
      "source": [
        "# 25 • Convert the given decimal number to binary\n",
        "number = int(input(\"enter number to be converted to binary :- \"))\n",
        "binary = []\n",
        "while number > 0:\n",
        "    binary.append(number % 2)\n",
        "    number //= 2\n",
        "\n",
        "\n",
        "for i in range(len(binary)-1,-1,-1):\n",
        "  print(binary[i],end=\"\")\n",
        "\n"
      ],
      "metadata": {
        "colab": {
          "base_uri": "https://localhost:8080/"
        },
        "id": "gH8r_vxvnKah",
        "outputId": "e3c624b2-2552-455d-e135-1de3a1385beb"
      },
      "execution_count": null,
      "outputs": [
        {
          "output_type": "stream",
          "name": "stdout",
          "text": [
            "enter number to be converted to binary :- 456\n",
            "111001000"
          ]
        }
      ]
    },
    {
      "cell_type": "code",
      "source": [
        "# 26 • Convert the given decimal number to hexadecimal\n",
        "number = int(input(\"enter number to be converted to hexadecimal :- \"))\n",
        "input_number = number\n",
        "binary = []\n",
        "hexcon = {\"10\": \"A\", \"11\": \"B\", \"12\": \"C\", \"13\": \"D\", \"14\": \"E\", \"15\": \"F\"}\n",
        "while number > 0:\n",
        "    if number % 16 <=9:\n",
        "      binary.append(number % 16)\n",
        "    else:\n",
        "      char = (number % 16)\n",
        "      char = hexcon[f\"{char}\"]\n",
        "      binary.append(char)\n",
        "    number //= 16\n",
        "\n",
        "print(f\"\\n\\nhexadecimal value for number {input_number}  is \" , end=\" \")\n",
        "for i in range(len(binary)-1,-1,-1):\n",
        "  print(binary[i],end=\"\")"
      ],
      "metadata": {
        "colab": {
          "base_uri": "https://localhost:8080/"
        },
        "id": "AYRggdcHnOPc",
        "outputId": "fd2dca54-dcf3-4448-a72e-7ae22a3b1e12"
      },
      "execution_count": null,
      "outputs": [
        {
          "output_type": "stream",
          "name": "stdout",
          "text": [
            "enter number to be converted to hexadecimal :- 369869\n",
            "\n",
            "\n",
            "hexadecimal value for number 369869  is  5A4CD"
          ]
        }
      ]
    }
  ]
}