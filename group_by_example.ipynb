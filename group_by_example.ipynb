{
  "nbformat": 4,
  "nbformat_minor": 0,
  "metadata": {
    "colab": {
      "provenance": [],
      "authorship_tag": "ABX9TyNtGIsUHtJxoc1B0qc9BYEj",
      "include_colab_link": true
    },
    "kernelspec": {
      "name": "python3",
      "display_name": "Python 3"
    },
    "language_info": {
      "name": "python"
    }
  },
  "cells": [
    {
      "cell_type": "markdown",
      "metadata": {
        "id": "view-in-github",
        "colab_type": "text"
      },
      "source": [
        "<a href=\"https://colab.research.google.com/github/ajaysinghrathore1/learn/blob/main/group_by_example.ipynb\" target=\"_parent\"><img src=\"https://colab.research.google.com/assets/colab-badge.svg\" alt=\"Open In Colab\"/></a>"
      ]
    },
    {
      "cell_type": "code",
      "execution_count": 4,
      "metadata": {
        "colab": {
          "base_uri": "https://localhost:8080/"
        },
        "id": "d_thV6HEUqK_",
        "outputId": "4164f241-af3d-4b5f-e930-aa8651e527dc"
      },
      "outputs": [
        {
          "output_type": "execute_result",
          "data": {
            "text/plain": [
              "18"
            ]
          },
          "metadata": {},
          "execution_count": 4
        }
      ],
      "source": [
        "from functools import partial\n",
        "basetwo = partial(int, base=2)\n",
        "basetwo.__doc__ = 'Convert base 2 string to an int.'\n",
        "basetwo('10010')"
      ]
    },
    {
      "cell_type": "code",
      "source": [
        "binary_string = \"10010\"\n",
        "decimal_number = int(binary_string, 2)\n",
        "print(decimal_number)  # Output: 45"
      ],
      "metadata": {
        "colab": {
          "base_uri": "https://localhost:8080/"
        },
        "id": "RE0mXeJCVJZ5",
        "outputId": "512bb1aa-956f-49dc-cddc-74f201eb99ed"
      },
      "execution_count": 6,
      "outputs": [
        {
          "output_type": "stream",
          "name": "stdout",
          "text": [
            "18\n"
          ]
        }
      ]
    },
    {
      "cell_type": "code",
      "source": [
        "from functools import reduce\n",
        "from itertools import groupby\n",
        "from operator import itemgetter\n",
        "\n",
        "# Sample data: list of (name, age) tuples\n",
        "people = [\n",
        "    (\"Alice\", 30),\n",
        "    (\"Bob\", 17),\n",
        "    (\"Charlie\", 25),\n",
        "    (\"David\", 15),\n",
        "    (\"Eve\", 40),\n",
        "    (\"Daniel\", 22),\n",
        "    (\"Angela\", 19),\n",
        "    (\"Brian\", 34),\n",
        "]\n",
        "\n",
        "# Step 1: Filter out minors (age < 18)\n",
        "adults = list(filter(lambda x: x[1] >= 18, people))\n",
        "print(\"adults\",adults)\n",
        "\n",
        "# Step 2: Increment age by 1\n",
        "aged_people = list(map(lambda x: (x[0], x[1] + 1), adults))\n",
        "print(\"aged_people\" ,aged_people)\n",
        "\n",
        "# Step 3: Sort by first letter of name (required before groupby)\n",
        "aged_people.sort(key=lambda x: x[0][0])\n",
        "print(\"aged_people - \" , aged_people)\n",
        "\n",
        "# Step 4: Group by first letter of name\n",
        "grouped = groupby(aged_people, key=lambda x: x[0][0])\n",
        "print(\"grouped - \" , grouped)\n",
        "# Step 5: Reduce each group to a string of names\n",
        "for key, group in grouped:\n",
        "    names = list(map(lambda x: x[0], group))\n",
        "    combined = reduce(lambda x, y: x + \", \" + y, names)\n",
        "    print(f\"{key}: {combined}\")\n"
      ],
      "metadata": {
        "colab": {
          "base_uri": "https://localhost:8080/"
        },
        "id": "oZYncsm8WAc4",
        "outputId": "63c66f1b-b9ba-45ed-ad48-492d9bd5e902"
      },
      "execution_count": 10,
      "outputs": [
        {
          "output_type": "stream",
          "name": "stdout",
          "text": [
            "adults [('Alice', 30), ('Charlie', 25), ('Eve', 40), ('Daniel', 22), ('Angela', 19), ('Brian', 34)]\n",
            "aged_people [('Alice', 31), ('Charlie', 26), ('Eve', 41), ('Daniel', 23), ('Angela', 20), ('Brian', 35)]\n",
            "aged_people -  [('Alice', 31), ('Angela', 20), ('Brian', 35), ('Charlie', 26), ('Daniel', 23), ('Eve', 41)]\n",
            "grouped -  <itertools.groupby object at 0x7e107eec9ee0>\n",
            "A: Alice, Angela\n",
            "B: Brian\n",
            "C: Charlie\n",
            "D: Daniel\n",
            "E: Eve\n"
          ]
        }
      ]
    },
    {
      "cell_type": "code",
      "source": [
        "from functools import reduce\n",
        "from itertools import groupby\n",
        "\n",
        "# Sample data\n",
        "people = [\n",
        "    (\"Alice\", 30),\n",
        "    (\"Bob\", 17),\n",
        "    (\"Charlie\", 25),\n",
        "    (\"David\", 15),\n",
        "    (\"Eve\", 40),\n",
        "    (\"Daniel\", 22),\n",
        "    (\"Angela\", 19),\n",
        "    (\"Brian\", 34),\n",
        "    (\"Frank\", 51),\n",
        "    (\"Gloria\", 63),\n",
        "]\n",
        "\n",
        "# Step 1: Filter out minors\n",
        "adults = list(filter(lambda x: x[1] >= 18, people))\n",
        "\n",
        "# Step 2: Increase age by 1\n",
        "aged_people = list(map(lambda x: (x[0], x[1] + 1), adults))\n",
        "\n",
        "# Step 3: Categorize into age ranges\n",
        "def age_group(age):\n",
        "    if age < 30:\n",
        "        return \"Young Adults (18–29)\"\n",
        "    elif age < 50:\n",
        "        return \"Middle Aged (30–49)\"\n",
        "    else:\n",
        "        return \"Seniors (50+)\"\n",
        "\n",
        "# Add group key\n",
        "people_with_group = list(map(lambda x: (age_group(x[1]), x[0]), aged_people))\n",
        "print(\"people_with_group\",people_with_group)\n",
        "\n",
        "# Step 4: Sort by group for groupby\n",
        "people_with_group.sort(key=lambda x: x[0])\n",
        "print(\"people_with_group - \", people_with_group)\n",
        "\n",
        "# Step 5: Group by age range and reduce names\n",
        "grouped = groupby(people_with_group, key=lambda x: x[0])\n",
        "\n",
        "# Output to file\n",
        "with open(\"grouped_output.txt\", \"w\") as file:\n",
        "    for group_name, members in grouped:\n",
        "        names = list(map(lambda x: x[1], members))\n",
        "        name_str = reduce(lambda x, y: f\"{x}, {y}\", names)\n",
        "        output_line = f\"{group_name}: {name_str}\"\n",
        "        print(output_line)\n",
        "        file.write(output_line + \"\\n\")\n"
      ],
      "metadata": {
        "colab": {
          "base_uri": "https://localhost:8080/"
        },
        "id": "2eXH6Qe8Xwx2",
        "outputId": "baa14dc6-5db5-4270-e482-fe380698d635"
      },
      "execution_count": 14,
      "outputs": [
        {
          "output_type": "stream",
          "name": "stdout",
          "text": [
            "people_with_group [('Middle Aged (30–49)', 'Alice'), ('Young Adults (18–29)', 'Charlie'), ('Middle Aged (30–49)', 'Eve'), ('Young Adults (18–29)', 'Daniel'), ('Young Adults (18–29)', 'Angela'), ('Middle Aged (30–49)', 'Brian'), ('Seniors (50+)', 'Frank'), ('Seniors (50+)', 'Gloria')]\n",
            "people_with_group -  [('Middle Aged (30–49)', 'Alice'), ('Middle Aged (30–49)', 'Eve'), ('Middle Aged (30–49)', 'Brian'), ('Seniors (50+)', 'Frank'), ('Seniors (50+)', 'Gloria'), ('Young Adults (18–29)', 'Charlie'), ('Young Adults (18–29)', 'Daniel'), ('Young Adults (18–29)', 'Angela')]\n",
            "Middle Aged (30–49): Alice, Eve, Brian\n",
            "Seniors (50+): Frank, Gloria\n",
            "Young Adults (18–29): Charlie, Daniel, Angela\n"
          ]
        }
      ]
    },
    {
      "cell_type": "code",
      "source": [
        "from itertools import groupby\n",
        "\n",
        "data = ['banana', 'apple', 'cherry', 'avocado']\n",
        "\n",
        "# Step 1: sort by first letter\n",
        "# data.sort(key=lambda x: x[0])\n",
        "\n",
        "# Step 2: group by first letter\n",
        "grouped = groupby(data, key=lambda x: x[0])\n",
        "\n",
        "for k, g in grouped:\n",
        "    print(k, list(g))\n"
      ],
      "metadata": {
        "colab": {
          "base_uri": "https://localhost:8080/"
        },
        "id": "HROiD313ZO_S",
        "outputId": "a614c1f4-a1f5-4665-8d97-6547ddb09e9a"
      },
      "execution_count": 15,
      "outputs": [
        {
          "output_type": "stream",
          "name": "stdout",
          "text": [
            "b ['banana']\n",
            "a ['apple']\n",
            "c ['cherry']\n",
            "a ['avocado']\n"
          ]
        }
      ]
    },
    {
      "cell_type": "code",
      "source": [
        "print(itemgetter(1)('ABCDEFG'))\n",
        "\n",
        "print(itemgetter(1, 3, 5)('ABCDEFG'))\n",
        "\n",
        "print(itemgetter(slice(2, None))('ABCDEFG'))\n",
        "\n",
        "soldier = dict(rank='captain', name='dotterbart')\n",
        "itemgetter('rank')(soldier)"
      ],
      "metadata": {
        "colab": {
          "base_uri": "https://localhost:8080/",
          "height": 88
        },
        "id": "1fnvNjZtbrah",
        "outputId": "4bc105fc-e59f-45f4-b367-8f5a3c6b70a2"
      },
      "execution_count": 18,
      "outputs": [
        {
          "output_type": "stream",
          "name": "stdout",
          "text": [
            "B\n",
            "('B', 'D', 'F')\n",
            "CDEFG\n"
          ]
        },
        {
          "output_type": "execute_result",
          "data": {
            "text/plain": [
              "'captain'"
            ],
            "application/vnd.google.colaboratory.intrinsic+json": {
              "type": "string"
            }
          },
          "metadata": {},
          "execution_count": 18
        }
      ]
    },
    {
      "cell_type": "code",
      "source": [
        "from itertools import groupby\n",
        "from operator import itemgetter\n",
        "\n",
        "# List of employee records (unsorted)\n",
        "employees = [\n",
        "    {\"name\": \"Alice\", \"department\": \"HR\"},\n",
        "    {\"name\": \"Bob\", \"department\": \"Engineering\"},\n",
        "    {\"name\": \"Charlie\", \"department\": \"HR\"},\n",
        "    {\"name\": \"David\", \"department\": \"Engineering\"},\n",
        "    {\"name\": \"Eve\", \"department\": \"Marketing\"},\n",
        "    {\"name\": \"Frank\", \"department\": \"HR\"},\n",
        "    {\"name\": \"Grace\", \"department\": \"Marketing\"},\n",
        "]\n",
        "\n",
        "\n",
        "# Sort by department first\n",
        "employees.sort(key=itemgetter('department'))\n",
        "# print(\"sorted employee - \", employees)\n",
        "\n",
        "grpuped_by_department = groupby(employees, key=itemgetter('department'))\n",
        "# print(\"grpuped_by_department - \", grpuped_by_department)\n",
        "\n",
        "for key, group in grpuped_by_department:\n",
        "    combined = [emp[\"name\"]  for emp in group]\n",
        "    print(key ,\" - \", combined)\n",
        "\n"
      ],
      "metadata": {
        "colab": {
          "base_uri": "https://localhost:8080/"
        },
        "id": "5Wb29ClMbTVK",
        "outputId": "c52a325a-e27f-4d29-c993-dbc34cf8c7b5"
      },
      "execution_count": 25,
      "outputs": [
        {
          "output_type": "stream",
          "name": "stdout",
          "text": [
            "Engineering  -  ['Bob', 'David']\n",
            "HR  -  ['Alice', 'Charlie', 'Frank']\n",
            "Marketing  -  ['Eve', 'Grace']\n"
          ]
        }
      ]
    }
  ]
}