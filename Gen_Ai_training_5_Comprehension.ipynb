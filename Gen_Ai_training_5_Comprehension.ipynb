{
  "nbformat": 4,
  "nbformat_minor": 0,
  "metadata": {
    "colab": {
      "provenance": [],
      "authorship_tag": "ABX9TyMGFewsXXZqw9FxyDOde1SD"
    },
    "kernelspec": {
      "name": "python3",
      "display_name": "Python 3"
    },
    "language_info": {
      "name": "python"
    }
  },
  "cells": [
    {
      "cell_type": "markdown",
      "source": [
        "raymond hettinger ( beginner)\n",
        "david breazley\n",
        "wes mckinney\n",
        "JVP - Jake Vanderplas\n",
        "\n",
        "raymond hettinger <br>\n",
        "david breazley <br>\n",
        "wes mckinney - <br>\n",
        "JVP - Jake Vanderplas\n",
        "\n",
        "> Add blockquote\n",
        "\n"
      ],
      "metadata": {
        "id": "1CXAPCrYGgqZ"
      }
    },
    {
      "cell_type": "code",
      "execution_count": 1,
      "metadata": {
        "colab": {
          "base_uri": "https://localhost:8080/"
        },
        "id": "AWS9yWIK4V0F",
        "outputId": "de82cc6e-e72c-4e1e-bfec-7a0035b88e36"
      },
      "outputs": [
        {
          "output_type": "stream",
          "name": "stdout",
          "text": [
            "0 1 4 9 16 25 36 49 64 81 "
          ]
        }
      ],
      "source": [
        "# https://github.com/enuguru/pythonprogramming\n",
        "# https://www.youtube.com/watch?v=OSGv2VnC0go\n",
        "\n",
        "for num in range(10):\n",
        "  print(num * num , end =\" \")"
      ]
    },
    {
      "cell_type": "code",
      "source": [
        "print([ x* x for x in range(10) ])"
      ],
      "metadata": {
        "colab": {
          "base_uri": "https://localhost:8080/"
        },
        "id": "KtLa3u1a7nvH",
        "outputId": "fe942469-fe41-4baf-b0ff-9b1e75683fa6"
      },
      "execution_count": 7,
      "outputs": [
        {
          "output_type": "stream",
          "name": "stdout",
          "text": [
            "[0, 1, 4, 9, 16, 25, 36, 49, 64, 81]\n"
          ]
        }
      ]
    },
    {
      "cell_type": "code",
      "source": [
        "print([ x for x in range(26) if x % 3 ==0 ])"
      ],
      "metadata": {
        "colab": {
          "base_uri": "https://localhost:8080/"
        },
        "id": "ELEw-C0k7-z5",
        "outputId": "404c32e8-cbea-4ce4-8efb-137b86f03f2f"
      },
      "execution_count": 10,
      "outputs": [
        {
          "output_type": "stream",
          "name": "stdout",
          "text": [
            "[0, 3, 6, 9, 12, 15, 18, 21, 24]\n"
          ]
        }
      ]
    },
    {
      "cell_type": "code",
      "source": [
        "print({ x for x in range(26) if x % 3 ==0 } )"
      ],
      "metadata": {
        "colab": {
          "base_uri": "https://localhost:8080/"
        },
        "id": "rAKtcP4K9EpV",
        "outputId": "1bc87193-4e5b-434e-e992-4fe391583c8f"
      },
      "execution_count": 11,
      "outputs": [
        {
          "output_type": "stream",
          "name": "stdout",
          "text": [
            "{0, 3, 6, 9, 12, 15, 18, 21, 24}\n"
          ]
        }
      ]
    },
    {
      "cell_type": "code",
      "source": [
        "#dictionary Comprehension\n",
        "# key:value\n",
        "\n",
        "print({ x:x* x for x in range(10) })"
      ],
      "metadata": {
        "colab": {
          "base_uri": "https://localhost:8080/"
        },
        "id": "GKLsHupD9ZLX",
        "outputId": "24292c86-5be5-456b-bc55-aa1ca3a63e46"
      },
      "execution_count": 13,
      "outputs": [
        {
          "output_type": "stream",
          "name": "stdout",
          "text": [
            "{0: 0, 1: 1, 2: 4, 3: 9, 4: 16, 5: 25, 6: 36, 7: 49, 8: 64, 9: 81}\n"
          ]
        }
      ]
    },
    {
      "cell_type": "code",
      "source": [
        "print({ x:x* x for x in range(10) if x % 2 ==0 })"
      ],
      "metadata": {
        "colab": {
          "base_uri": "https://localhost:8080/"
        },
        "id": "NmBH9DQN9zhg",
        "outputId": "27d80e0c-82f6-484a-b46a-d56e66c9dd5a"
      },
      "execution_count": 14,
      "outputs": [
        {
          "output_type": "stream",
          "name": "stdout",
          "text": [
            "{0: 0, 2: 4, 4: 16, 6: 36, 8: 64}\n"
          ]
        }
      ]
    },
    {
      "cell_type": "markdown",
      "source": [
        "perfect number one liner"
      ],
      "metadata": {
        "id": "MIYTclueCkMn"
      }
    },
    {
      "cell_type": "markdown",
      "source": [],
      "metadata": {
        "id": "-CbayPu8ElsG"
      }
    },
    {
      "cell_type": "code",
      "source": [
        "print([x for x in range(1,10000) if sum(y for y in range(1,x) if x%y == 0)==x])"
      ],
      "metadata": {
        "colab": {
          "base_uri": "https://localhost:8080/"
        },
        "id": "uJ4VXuwXFdAy",
        "outputId": "8e6c3801-7f0f-4c1b-f0c5-8b1c8b53c30c"
      },
      "execution_count": 3,
      "outputs": [
        {
          "output_type": "stream",
          "name": "stdout",
          "text": [
            "[6, 28, 496, 8128]\n"
          ]
        }
      ]
    },
    {
      "cell_type": "code",
      "source": [
        "import time\n",
        "start = time.time()\n",
        "# print([x for x in range(1,10000) if sum(y for y in range(1,x) if x %y == 0)==x])\n",
        "print([x for x in range(1,10000) if sum(y for y in range(1,x) if x%y == 0)==x])\n",
        "end = time.time()\n",
        "print(end-start)"
      ],
      "metadata": {
        "colab": {
          "base_uri": "https://localhost:8080/"
        },
        "id": "YqmZf4nu95C1",
        "outputId": "105af6ed-b1d2-48bf-9742-c2aa3c901350"
      },
      "execution_count": 2,
      "outputs": [
        {
          "output_type": "stream",
          "name": "stdout",
          "text": [
            "[6, 28, 496, 8128]\n",
            "5.037956953048706\n"
          ]
        }
      ]
    },
    {
      "cell_type": "code",
      "source": [
        "print({x:x for x in range(1,10000)  if sum(y for y in range(1,x) if x% y ==0) ==x })"
      ],
      "metadata": {
        "colab": {
          "base_uri": "https://localhost:8080/"
        },
        "id": "xmX2rBW6_-xQ",
        "outputId": "02afdd45-1eca-4542-81df-708f49422799"
      },
      "execution_count": 20,
      "outputs": [
        {
          "output_type": "stream",
          "name": "stdout",
          "text": [
            "{6: 6, 28: 28, 496: 496, 8128: 8128}\n"
          ]
        }
      ]
    },
    {
      "cell_type": "code",
      "source": [
        "print(*(x for x in range(1,10000)  if sum(y for y in range(1,x) if x% y ==0) ==x ))"
      ],
      "metadata": {
        "colab": {
          "base_uri": "https://localhost:8080/"
        },
        "id": "JRXqyrR6CTnJ",
        "outputId": "7311a5be-f81a-4675-d8c6-22e1103422c0"
      },
      "execution_count": 21,
      "outputs": [
        {
          "output_type": "stream",
          "name": "stdout",
          "text": [
            "6 28 496 8128\n"
          ]
        }
      ]
    },
    {
      "cell_type": "code",
      "source": [
        "import time\n",
        "start = time.time()\n",
        "for num in range(2,10000):\n",
        "  sum =0\n",
        "  for val in range(1,num):\n",
        "    if num % val ==0:\n",
        "      sum = sum + val\n",
        "  if sum == num:\n",
        "    print(num , end =\" \")\n",
        "end = time.time()\n",
        "print(end - start)"
      ],
      "metadata": {
        "colab": {
          "base_uri": "https://localhost:8080/"
        },
        "id": "Fplbr0uaDbmk",
        "outputId": "ba3b4800-a468-4697-e7ec-3aa06943510d"
      },
      "execution_count": 4,
      "outputs": [
        {
          "output_type": "stream",
          "name": "stdout",
          "text": [
            "6 28 496 8128 5.468966960906982\n"
          ]
        }
      ]
    },
    {
      "cell_type": "markdown",
      "source": [
        "**map reduce  filter groupby lambda **"
      ],
      "metadata": {
        "id": "MudVwsm7HIdI"
      }
    },
    {
      "cell_type": "code",
      "source": [
        "def newfunc(x):\n",
        "  return x* x * x\n",
        "\n",
        "expr = list(map(newfunc, [2,4,6,8,10,12]))\n",
        "print(expr)"
      ],
      "metadata": {
        "colab": {
          "base_uri": "https://localhost:8080/"
        },
        "id": "WIaPXxECHHw9",
        "outputId": "1060afdd-0cd7-4aea-f333-cce93ea6531f"
      },
      "execution_count": 6,
      "outputs": [
        {
          "output_type": "stream",
          "name": "stdout",
          "text": [
            "[8, 64, 216, 512, 1000, 1728]\n"
          ]
        }
      ]
    },
    {
      "cell_type": "code",
      "source": [
        "expr = list(map(lambda x:x*x*x, [2,4,6,8,10,12]))\n",
        "print(expr)\n"
      ],
      "metadata": {
        "colab": {
          "base_uri": "https://localhost:8080/"
        },
        "id": "Yq7AD4qTHybh",
        "outputId": "2c8638b7-57ee-4433-8daa-1c83ffb51ddb"
      },
      "execution_count": 7,
      "outputs": [
        {
          "output_type": "stream",
          "name": "stdout",
          "text": [
            "[8, 64, 216, 512, 1000, 1728]\n"
          ]
        }
      ]
    },
    {
      "cell_type": "code",
      "source": [
        "mynum = [2,4,6,8,10,12]\n",
        "for val in mynum :\n",
        "  print(val * val * val , end =\" \")"
      ],
      "metadata": {
        "colab": {
          "base_uri": "https://localhost:8080/"
        },
        "id": "6bC0iZh2IRUF",
        "outputId": "01bebf7c-77fc-4ddb-a467-91e7393b1502"
      },
      "execution_count": 8,
      "outputs": [
        {
          "output_type": "stream",
          "name": "stdout",
          "text": [
            "8 64 216 512 1000 1728 "
          ]
        }
      ]
    },
    {
      "cell_type": "code",
      "source": [
        "def numfunc1(x):\n",
        "  return x % 6 == 5\n",
        "\n",
        "expr = list(filter(numfunc1, range(1,52)))\n",
        "print(expr)"
      ],
      "metadata": {
        "colab": {
          "base_uri": "https://localhost:8080/"
        },
        "id": "otDygoY0JTen",
        "outputId": "6238b224-438b-4668-abc6-52fa57bcce0e"
      },
      "execution_count": 11,
      "outputs": [
        {
          "output_type": "stream",
          "name": "stdout",
          "text": [
            "[5, 11, 17, 23, 29, 35, 41, 47]\n"
          ]
        }
      ]
    },
    {
      "cell_type": "code",
      "source": [
        "def numfunc1(x):\n",
        "  return x % 2 == 1\n",
        "\n",
        "expr = list(map(numfunc1, [2,4,6,8,10,12] ))\n",
        "print(expr)"
      ],
      "metadata": {
        "colab": {
          "base_uri": "https://localhost:8080/"
        },
        "id": "CxHBCG8uKfnx",
        "outputId": "12f5f8cd-bf2b-4079-9e3f-15c95bf3c90c"
      },
      "execution_count": 16,
      "outputs": [
        {
          "output_type": "stream",
          "name": "stdout",
          "text": [
            "[False, False, False, False, False, False]\n"
          ]
        }
      ]
    },
    {
      "cell_type": "code",
      "source": [
        "import functools as ft\n",
        "newexpr = ft.reduce(lambda x,y:x+y, [2,4,6,8,10,12])\n",
        "print(newexpr)\n",
        "\n"
      ],
      "metadata": {
        "colab": {
          "base_uri": "https://localhost:8080/"
        },
        "id": "WuMiWVb1LSxA",
        "outputId": "1cfdf4c4-7720-4dd5-bed1-71facd54536f"
      },
      "execution_count": 17,
      "outputs": [
        {
          "output_type": "stream",
          "name": "stdout",
          "text": [
            "42\n"
          ]
        }
      ]
    },
    {
      "cell_type": "code",
      "source": [
        "# user defined functions - separate or member\n",
        "# built in functions of built in ds\n",
        "# built in functions of the python language\n",
        "# functions of the built in python libraries\n",
        "# functions of the third party python libraries"
      ],
      "metadata": {
        "id": "1V14kubPOPZr"
      },
      "execution_count": null,
      "outputs": []
    },
    {
      "cell_type": "code",
      "source": [],
      "metadata": {
        "id": "y1xcO3rHO8c4"
      },
      "execution_count": null,
      "outputs": []
    }
  ]
}