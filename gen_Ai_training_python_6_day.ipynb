{
  "nbformat": 4,
  "nbformat_minor": 0,
  "metadata": {
    "colab": {
      "provenance": [],
      "authorship_tag": "ABX9TyPB6ZgXhwJ/RMhWrQNQtfts",
      "include_colab_link": true
    },
    "kernelspec": {
      "name": "python3",
      "display_name": "Python 3"
    },
    "language_info": {
      "name": "python"
    }
  },
  "cells": [
    {
      "cell_type": "markdown",
      "metadata": {
        "id": "view-in-github",
        "colab_type": "text"
      },
      "source": [
        "<a href=\"https://colab.research.google.com/github/ajaysinghrathore1/learn/blob/main/gen_Ai_training_python_6_day.ipynb\" target=\"_parent\"><img src=\"https://colab.research.google.com/assets/colab-badge.svg\" alt=\"Open In Colab\"/></a>"
      ]
    },
    {
      "cell_type": "code",
      "execution_count": null,
      "metadata": {
        "id": "NzQ9q87QnrRH"
      },
      "outputs": [],
      "source": [
        "# leetcode   python problem\n",
        "# realpython\n",
        "\n",
        "\n",
        "# Around 100 practice questions are available here -\n",
        "# GitHub - darkprinx/break-the-ice-with-python: The repository is about 100+ python programming exercise problem discussed,\n",
        "# explained, and solved in different ways\n",
        "# https://github.com/darkprinx/break-the-ice-with-python\n",
        "\n",
        "\n",
        "# alexander stepanov lecture in in india 2003 in adobe what to read pdf\n",
        "#  https://www.scribd.com/document/210467/Speech-by-Alex-Stepanov\n",
        "\n"
      ]
    }
  ]
}