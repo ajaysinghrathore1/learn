{
 "cells": [
  {
   "cell_type": "code",
   "execution_count": 1,
   "id": "cb1f7a67",
   "metadata": {},
   "outputs": [
    {
     "name": "stdout",
     "output_type": "stream",
     "text": [
      "Embedding for the word 'king':\n",
      "[-3.0787250e-01 -7.3182440e-01  8.6404216e-01 -6.0926551e-01\n",
      "  4.3189284e-01  2.7507157e+00  1.7234063e+00  1.3630022e+00\n",
      "  1.0447260e+00  1.8478754e+00  5.6265497e-01 -3.2939462e-03\n",
      "  1.2702593e+00  2.0527413e+00  3.8248959e-01 -5.8530980e-01\n",
      " -1.5285949e-01 -6.4675587e-01  2.6152530e+00 -1.9339803e-01\n",
      " -2.9806747e+00  2.5495238e+00 -2.5374482e+00  2.8552492e+00\n",
      "  2.1934407e+00  1.8145906e+00  2.0478668e+00  2.0006359e+00\n",
      "  1.1865082e+00 -6.7732143e-01  4.3643737e-01  1.8645306e+00\n",
      "  1.3722502e+00  2.3698981e+00  2.9549222e+00  1.1166745e+00\n",
      "  7.1606600e-01 -1.1417537e+00  6.7814332e-01 -3.6212549e+00\n",
      " -1.1121045e+00  1.0446836e+00 -1.0133829e+00  1.1991968e-02\n",
      " -1.0472924e+00 -1.7002892e+00 -7.2573209e-01 -2.0564671e-03\n",
      "  1.0501530e+00  2.7399489e-01  1.9175620e+00  4.7805053e-01\n",
      " -2.4534125e+00  5.4306355e+00 -2.0016663e-01 -2.1828866e+00\n",
      " -2.2178210e-01  1.7140822e+00  1.0738798e+00 -4.3910728e+00\n",
      "  2.2355027e+00  3.6040146e-02  1.2179949e+00  1.0427126e+00\n",
      " -2.8974092e-01 -1.4965595e+00 -5.7334322e-01  1.8900237e+00\n",
      " -7.7019292e-01 -1.0378929e+00  8.1772435e-01  1.4405301e+00\n",
      " -2.2792504e+00 -2.6198435e+00 -6.8482852e-01 -1.5050027e+00\n",
      "  5.3523123e-01  1.6718402e+00 -4.3110528e+00 -1.9059960e+00\n",
      " -3.9893160e+00 -1.3463424e+00  2.1917102e+00  2.0226293e+00\n",
      " -3.2738461e+00  2.1582730e+00  5.7526559e-01  2.5309162e+00\n",
      "  3.4757614e-01  1.3267187e+00  1.4082845e+00  5.6690067e-01\n",
      " -2.3567338e+00 -1.5667892e+00  2.8281052e+00 -1.0621973e+00\n",
      "  1.9238544e+00  3.8841281e+00 -2.7755060e+00  2.4798201e-01]\n"
     ]
    }
   ],
   "source": [
    "import gensim\n",
    "from gensim.models import Word2Vec\n",
    "from gensim.utils import simple_preprocess\n",
    "\n",
    "import gensim.downloader as api\n",
    "\n",
    "# Load the text8 corpus\n",
    "dataset = api.load(\"text8\")\n",
    "\n",
    "# Build the Word2Vec model\n",
    "model = Word2Vec(dataset, vector_size=100, window=5, min_count=1, workers=4)\n",
    "\n",
    "# Save the model\n",
    "model.save('text8_word2vec.model')\n",
    "\n",
    "# Load the saved model\n",
    "model = Word2Vec.load('text8_word2vec.model')\n",
    "\n",
    "# Example: Get the vector for a word\n",
    "word = \"king\"\n",
    "if word in model.wv.key_to_index:\n",
    "    vector = model.wv[word]\n",
    "    print(f\"Embedding for the word '{word}':\\n{vector}\")\n",
    "else:\n",
    "    print(f\"The word '{word}' is not in the vocabulary.\")\n"
   ]
  },
  {
   "cell_type": "code",
   "execution_count": null,
   "id": "c060dc43",
   "metadata": {},
   "outputs": [],
   "source": []
  }
 ],
 "metadata": {
  "kernelspec": {
   "display_name": "Python 3 (ipykernel)",
   "language": "python",
   "name": "python3"
  },
  "language_info": {
   "codemirror_mode": {
    "name": "ipython",
    "version": 3
   },
   "file_extension": ".py",
   "mimetype": "text/x-python",
   "name": "python",
   "nbconvert_exporter": "python",
   "pygments_lexer": "ipython3",
   "version": "3.10.9"
  }
 },
 "nbformat": 4,
 "nbformat_minor": 5
}
