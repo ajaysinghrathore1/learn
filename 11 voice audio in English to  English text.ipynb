{
 "cells": [
  {
   "cell_type": "code",
   "execution_count": null,
   "id": "63c84ae4",
   "metadata": {},
   "outputs": [],
   "source": [
    "pip install -U assemblyai"
   ]
  },
  {
   "cell_type": "code",
   "execution_count": 2,
   "id": "278375ae",
   "metadata": {},
   "outputs": [],
   "source": [
    "# set the API key\n",
    "# aai.settings.api_key = f\"{ASSEMBLYAI_API_KEY}\"\n",
    "aai.settings.api_key = \"9a7a4a171bd34b63acdddc179b2e8704\""
   ]
  },
  {
   "cell_type": "code",
   "execution_count": 3,
   "id": "e65712ae",
   "metadata": {},
   "outputs": [
    {
     "name": "stdout",
     "output_type": "stream",
     "text": [
      "Hello. This is a voice generated from a text using chat GPT.\n"
     ]
    }
   ],
   "source": [
    "import assemblyai as aai\n",
    "\n",
    "transcriber = aai.Transcriber()\n",
    "transcript = transcriber.transcribe(\"./test.mp3\")\n",
    "\n",
    "print(transcript.text)"
   ]
  },
  {
   "cell_type": "code",
   "execution_count": null,
   "id": "c77d9dc6",
   "metadata": {},
   "outputs": [],
   "source": [
    "# `pip3 install assemblyai` (macOS)\n",
    "# `pip install assemblyai` (Windows)\n",
    "\n",
    "import assemblyai as aai\n",
    "\n",
    "aai.settings.api_key = \"9a7a4a171bd34b63acdddc179b2e8704\"\n",
    "transcriber = aai.Transcriber()\n",
    "\n",
    "transcript = transcriber.transcribe(\"https://storage.googleapis.com/aai-web-samples/news.mp4\")\n",
    "# transcript = transcriber.transcribe(\"./my-local-audio-file.wav\")\n",
    "\n",
    "print(transcript.text)"
   ]
  }
 ],
 "metadata": {
  "kernelspec": {
   "display_name": "Python 3 (ipykernel)",
   "language": "python",
   "name": "python3"
  },
  "language_info": {
   "codemirror_mode": {
    "name": "ipython",
    "version": 3
   },
   "file_extension": ".py",
   "mimetype": "text/x-python",
   "name": "python",
   "nbconvert_exporter": "python",
   "pygments_lexer": "ipython3",
   "version": "3.10.9"
  }
 },
 "nbformat": 4,
 "nbformat_minor": 5
}
