{
  "nbformat": 4,
  "nbformat_minor": 0,
  "metadata": {
    "colab": {
      "provenance": [],
      "authorship_tag": "ABX9TyNMRPLjTrGy1rKCjhrs8fC2",
      "include_colab_link": true
    },
    "kernelspec": {
      "name": "python3",
      "display_name": "Python 3"
    },
    "language_info": {
      "name": "python"
    }
  },
  "cells": [
    {
      "cell_type": "markdown",
      "metadata": {
        "id": "view-in-github",
        "colab_type": "text"
      },
      "source": [
        "<a href=\"https://colab.research.google.com/github/ajaysinghrathore1/learn/blob/main/python_Day_3.ipynb\" target=\"_parent\"><img src=\"https://colab.research.google.com/assets/colab-badge.svg\" alt=\"Open In Colab\"/></a>"
      ]
    },
    {
      "cell_type": "code",
      "execution_count": null,
      "metadata": {
        "id": "l3ABwpVVk_Br"
      },
      "outputs": [],
      "source": [
        "##ai coding assistance\n",
        "## pair programing   using GenAI\n",
        "\n",
        "## hard real time system  ( domain specific or high end application like space, health care patient system)\n",
        "\n",
        "\"\"\"\n",
        "Write a python program that takes these movie ratings given in the csv file movies.csv, loads the csv file, calculates average ratings, filters based on thresholds, and displays the top-rated movies.\n",
        "\"\"\"\n",
        "\n"
      ]
    }
  ]
}