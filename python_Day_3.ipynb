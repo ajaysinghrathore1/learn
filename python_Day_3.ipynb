{
  "nbformat": 4,
  "nbformat_minor": 0,
  "metadata": {
    "colab": {
      "provenance": [],
      "authorship_tag": "ABX9TyONkf/iYMCOibhEQeCLUAn/",
      "include_colab_link": true
    },
    "kernelspec": {
      "name": "python3",
      "display_name": "Python 3"
    },
    "language_info": {
      "name": "python"
    }
  },
  "cells": [
    {
      "cell_type": "markdown",
      "metadata": {
        "id": "view-in-github",
        "colab_type": "text"
      },
      "source": [
        "<a href=\"https://colab.research.google.com/github/ajaysinghrathore1/learn/blob/main/python_Day_3.ipynb\" target=\"_parent\"><img src=\"https://colab.research.google.com/assets/colab-badge.svg\" alt=\"Open In Colab\"/></a>"
      ]
    },
    {
      "cell_type": "code",
      "execution_count": null,
      "metadata": {
        "id": "l3ABwpVVk_Br"
      },
      "outputs": [],
      "source": [
        "##ai coding assistance\n",
        "## pair programing   using GenAI\n",
        "\n",
        "https://github.com/enuguru/aiandml/tree/master/machine_learning_algorithms_using_frameworks/python_files/ai_pair_programming\n",
        "\n",
        "\n",
        "## hard real time system  ( domain specific or high end application like space, health care patient system)\n",
        "\n",
        "\"\"\"\n",
        "Write a python program that takes these movie ratings given in the csv file movies.csv, loads the csv file, calculates average ratings, filters based on thresholds, and displays the top-rated movies.\n",
        "\"\"\"\n",
        "## dry ( do not repeat yourself) principlal\n",
        "\n"
      ]
    }
  ]
}