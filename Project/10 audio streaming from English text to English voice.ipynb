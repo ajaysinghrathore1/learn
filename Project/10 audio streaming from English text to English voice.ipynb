{
 "cells": [
  {
   "cell_type": "code",
   "execution_count": 21,
   "id": "bafaeddb",
   "metadata": {},
   "outputs": [],
   "source": [
    "import pyttsx3\n",
    "\n",
    "# Initialize the TTS engine\n",
    "engine = pyttsx3.init()\n",
    "\n",
    "\n",
    "\n",
    "# Sample text (you can use ChatGPT or OpenAI API to dynamically generate text)\n",
    "text = \"Hello, this is a voice generated from a text using ChatGPT!\"\n",
    "\n",
    "voices = engine.getProperty('voices')\n",
    "\n",
    "\n",
    "voices = engine.getProperty('voices')\n",
    "#changing index changes voices but ony 0 for male and 1 Female are working here\n",
    "engine.setProperty('voice', voices[1].id) \n",
    "\n",
    "\n",
    "\n",
    "# Convert the text to speech and stream it\n",
    "engine.say(text)\n",
    "# engine.save_to_file(text , 'test.mp3')\n",
    "engine.runAndWait()\n"
   ]
  },
  {
   "cell_type": "code",
   "execution_count": null,
   "id": "4b9a44b8",
   "metadata": {},
   "outputs": [],
   "source": []
  }
 ],
 "metadata": {
  "kernelspec": {
   "display_name": "Python 3 (ipykernel)",
   "language": "python",
   "name": "python3"
  },
  "language_info": {
   "codemirror_mode": {
    "name": "ipython",
    "version": 3
   },
   "file_extension": ".py",
   "mimetype": "text/x-python",
   "name": "python",
   "nbconvert_exporter": "python",
   "pygments_lexer": "ipython3",
   "version": "3.10.9"
  }
 },
 "nbformat": 4,
 "nbformat_minor": 5
}
