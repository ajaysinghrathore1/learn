{
  "nbformat": 4,
  "nbformat_minor": 0,
  "metadata": {
    "colab": {
      "provenance": []
    },
    "kernelspec": {
      "name": "python3",
      "display_name": "Python 3"
    },
    "language_info": {
      "name": "python"
    }
  },
  "cells": [
    {
      "cell_type": "markdown",
      "source": [
        "**Declare the module and library**"
      ],
      "metadata": {
        "id": "xTPKrlXcCVKX"
      }
    },
    {
      "cell_type": "code",
      "execution_count": null,
      "metadata": {
        "id": "X3KGBXRmCcqS"
      },
      "outputs": [],
      "source": [
        "import numpy as np\n",
        "import pandas as pd\n",
        "import matplotlib.pyplot as plt\n",
        "import seaborn as sns\n",
        "from sklearn.model_selection import train_test_split\n",
        "from sklearn.linear_model import LinearRegression\n",
        "from sklearn.metrics import mean_squared_error, r2_score ,accuracy_score"
      ]
    },
    {
      "cell_type": "markdown",
      "source": [
        "**Step 1 : Load the raw data**"
      ],
      "metadata": {
        "id": "sNCiJQgDCcS2"
      }
    },
    {
      "cell_type": "code",
      "source": [
        "url_data = r\"coaster_db.csv\"\n",
        "df = pd.read_csv(url_data)"
      ],
      "metadata": {
        "id": "T94cpPISK2yQ"
      },
      "execution_count": null,
      "outputs": []
    },
    {
      "cell_type": "code",
      "source": [
        "## display the datframe\n",
        "df.head(2)"
      ],
      "metadata": {
        "colab": {
          "base_uri": "https://localhost:8080/",
          "height": 248
        },
        "id": "RIu0lfxJbDAO",
        "outputId": "b5c72c90-ca23-468b-88c2-627fa2ea9ba3"
      },
      "execution_count": null,
      "outputs": [
        {
          "output_type": "execute_result",
          "data": {
            "text/plain": [
              "         coaster_name          Length             Speed       Location  \\\n",
              "0  Switchback Railway  600 ft (180 m)  6 mph (9.7 km/h)   Coney Island   \n",
              "1   Flip Flap Railway             NaN               NaN  Sea Lion Park   \n",
              "\n",
              "    Status   Opening date  Type            Manufacturer Height restriction  \\\n",
              "0  Removed  June 16, 1884  Wood  LaMarcus Adna Thompson                NaN   \n",
              "1  Removed           1895  Wood            Lina Beecher                NaN   \n",
              "\n",
              "         Model  ...  speed1    speed2 speed1_value speed1_unit speed_mph  \\\n",
              "0  Lift Packed  ...  6 mph   9.7 km/h          6.0         mph       6.0   \n",
              "1          NaN  ...     NaN       NaN          NaN         NaN       NaN   \n",
              "\n",
              "  height_value height_unit height_ft Inversions_clean Gforce_clean  \n",
              "0         50.0          ft       NaN                0          2.9  \n",
              "1          NaN         NaN       NaN                1         12.0  \n",
              "\n",
              "[2 rows x 56 columns]"
            ],
            "text/html": [
              "\n",
              "  <div id=\"df-d1ea8d60-249f-45ac-abc3-a5a2d2746871\" class=\"colab-df-container\">\n",
              "    <div>\n",
              "<style scoped>\n",
              "    .dataframe tbody tr th:only-of-type {\n",
              "        vertical-align: middle;\n",
              "    }\n",
              "\n",
              "    .dataframe tbody tr th {\n",
              "        vertical-align: top;\n",
              "    }\n",
              "\n",
              "    .dataframe thead th {\n",
              "        text-align: right;\n",
              "    }\n",
              "</style>\n",
              "<table border=\"1\" class=\"dataframe\">\n",
              "  <thead>\n",
              "    <tr style=\"text-align: right;\">\n",
              "      <th></th>\n",
              "      <th>coaster_name</th>\n",
              "      <th>Length</th>\n",
              "      <th>Speed</th>\n",
              "      <th>Location</th>\n",
              "      <th>Status</th>\n",
              "      <th>Opening date</th>\n",
              "      <th>Type</th>\n",
              "      <th>Manufacturer</th>\n",
              "      <th>Height restriction</th>\n",
              "      <th>Model</th>\n",
              "      <th>...</th>\n",
              "      <th>speed1</th>\n",
              "      <th>speed2</th>\n",
              "      <th>speed1_value</th>\n",
              "      <th>speed1_unit</th>\n",
              "      <th>speed_mph</th>\n",
              "      <th>height_value</th>\n",
              "      <th>height_unit</th>\n",
              "      <th>height_ft</th>\n",
              "      <th>Inversions_clean</th>\n",
              "      <th>Gforce_clean</th>\n",
              "    </tr>\n",
              "  </thead>\n",
              "  <tbody>\n",
              "    <tr>\n",
              "      <th>0</th>\n",
              "      <td>Switchback Railway</td>\n",
              "      <td>600 ft (180 m)</td>\n",
              "      <td>6 mph (9.7 km/h)</td>\n",
              "      <td>Coney Island</td>\n",
              "      <td>Removed</td>\n",
              "      <td>June 16, 1884</td>\n",
              "      <td>Wood</td>\n",
              "      <td>LaMarcus Adna Thompson</td>\n",
              "      <td>NaN</td>\n",
              "      <td>Lift Packed</td>\n",
              "      <td>...</td>\n",
              "      <td>6 mph</td>\n",
              "      <td>9.7 km/h</td>\n",
              "      <td>6.0</td>\n",
              "      <td>mph</td>\n",
              "      <td>6.0</td>\n",
              "      <td>50.0</td>\n",
              "      <td>ft</td>\n",
              "      <td>NaN</td>\n",
              "      <td>0</td>\n",
              "      <td>2.9</td>\n",
              "    </tr>\n",
              "    <tr>\n",
              "      <th>1</th>\n",
              "      <td>Flip Flap Railway</td>\n",
              "      <td>NaN</td>\n",
              "      <td>NaN</td>\n",
              "      <td>Sea Lion Park</td>\n",
              "      <td>Removed</td>\n",
              "      <td>1895</td>\n",
              "      <td>Wood</td>\n",
              "      <td>Lina Beecher</td>\n",
              "      <td>NaN</td>\n",
              "      <td>NaN</td>\n",
              "      <td>...</td>\n",
              "      <td>NaN</td>\n",
              "      <td>NaN</td>\n",
              "      <td>NaN</td>\n",
              "      <td>NaN</td>\n",
              "      <td>NaN</td>\n",
              "      <td>NaN</td>\n",
              "      <td>NaN</td>\n",
              "      <td>NaN</td>\n",
              "      <td>1</td>\n",
              "      <td>12.0</td>\n",
              "    </tr>\n",
              "  </tbody>\n",
              "</table>\n",
              "<p>2 rows × 56 columns</p>\n",
              "</div>\n",
              "    <div class=\"colab-df-buttons\">\n",
              "\n",
              "  <div class=\"colab-df-container\">\n",
              "    <button class=\"colab-df-convert\" onclick=\"convertToInteractive('df-d1ea8d60-249f-45ac-abc3-a5a2d2746871')\"\n",
              "            title=\"Convert this dataframe to an interactive table.\"\n",
              "            style=\"display:none;\">\n",
              "\n",
              "  <svg xmlns=\"http://www.w3.org/2000/svg\" height=\"24px\" viewBox=\"0 -960 960 960\">\n",
              "    <path d=\"M120-120v-720h720v720H120Zm60-500h600v-160H180v160Zm220 220h160v-160H400v160Zm0 220h160v-160H400v160ZM180-400h160v-160H180v160Zm440 0h160v-160H620v160ZM180-180h160v-160H180v160Zm440 0h160v-160H620v160Z\"/>\n",
              "  </svg>\n",
              "    </button>\n",
              "\n",
              "  <style>\n",
              "    .colab-df-container {\n",
              "      display:flex;\n",
              "      gap: 12px;\n",
              "    }\n",
              "\n",
              "    .colab-df-convert {\n",
              "      background-color: #E8F0FE;\n",
              "      border: none;\n",
              "      border-radius: 50%;\n",
              "      cursor: pointer;\n",
              "      display: none;\n",
              "      fill: #1967D2;\n",
              "      height: 32px;\n",
              "      padding: 0 0 0 0;\n",
              "      width: 32px;\n",
              "    }\n",
              "\n",
              "    .colab-df-convert:hover {\n",
              "      background-color: #E2EBFA;\n",
              "      box-shadow: 0px 1px 2px rgba(60, 64, 67, 0.3), 0px 1px 3px 1px rgba(60, 64, 67, 0.15);\n",
              "      fill: #174EA6;\n",
              "    }\n",
              "\n",
              "    .colab-df-buttons div {\n",
              "      margin-bottom: 4px;\n",
              "    }\n",
              "\n",
              "    [theme=dark] .colab-df-convert {\n",
              "      background-color: #3B4455;\n",
              "      fill: #D2E3FC;\n",
              "    }\n",
              "\n",
              "    [theme=dark] .colab-df-convert:hover {\n",
              "      background-color: #434B5C;\n",
              "      box-shadow: 0px 1px 3px 1px rgba(0, 0, 0, 0.15);\n",
              "      filter: drop-shadow(0px 1px 2px rgba(0, 0, 0, 0.3));\n",
              "      fill: #FFFFFF;\n",
              "    }\n",
              "  </style>\n",
              "\n",
              "    <script>\n",
              "      const buttonEl =\n",
              "        document.querySelector('#df-d1ea8d60-249f-45ac-abc3-a5a2d2746871 button.colab-df-convert');\n",
              "      buttonEl.style.display =\n",
              "        google.colab.kernel.accessAllowed ? 'block' : 'none';\n",
              "\n",
              "      async function convertToInteractive(key) {\n",
              "        const element = document.querySelector('#df-d1ea8d60-249f-45ac-abc3-a5a2d2746871');\n",
              "        const dataTable =\n",
              "          await google.colab.kernel.invokeFunction('convertToInteractive',\n",
              "                                                    [key], {});\n",
              "        if (!dataTable) return;\n",
              "\n",
              "        const docLinkHtml = 'Like what you see? Visit the ' +\n",
              "          '<a target=\"_blank\" href=https://colab.research.google.com/notebooks/data_table.ipynb>data table notebook</a>'\n",
              "          + ' to learn more about interactive tables.';\n",
              "        element.innerHTML = '';\n",
              "        dataTable['output_type'] = 'display_data';\n",
              "        await google.colab.output.renderOutput(dataTable, element);\n",
              "        const docLink = document.createElement('div');\n",
              "        docLink.innerHTML = docLinkHtml;\n",
              "        element.appendChild(docLink);\n",
              "      }\n",
              "    </script>\n",
              "  </div>\n",
              "\n",
              "\n",
              "<div id=\"df-e5852afe-2a7a-4200-b9de-6631d1f1be1c\">\n",
              "  <button class=\"colab-df-quickchart\" onclick=\"quickchart('df-e5852afe-2a7a-4200-b9de-6631d1f1be1c')\"\n",
              "            title=\"Suggest charts\"\n",
              "            style=\"display:none;\">\n",
              "\n",
              "<svg xmlns=\"http://www.w3.org/2000/svg\" height=\"24px\"viewBox=\"0 0 24 24\"\n",
              "     width=\"24px\">\n",
              "    <g>\n",
              "        <path d=\"M19 3H5c-1.1 0-2 .9-2 2v14c0 1.1.9 2 2 2h14c1.1 0 2-.9 2-2V5c0-1.1-.9-2-2-2zM9 17H7v-7h2v7zm4 0h-2V7h2v10zm4 0h-2v-4h2v4z\"/>\n",
              "    </g>\n",
              "</svg>\n",
              "  </button>\n",
              "\n",
              "<style>\n",
              "  .colab-df-quickchart {\n",
              "      --bg-color: #E8F0FE;\n",
              "      --fill-color: #1967D2;\n",
              "      --hover-bg-color: #E2EBFA;\n",
              "      --hover-fill-color: #174EA6;\n",
              "      --disabled-fill-color: #AAA;\n",
              "      --disabled-bg-color: #DDD;\n",
              "  }\n",
              "\n",
              "  [theme=dark] .colab-df-quickchart {\n",
              "      --bg-color: #3B4455;\n",
              "      --fill-color: #D2E3FC;\n",
              "      --hover-bg-color: #434B5C;\n",
              "      --hover-fill-color: #FFFFFF;\n",
              "      --disabled-bg-color: #3B4455;\n",
              "      --disabled-fill-color: #666;\n",
              "  }\n",
              "\n",
              "  .colab-df-quickchart {\n",
              "    background-color: var(--bg-color);\n",
              "    border: none;\n",
              "    border-radius: 50%;\n",
              "    cursor: pointer;\n",
              "    display: none;\n",
              "    fill: var(--fill-color);\n",
              "    height: 32px;\n",
              "    padding: 0;\n",
              "    width: 32px;\n",
              "  }\n",
              "\n",
              "  .colab-df-quickchart:hover {\n",
              "    background-color: var(--hover-bg-color);\n",
              "    box-shadow: 0 1px 2px rgba(60, 64, 67, 0.3), 0 1px 3px 1px rgba(60, 64, 67, 0.15);\n",
              "    fill: var(--button-hover-fill-color);\n",
              "  }\n",
              "\n",
              "  .colab-df-quickchart-complete:disabled,\n",
              "  .colab-df-quickchart-complete:disabled:hover {\n",
              "    background-color: var(--disabled-bg-color);\n",
              "    fill: var(--disabled-fill-color);\n",
              "    box-shadow: none;\n",
              "  }\n",
              "\n",
              "  .colab-df-spinner {\n",
              "    border: 2px solid var(--fill-color);\n",
              "    border-color: transparent;\n",
              "    border-bottom-color: var(--fill-color);\n",
              "    animation:\n",
              "      spin 1s steps(1) infinite;\n",
              "  }\n",
              "\n",
              "  @keyframes spin {\n",
              "    0% {\n",
              "      border-color: transparent;\n",
              "      border-bottom-color: var(--fill-color);\n",
              "      border-left-color: var(--fill-color);\n",
              "    }\n",
              "    20% {\n",
              "      border-color: transparent;\n",
              "      border-left-color: var(--fill-color);\n",
              "      border-top-color: var(--fill-color);\n",
              "    }\n",
              "    30% {\n",
              "      border-color: transparent;\n",
              "      border-left-color: var(--fill-color);\n",
              "      border-top-color: var(--fill-color);\n",
              "      border-right-color: var(--fill-color);\n",
              "    }\n",
              "    40% {\n",
              "      border-color: transparent;\n",
              "      border-right-color: var(--fill-color);\n",
              "      border-top-color: var(--fill-color);\n",
              "    }\n",
              "    60% {\n",
              "      border-color: transparent;\n",
              "      border-right-color: var(--fill-color);\n",
              "    }\n",
              "    80% {\n",
              "      border-color: transparent;\n",
              "      border-right-color: var(--fill-color);\n",
              "      border-bottom-color: var(--fill-color);\n",
              "    }\n",
              "    90% {\n",
              "      border-color: transparent;\n",
              "      border-bottom-color: var(--fill-color);\n",
              "    }\n",
              "  }\n",
              "</style>\n",
              "\n",
              "  <script>\n",
              "    async function quickchart(key) {\n",
              "      const quickchartButtonEl =\n",
              "        document.querySelector('#' + key + ' button');\n",
              "      quickchartButtonEl.disabled = true;  // To prevent multiple clicks.\n",
              "      quickchartButtonEl.classList.add('colab-df-spinner');\n",
              "      try {\n",
              "        const charts = await google.colab.kernel.invokeFunction(\n",
              "            'suggestCharts', [key], {});\n",
              "      } catch (error) {\n",
              "        console.error('Error during call to suggestCharts:', error);\n",
              "      }\n",
              "      quickchartButtonEl.classList.remove('colab-df-spinner');\n",
              "      quickchartButtonEl.classList.add('colab-df-quickchart-complete');\n",
              "    }\n",
              "    (() => {\n",
              "      let quickchartButtonEl =\n",
              "        document.querySelector('#df-e5852afe-2a7a-4200-b9de-6631d1f1be1c button');\n",
              "      quickchartButtonEl.style.display =\n",
              "        google.colab.kernel.accessAllowed ? 'block' : 'none';\n",
              "    })();\n",
              "  </script>\n",
              "</div>\n",
              "\n",
              "    </div>\n",
              "  </div>\n"
            ],
            "application/vnd.google.colaboratory.intrinsic+json": {
              "type": "dataframe",
              "variable_name": "df"
            }
          },
          "metadata": {},
          "execution_count": 123
        }
      ]
    },
    {
      "cell_type": "code",
      "source": [
        "##Get the list of all columns\n",
        "df.columns"
      ],
      "metadata": {
        "colab": {
          "base_uri": "https://localhost:8080/"
        },
        "id": "_cCP6HKsbU4z",
        "outputId": "813c5457-cc34-4d90-f78e-afd3953c1b67"
      },
      "execution_count": null,
      "outputs": [
        {
          "output_type": "execute_result",
          "data": {
            "text/plain": [
              "Index(['coaster_name', 'Length', 'Speed', 'Location', 'Status', 'Opening date',\n",
              "       'Type', 'Manufacturer', 'Height restriction', 'Model', 'Height',\n",
              "       'Inversions', 'Lift/launch system', 'Cost', 'Trains', 'Park section',\n",
              "       'Duration', 'Capacity', 'G-force', 'Designer', 'Max vertical angle',\n",
              "       'Drop', 'Soft opening date', 'Fast Lane available', 'Replaced',\n",
              "       'Track layout', 'Fastrack available', 'Soft opening date.1',\n",
              "       'Closing date', 'Opened', 'Replaced by', 'Website',\n",
              "       'Flash Pass Available', 'Must transfer from wheelchair', 'Theme',\n",
              "       'Single rider line available', 'Restraint Style',\n",
              "       'Flash Pass available', 'Acceleration', 'Restraints', 'Name',\n",
              "       'year_introduced', 'latitude', 'longitude', 'Type_Main',\n",
              "       'opening_date_clean', 'speed1', 'speed2', 'speed1_value', 'speed1_unit',\n",
              "       'speed_mph', 'height_value', 'height_unit', 'height_ft',\n",
              "       'Inversions_clean', 'Gforce_clean'],\n",
              "      dtype='object')"
            ]
          },
          "metadata": {},
          "execution_count": 35
        }
      ]
    },
    {
      "cell_type": "code",
      "source": [
        "## check for nullable values in all columns\n",
        "df.isna().sum()"
      ],
      "metadata": {
        "colab": {
          "base_uri": "https://localhost:8080/"
        },
        "id": "CQJsqAacb3dN",
        "outputId": "07bbcdf0-a1ae-4d35-eb24-6ca7d46a295d"
      },
      "execution_count": null,
      "outputs": [
        {
          "output_type": "execute_result",
          "data": {
            "text/plain": [
              "coaster_name                        0\n",
              "Length                            134\n",
              "Speed                             150\n",
              "Location                            0\n",
              "Status                            213\n",
              "Opening date                      250\n",
              "Type                                0\n",
              "Manufacturer                       59\n",
              "Height restriction                256\n",
              "Model                             343\n",
              "Height                            122\n",
              "Inversions                        155\n",
              "Lift/launch system                292\n",
              "Cost                              705\n",
              "Trains                            369\n",
              "Park section                      600\n",
              "Duration                          322\n",
              "Capacity                          512\n",
              "G-force                           725\n",
              "Designer                          509\n",
              "Max vertical angle                730\n",
              "Drop                              593\n",
              "Soft opening date                 991\n",
              "Fast Lane available              1018\n",
              "Replaced                          914\n",
              "Track layout                      752\n",
              "Fastrack available               1068\n",
              "Soft opening date.1               991\n",
              "Closing date                      851\n",
              "Opened                           1060\n",
              "Replaced by                       999\n",
              "Website                          1000\n",
              "Flash Pass Available             1037\n",
              "Must transfer from wheelchair     981\n",
              "Theme                            1043\n",
              "Single rider line available      1006\n",
              "Restraint Style                  1065\n",
              "Flash Pass available             1041\n",
              "Acceleration                     1027\n",
              "Restraints                       1063\n",
              "Name                             1052\n",
              "year_introduced                     0\n",
              "latitude                          275\n",
              "longitude                         275\n",
              "Type_Main                           0\n",
              "opening_date_clean                250\n",
              "speed1                            150\n",
              "speed2                            152\n",
              "speed1_value                      150\n",
              "speed1_unit                       150\n",
              "speed_mph                         150\n",
              "height_value                      122\n",
              "height_unit                       122\n",
              "height_ft                         916\n",
              "Inversions_clean                    0\n",
              "Gforce_clean                      725\n",
              "dtype: int64"
            ]
          },
          "metadata": {},
          "execution_count": 37
        }
      ]
    },
    {
      "cell_type": "code",
      "source": [
        "#@ get the total rows and columns of dataframe\n",
        "df.shape"
      ],
      "metadata": {
        "colab": {
          "base_uri": "https://localhost:8080/"
        },
        "id": "ZdTUIDoScTA3",
        "outputId": "26e0ce8f-9433-49a5-a43c-3e40fe39a1aa"
      },
      "execution_count": null,
      "outputs": [
        {
          "output_type": "execute_result",
          "data": {
            "text/plain": [
              "(1087, 56)"
            ]
          },
          "metadata": {},
          "execution_count": 40
        }
      ]
    },
    {
      "cell_type": "markdown",
      "source": [
        "**Step 2: get the height and spped column from dataframe  and fillter one outlier values **"
      ],
      "metadata": {
        "id": "TmjmQ0kRC0eb"
      }
    },
    {
      "cell_type": "code",
      "source": [
        "df_height_speed= df[[\"height_value\",\"speed_mph\"]]\n",
        "df_height_speed.dropna(axis=0, inplace=True)\n",
        "df_height_speed.head(2)"
      ],
      "metadata": {
        "colab": {
          "base_uri": "https://localhost:8080/",
          "height": 293
        },
        "id": "VWNh3pp-chKt",
        "outputId": "b33ad89d-747c-49e1-ff65-8f063c74b8c1"
      },
      "execution_count": null,
      "outputs": [
        {
          "output_type": "stream",
          "name": "stderr",
          "text": [
            "<ipython-input-72-b3781fd6a62e>:2: SettingWithCopyWarning: \n",
            "A value is trying to be set on a copy of a slice from a DataFrame\n",
            "\n",
            "See the caveats in the documentation: https://pandas.pydata.org/pandas-docs/stable/user_guide/indexing.html#returning-a-view-versus-a-copy\n",
            "  df_height_speed.dropna(axis=0, inplace=True)\n"
          ]
        },
        {
          "output_type": "execute_result",
          "data": {
            "text/plain": [
              "    height_value  speed_mph\n",
              "0           50.0        6.0\n",
              "6           41.0       10.0\n",
              "13          72.5       40.0\n",
              "15          16.0       37.3\n",
              "16          70.0       40.0"
            ],
            "text/html": [
              "\n",
              "  <div id=\"df-32bad035-0cdc-405f-91be-4c45e4e4e1e0\" class=\"colab-df-container\">\n",
              "    <div>\n",
              "<style scoped>\n",
              "    .dataframe tbody tr th:only-of-type {\n",
              "        vertical-align: middle;\n",
              "    }\n",
              "\n",
              "    .dataframe tbody tr th {\n",
              "        vertical-align: top;\n",
              "    }\n",
              "\n",
              "    .dataframe thead th {\n",
              "        text-align: right;\n",
              "    }\n",
              "</style>\n",
              "<table border=\"1\" class=\"dataframe\">\n",
              "  <thead>\n",
              "    <tr style=\"text-align: right;\">\n",
              "      <th></th>\n",
              "      <th>height_value</th>\n",
              "      <th>speed_mph</th>\n",
              "    </tr>\n",
              "  </thead>\n",
              "  <tbody>\n",
              "    <tr>\n",
              "      <th>0</th>\n",
              "      <td>50.0</td>\n",
              "      <td>6.0</td>\n",
              "    </tr>\n",
              "    <tr>\n",
              "      <th>6</th>\n",
              "      <td>41.0</td>\n",
              "      <td>10.0</td>\n",
              "    </tr>\n",
              "    <tr>\n",
              "      <th>13</th>\n",
              "      <td>72.5</td>\n",
              "      <td>40.0</td>\n",
              "    </tr>\n",
              "    <tr>\n",
              "      <th>15</th>\n",
              "      <td>16.0</td>\n",
              "      <td>37.3</td>\n",
              "    </tr>\n",
              "    <tr>\n",
              "      <th>16</th>\n",
              "      <td>70.0</td>\n",
              "      <td>40.0</td>\n",
              "    </tr>\n",
              "  </tbody>\n",
              "</table>\n",
              "</div>\n",
              "    <div class=\"colab-df-buttons\">\n",
              "\n",
              "  <div class=\"colab-df-container\">\n",
              "    <button class=\"colab-df-convert\" onclick=\"convertToInteractive('df-32bad035-0cdc-405f-91be-4c45e4e4e1e0')\"\n",
              "            title=\"Convert this dataframe to an interactive table.\"\n",
              "            style=\"display:none;\">\n",
              "\n",
              "  <svg xmlns=\"http://www.w3.org/2000/svg\" height=\"24px\" viewBox=\"0 -960 960 960\">\n",
              "    <path d=\"M120-120v-720h720v720H120Zm60-500h600v-160H180v160Zm220 220h160v-160H400v160Zm0 220h160v-160H400v160ZM180-400h160v-160H180v160Zm440 0h160v-160H620v160ZM180-180h160v-160H180v160Zm440 0h160v-160H620v160Z\"/>\n",
              "  </svg>\n",
              "    </button>\n",
              "\n",
              "  <style>\n",
              "    .colab-df-container {\n",
              "      display:flex;\n",
              "      gap: 12px;\n",
              "    }\n",
              "\n",
              "    .colab-df-convert {\n",
              "      background-color: #E8F0FE;\n",
              "      border: none;\n",
              "      border-radius: 50%;\n",
              "      cursor: pointer;\n",
              "      display: none;\n",
              "      fill: #1967D2;\n",
              "      height: 32px;\n",
              "      padding: 0 0 0 0;\n",
              "      width: 32px;\n",
              "    }\n",
              "\n",
              "    .colab-df-convert:hover {\n",
              "      background-color: #E2EBFA;\n",
              "      box-shadow: 0px 1px 2px rgba(60, 64, 67, 0.3), 0px 1px 3px 1px rgba(60, 64, 67, 0.15);\n",
              "      fill: #174EA6;\n",
              "    }\n",
              "\n",
              "    .colab-df-buttons div {\n",
              "      margin-bottom: 4px;\n",
              "    }\n",
              "\n",
              "    [theme=dark] .colab-df-convert {\n",
              "      background-color: #3B4455;\n",
              "      fill: #D2E3FC;\n",
              "    }\n",
              "\n",
              "    [theme=dark] .colab-df-convert:hover {\n",
              "      background-color: #434B5C;\n",
              "      box-shadow: 0px 1px 3px 1px rgba(0, 0, 0, 0.15);\n",
              "      filter: drop-shadow(0px 1px 2px rgba(0, 0, 0, 0.3));\n",
              "      fill: #FFFFFF;\n",
              "    }\n",
              "  </style>\n",
              "\n",
              "    <script>\n",
              "      const buttonEl =\n",
              "        document.querySelector('#df-32bad035-0cdc-405f-91be-4c45e4e4e1e0 button.colab-df-convert');\n",
              "      buttonEl.style.display =\n",
              "        google.colab.kernel.accessAllowed ? 'block' : 'none';\n",
              "\n",
              "      async function convertToInteractive(key) {\n",
              "        const element = document.querySelector('#df-32bad035-0cdc-405f-91be-4c45e4e4e1e0');\n",
              "        const dataTable =\n",
              "          await google.colab.kernel.invokeFunction('convertToInteractive',\n",
              "                                                    [key], {});\n",
              "        if (!dataTable) return;\n",
              "\n",
              "        const docLinkHtml = 'Like what you see? Visit the ' +\n",
              "          '<a target=\"_blank\" href=https://colab.research.google.com/notebooks/data_table.ipynb>data table notebook</a>'\n",
              "          + ' to learn more about interactive tables.';\n",
              "        element.innerHTML = '';\n",
              "        dataTable['output_type'] = 'display_data';\n",
              "        await google.colab.output.renderOutput(dataTable, element);\n",
              "        const docLink = document.createElement('div');\n",
              "        docLink.innerHTML = docLinkHtml;\n",
              "        element.appendChild(docLink);\n",
              "      }\n",
              "    </script>\n",
              "  </div>\n",
              "\n",
              "\n",
              "<div id=\"df-5914e07d-e9a0-406a-8aa8-56de0693ec4c\">\n",
              "  <button class=\"colab-df-quickchart\" onclick=\"quickchart('df-5914e07d-e9a0-406a-8aa8-56de0693ec4c')\"\n",
              "            title=\"Suggest charts\"\n",
              "            style=\"display:none;\">\n",
              "\n",
              "<svg xmlns=\"http://www.w3.org/2000/svg\" height=\"24px\"viewBox=\"0 0 24 24\"\n",
              "     width=\"24px\">\n",
              "    <g>\n",
              "        <path d=\"M19 3H5c-1.1 0-2 .9-2 2v14c0 1.1.9 2 2 2h14c1.1 0 2-.9 2-2V5c0-1.1-.9-2-2-2zM9 17H7v-7h2v7zm4 0h-2V7h2v10zm4 0h-2v-4h2v4z\"/>\n",
              "    </g>\n",
              "</svg>\n",
              "  </button>\n",
              "\n",
              "<style>\n",
              "  .colab-df-quickchart {\n",
              "      --bg-color: #E8F0FE;\n",
              "      --fill-color: #1967D2;\n",
              "      --hover-bg-color: #E2EBFA;\n",
              "      --hover-fill-color: #174EA6;\n",
              "      --disabled-fill-color: #AAA;\n",
              "      --disabled-bg-color: #DDD;\n",
              "  }\n",
              "\n",
              "  [theme=dark] .colab-df-quickchart {\n",
              "      --bg-color: #3B4455;\n",
              "      --fill-color: #D2E3FC;\n",
              "      --hover-bg-color: #434B5C;\n",
              "      --hover-fill-color: #FFFFFF;\n",
              "      --disabled-bg-color: #3B4455;\n",
              "      --disabled-fill-color: #666;\n",
              "  }\n",
              "\n",
              "  .colab-df-quickchart {\n",
              "    background-color: var(--bg-color);\n",
              "    border: none;\n",
              "    border-radius: 50%;\n",
              "    cursor: pointer;\n",
              "    display: none;\n",
              "    fill: var(--fill-color);\n",
              "    height: 32px;\n",
              "    padding: 0;\n",
              "    width: 32px;\n",
              "  }\n",
              "\n",
              "  .colab-df-quickchart:hover {\n",
              "    background-color: var(--hover-bg-color);\n",
              "    box-shadow: 0 1px 2px rgba(60, 64, 67, 0.3), 0 1px 3px 1px rgba(60, 64, 67, 0.15);\n",
              "    fill: var(--button-hover-fill-color);\n",
              "  }\n",
              "\n",
              "  .colab-df-quickchart-complete:disabled,\n",
              "  .colab-df-quickchart-complete:disabled:hover {\n",
              "    background-color: var(--disabled-bg-color);\n",
              "    fill: var(--disabled-fill-color);\n",
              "    box-shadow: none;\n",
              "  }\n",
              "\n",
              "  .colab-df-spinner {\n",
              "    border: 2px solid var(--fill-color);\n",
              "    border-color: transparent;\n",
              "    border-bottom-color: var(--fill-color);\n",
              "    animation:\n",
              "      spin 1s steps(1) infinite;\n",
              "  }\n",
              "\n",
              "  @keyframes spin {\n",
              "    0% {\n",
              "      border-color: transparent;\n",
              "      border-bottom-color: var(--fill-color);\n",
              "      border-left-color: var(--fill-color);\n",
              "    }\n",
              "    20% {\n",
              "      border-color: transparent;\n",
              "      border-left-color: var(--fill-color);\n",
              "      border-top-color: var(--fill-color);\n",
              "    }\n",
              "    30% {\n",
              "      border-color: transparent;\n",
              "      border-left-color: var(--fill-color);\n",
              "      border-top-color: var(--fill-color);\n",
              "      border-right-color: var(--fill-color);\n",
              "    }\n",
              "    40% {\n",
              "      border-color: transparent;\n",
              "      border-right-color: var(--fill-color);\n",
              "      border-top-color: var(--fill-color);\n",
              "    }\n",
              "    60% {\n",
              "      border-color: transparent;\n",
              "      border-right-color: var(--fill-color);\n",
              "    }\n",
              "    80% {\n",
              "      border-color: transparent;\n",
              "      border-right-color: var(--fill-color);\n",
              "      border-bottom-color: var(--fill-color);\n",
              "    }\n",
              "    90% {\n",
              "      border-color: transparent;\n",
              "      border-bottom-color: var(--fill-color);\n",
              "    }\n",
              "  }\n",
              "</style>\n",
              "\n",
              "  <script>\n",
              "    async function quickchart(key) {\n",
              "      const quickchartButtonEl =\n",
              "        document.querySelector('#' + key + ' button');\n",
              "      quickchartButtonEl.disabled = true;  // To prevent multiple clicks.\n",
              "      quickchartButtonEl.classList.add('colab-df-spinner');\n",
              "      try {\n",
              "        const charts = await google.colab.kernel.invokeFunction(\n",
              "            'suggestCharts', [key], {});\n",
              "      } catch (error) {\n",
              "        console.error('Error during call to suggestCharts:', error);\n",
              "      }\n",
              "      quickchartButtonEl.classList.remove('colab-df-spinner');\n",
              "      quickchartButtonEl.classList.add('colab-df-quickchart-complete');\n",
              "    }\n",
              "    (() => {\n",
              "      let quickchartButtonEl =\n",
              "        document.querySelector('#df-5914e07d-e9a0-406a-8aa8-56de0693ec4c button');\n",
              "      quickchartButtonEl.style.display =\n",
              "        google.colab.kernel.accessAllowed ? 'block' : 'none';\n",
              "    })();\n",
              "  </script>\n",
              "</div>\n",
              "\n",
              "    </div>\n",
              "  </div>\n"
            ],
            "application/vnd.google.colaboratory.intrinsic+json": {
              "type": "dataframe",
              "variable_name": "df_height_speed",
              "summary": "{\n  \"name\": \"df_height_speed\",\n  \"rows\": 904,\n  \"fields\": [\n    {\n      \"column\": \"height_value\",\n      \"properties\": {\n        \"dtype\": \"number\",\n        \"std\": 139.92727983568508,\n        \"min\": 4.5,\n        \"max\": 3937.0,\n        \"num_unique_values\": 315,\n        \"samples\": [\n          117.8,\n          88.0,\n          109.3\n        ],\n        \"semantic_type\": \"\",\n        \"description\": \"\"\n      }\n    },\n    {\n      \"column\": \"speed_mph\",\n      \"properties\": {\n        \"dtype\": \"number\",\n        \"std\": 16.708252889776368,\n        \"min\": 5.0,\n        \"max\": 149.1,\n        \"num_unique_values\": 172,\n        \"samples\": [\n          50.3,\n          50.1,\n          51.6\n        ],\n        \"semantic_type\": \"\",\n        \"description\": \"\"\n      }\n    }\n  ]\n}"
            }
          },
          "metadata": {},
          "execution_count": 72
        }
      ]
    },
    {
      "cell_type": "code",
      "source": [
        "## filter out the one height values\n",
        "df_height_speed =df_height_speed[(df[\"height_value\"] < 3900)]"
      ],
      "metadata": {
        "colab": {
          "base_uri": "https://localhost:8080/"
        },
        "id": "aWULdVCK7ARo",
        "outputId": "6d9b160e-49e2-4916-fdd2-61153d31804f"
      },
      "execution_count": null,
      "outputs": [
        {
          "output_type": "stream",
          "name": "stderr",
          "text": [
            "<ipython-input-97-c7239ff5a046>:1: UserWarning: Boolean Series key will be reindexed to match DataFrame index.\n",
            "  df_height_speed =df_height_speed[(df[\"height_value\"] < 3900)]\n"
          ]
        }
      ]
    },
    {
      "cell_type": "markdown",
      "source": [
        "**Step 3: Display the data in chart for visiualization and understand the trend of data**"
      ],
      "metadata": {
        "id": "1GoEHYIrDVEj"
      }
    },
    {
      "source": [
        "# @title Height vs Speed\n",
        "\n",
        "plt.figure(figsize=(10, 6))\n",
        "#alpha -- The alpha blending value, between 0 (transparent) and 1 (opaque).\n",
        "plt.scatter( df_height_speed['height_value'],df_height_speed['speed_mph'], alpha=0.5)\n",
        "plt.xlabel('Height')\n",
        "plt.ylabel('Speed (mph)')\n",
        "_ = plt.title('Height vs Speed')"
      ],
      "cell_type": "code",
      "execution_count": null,
      "outputs": [
        {
          "output_type": "display_data",
          "data": {
            "text/plain": [
              "<Figure size 1000x600 with 1 Axes>"
            ],
            "image/png": "[encoded data removed]"
          },
          "metadata": {}
        }
      ],
      "metadata": {
        "colab": {
          "base_uri": "https://localhost:8080/",
          "height": 564
        },
        "id": "TZCDMIQTloF-",
        "outputId": "155141cf-ebb4-4e30-cf3d-9a5650672784"
      }
    },
    {
      "cell_type": "markdown",
      "source": [
        "**Step 4: initialized input and output variable **"
      ],
      "metadata": {
        "id": "ifDCTzgwDkhb"
      }
    },
    {
      "cell_type": "code",
      "source": [
        "inputx = df_height_speed.iloc[:, :-1].values\n",
        "outputy = df_height_speed.iloc[:, 1].values"
      ],
      "metadata": {
        "id": "Mk95nHOhgjMK"
      },
      "execution_count": null,
      "outputs": []
    },
    {
      "cell_type": "markdown",
      "source": [
        "**Step 5: split the data into train and test for input and output**"
      ],
      "metadata": {
        "id": "pj9g3ERFDtPF"
      }
    },
    {
      "cell_type": "code",
      "source": [
        "input_train, input_test, output_train, output_test = train_test_split(inputx, outputy, test_size = 1/4, random_state = 7)"
      ],
      "metadata": {
        "id": "X8LIGqsagsjj"
      },
      "execution_count": null,
      "outputs": []
    },
    {
      "cell_type": "markdown",
      "source": [
        "**Step 6: selecting the simple Linear Regression model**"
      ],
      "metadata": {
        "id": "OQLP0h8AgZhF"
      }
    },
    {
      "cell_type": "code",
      "source": [
        "# model = LinearRegression()\n",
        "model = LinearRegression(copy_X= True, fit_intercept= True, n_jobs= None, positive= True)\n",
        "print(\"\\nThe parameters of the model are\\n\\n\",model.get_params())\n",
        "#print(model.set_params())\n",
        "print(\"\\nThe model we are using is \", model.fit(input_train, output_train))"
      ],
      "metadata": {
        "colab": {
          "base_uri": "https://localhost:8080/"
        },
        "id": "8ehZ5935fSEL",
        "outputId": "5776c9df-26ea-4d78-f9d0-bfe10f196117"
      },
      "execution_count": null,
      "outputs": [
        {
          "output_type": "stream",
          "name": "stdout",
          "text": [
            "\n",
            "The parameters of the model are\n",
            "\n",
            " {'copy_X': True, 'fit_intercept': True, 'n_jobs': None, 'positive': True}\n",
            "\n",
            "The model we are using is  LinearRegression(positive=True)\n"
          ]
        }
      ]
    },
    {
      "cell_type": "code",
      "source": [
        "mean_squared_error1 = mean_squared_error(output_test, model.predict(input_test))\n",
        "print(\"\\nThe mean squared error is \", mean_squared_error1)"
      ],
      "metadata": {
        "colab": {
          "base_uri": "https://localhost:8080/"
        },
        "id": "-PVRYc6i-O1j",
        "outputId": "58cf9a02-b26d-4143-fa41-da5ccb9f4405"
      },
      "execution_count": null,
      "outputs": [
        {
          "output_type": "stream",
          "name": "stdout",
          "text": [
            "\n",
            "The mean squared error is  95.76451072052754\n"
          ]
        }
      ]
    },
    {
      "cell_type": "code",
      "source": [
        "r2_score = r2_score(output_test, model.predict(input_test))\n",
        "print(\"\\nThe r2 score is \", r2_score)"
      ],
      "metadata": {
        "colab": {
          "base_uri": "https://localhost:8080/"
        },
        "id": "NlE7QlXk-nhJ",
        "outputId": "a48b9ae3-a873-40a3-8e26-a7ba3afd265e"
      },
      "execution_count": null,
      "outputs": [
        {
          "output_type": "stream",
          "name": "stdout",
          "text": [
            "\n",
            "The r2 score is  0.5926020113459822\n"
          ]
        }
      ]
    },
    {
      "cell_type": "code",
      "source": [
        "years = float(input(\"\\nGive height of roller coster \"))\n",
        "testinput = [[years]]\n",
        "predicted_output = model.predict(testinput)\n",
        "print('\\nThe height of roller coster is ',testinput)\n",
        "print('\\nThe sped of roller coster is ',predicted_output)"
      ],
      "metadata": {
        "colab": {
          "base_uri": "https://localhost:8080/"
        },
        "id": "FM8y8N1IhVFv",
        "outputId": "0ad721b1-19c6-4e36-94a0-f69f46c7f6b7"
      },
      "execution_count": null,
      "outputs": [
        {
          "output_type": "stream",
          "name": "stdout",
          "text": [
            "\n",
            "Give height of roller coster 400\n",
            "\n",
            "The height of roller coster is  [[400.0]]\n",
            "\n",
            "The sped of roller coster is  [112.77991371]\n"
          ]
        }
      ]
    },
    {
      "cell_type": "markdown",
      "source": [
        "**step 7: Visualising the training results**"
      ],
      "metadata": {
        "id": "jg9hgfTTCI2U"
      }
    },
    {
      "cell_type": "code",
      "source": [
        "plt.scatter(input_train, output_train, color = 'red')\n",
        "plt.plot(input_train, model.predict(input_train), color = 'yellow')\n",
        "plt.title('Height vs Speed (Training set)')\n",
        "plt.xlabel('Height')\n",
        "plt.ylabel('Spped')\n",
        "plt.show()"
      ],
      "metadata": {
        "colab": {
          "base_uri": "https://localhost:8080/",
          "height": 472
        },
        "id": "ZPynqfFIiHnO",
        "outputId": "5707f21b-38e0-44af-dac0-52dafbc51158"
      },
      "execution_count": null,
      "outputs": [
        {
          "output_type": "display_data",
          "data": {
            "text/plain": [
              "<Figure size 640x480 with 1 Axes>"
            ],
            "image/png": "[encoded data removed]"
          },
          "metadata": {}
        }
      ]
    }
  ]
}