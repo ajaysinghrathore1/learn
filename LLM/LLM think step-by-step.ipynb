{
 "cells": [
  {
   "cell_type": "code",
   "execution_count": 1,
   "id": "c9185232",
   "metadata": {},
   "outputs": [],
   "source": [
    "# !pip install langchain\n",
    "# !pip install langchain_community\n",
    "# !pip install langchain_google_genai\n",
    "\n",
    "gemini_api_key =\"\""
   ]
  },
  {
   "cell_type": "code",
   "execution_count": 2,
   "id": "97b57cba",
   "metadata": {},
   "outputs": [
    {
     "name": "stderr",
     "output_type": "stream",
     "text": [
      "C:\\Python310\\lib\\site-packages\\sentence_transformers\\cross_encoder\\CrossEncoder.py:11: TqdmWarning: IProgress not found. Please update jupyter and ipywidgets. See https://ipywidgets.readthedocs.io/en/stable/user_install.html\n",
      "  from tqdm.autonotebook import tqdm, trange\n"
     ]
    }
   ],
   "source": [
    "from langchain.text_splitter import RecursiveCharacterTextSplitter\n",
    "\n",
    "from langchain_community.vectorstores import Chroma\n",
    "from langchain.prompts import ChatPromptTemplate\n",
    "\n",
    "from langchain_community.embeddings import HuggingFaceEmbeddings\n",
    "from sentence_transformers import SentenceTransformer\n",
    "from langchain_community.document_loaders import TextLoader\n",
    "from langchain_google_genai import ChatGoogleGenerativeAI\n",
    "from langchain.agents import load_tools, initialize_agent\n",
    "from langchain_google_genai import ChatGoogleGenerativeAI"
   ]
  },
  {
   "cell_type": "code",
   "execution_count": 13,
   "id": "5cca795d",
   "metadata": {},
   "outputs": [
    {
     "name": "stdout",
     "output_type": "stream",
     "text": [
      "##  Junior Software Engineer - Make Your Mark on Mayhem!\n",
      "\n",
      "**Acme Corporation - Delhi, India**\n",
      "\n",
      "**About Acme Corporation:**\n",
      "\n",
      "Remember those ingenious (and slightly chaotic) contraptions from your favorite cartoons? That's us! Acme Corporation is the industry leader in innovative product development. From self-inflating rafts to rocket-powered roller skates, we bring imagination to life (sometimes literally!). \n",
      "\n",
      "**We're looking for a passionate Junior Software Engineer to join our dynamic team in Delhi. You'll be instrumental in developing and maintaining the software behind our groundbreaking (and occasionally gravity-defying) products.**\n",
      "\n",
      "**Responsibilities:**\n",
      "\n",
      "* Assist senior engineers in designing, developing, and testing software applications for a variety of Acme products.\n",
      "* Write clean, efficient, and well-documented code.\n",
      "* Collaborate with cross-functional teams (think engineers, designers, and maybe even a super-genius chicken) to bring product visions to reality.\n",
      "* Learn and implement new technologies and best practices.\n",
      "* Participate in code reviews and contribute to a culture of continuous improvement.\n",
      "* Troubleshoot and debug software issues with a keen eye for detail. \n",
      "* Embrace the occasional explosion (figuratively speaking, of course!).\n",
      "\n",
      "**Qualifications:**\n",
      "\n",
      "* Bachelor's degree in Computer Science or a related field.\n",
      "* 0-2 years of experience in software development.\n",
      "* Strong understanding of object-oriented programming principles.\n",
      "* Proficiency in at least one programming language (Java, Python, C++, or similar).\n",
      "* Familiarity with version control systems (Git preferred).\n",
      "* Excellent problem-solving and analytical skills.\n",
      "* Ability to work independently and as part of a team.\n",
      "* A sense of humor and a love for all things wacky!\n",
      "\n",
      "**Benefits:**\n",
      "\n",
      "* Competitive salary and benefits package.\n",
      "* Opportunity to work on cutting-edge (and potentially explosive) projects.\n",
      "* Collaborative and supportive work environment.\n",
      "* Comprehensive training and development opportunities.\n",
      "* Chance to learn from experienced industry professionals.\n",
      "* Free Acme product testing (disclaimer: safety not guaranteed).\n",
      "\n",
      "**To Apply:**\n",
      "\n",
      "If you're a highly motivated individual with a passion for software development and a desire to work on projects that are anything but ordinary, we want to hear from you!\n",
      "\n",
      "Please send your resume and a cover letter highlighting your relevant skills and experience to **career@acme.com.**\n",
      "\n",
      "**Acme Corporation is an equal opportunity employer. All qualified applicants will receive consideration for employment without regard to race, color, religion, sex, national origin, disability status, protected veteran status, or any other characteristic protected by law.** \n",
      "\n"
     ]
    }
   ],
   "source": [
    "about_company =\"This diabolical Looney Tunes mega-corp responsible for falling anvils and other humorous disasters has created some of our best memories of cartoon mischief. In the show, Acme Corp produces everything from TNT to explosive tennis balls. In reality, the mark was used from the 1940s onward as a popular generic company name valued because it placed companies at the top of local phonebooks. The English word acme is synonymous with zenith or peak; so, fittingly, this name tops our list. Consider Acme the gold standard in evil brand naming.\"\n",
    "prompt =f\"\"\"as a recuriter, write a job description for a junior software engineer for company Acme Corporation for location Delhi.\n",
    "**About Acme Corporation: <{about_company}>  email_id career@acme.com\"\"\"\n",
    "\n",
    "\n",
    "# call LLM model to generate the answer based on the given context and query\n",
    "model = ChatGoogleGenerativeAI(model=\"gemini-1.5-pro\",api_key=gemini_api_key)\n",
    "\n",
    "\n",
    "# model = ChatGoogleGenerativeAI(model=\"gemini-pro\",api_key=gemini_api_key)\n",
    "response_text = model.predict(prompt)\n",
    "print(response_text)"
   ]
  },
  {
   "cell_type": "code",
   "execution_count": null,
   "id": "fefbd663",
   "metadata": {},
   "outputs": [],
   "source": []
  }
 ],
 "metadata": {
  "kernelspec": {
   "display_name": "Python 3 (ipykernel)",
   "language": "python",
   "name": "python3"
  },
  "language_info": {
   "codemirror_mode": {
    "name": "ipython",
    "version": 3
   },
   "file_extension": ".py",
   "mimetype": "text/x-python",
   "name": "python",
   "nbconvert_exporter": "python",
   "pygments_lexer": "ipython3",
   "version": "3.10.9"
  }
 },
 "nbformat": 4,
 "nbformat_minor": 5
}
